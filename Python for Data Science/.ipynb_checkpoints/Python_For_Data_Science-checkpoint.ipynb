{
 "cells": [
  {
   "cell_type": "code",
   "execution_count": 64,
   "id": "d59c8c96",
   "metadata": {},
   "outputs": [],
   "source": [
    "import pandas as pd\n",
    "import numpy as  np\n",
    "import matplotlib.pyplot as plt\n",
    "import scipy.stats as stats\n",
    "import plotly.express as px"
   ]
  },
  {
   "cell_type": "markdown",
   "id": "c0466cbb",
   "metadata": {},
   "source": [
    "# PART 1"
   ]
  },
  {
   "cell_type": "markdown",
   "id": "1aa4a69a",
   "metadata": {},
   "source": [
    "### Question 1\n",
    "\n",
    "#### Read in the 'gapminder_clean.csv' data as a 'pandas' 'DataFrame'."
   ]
  },
  {
   "cell_type": "code",
   "execution_count": 65,
   "id": "76b2f19c",
   "metadata": {},
   "outputs": [],
   "source": [
    "# Read in gapminder_clean.csv data as a pandas DataFrame\n",
    "df = pd.read_csv('gapminder_clean.csv')\n",
    "\n",
    "# Remove NaNs from both subsets\n",
    "df_g = df.dropna(subset=['gdpPercap'])\n",
    "df_gc = df_g.dropna(subset=['CO2 emissions (metric tons per capita)'])\n"
   ]
  },
  {
   "cell_type": "markdown",
   "id": "80cdf0ab",
   "metadata": {},
   "source": [
    "### Question 2\n",
    "\n",
    "#### Filter the data to include only rows where 'Year' is '1962' and then make a scatter plot comparing 'CO2 emissions (metric tons per capita)' and 'gdpPercap' for the filtered data."
   ]
  },
  {
   "cell_type": "code",
   "execution_count": 66,
   "id": "dc24d381",
   "metadata": {},
   "outputs": [
    {
     "data": {
      "application/vnd.plotly.v1+json": {
       "config": {
        "plotlyServerURL": "https://plot.ly"
       },
       "data": [
        {
         "hovertemplate": "gdpPercap=%{x}<br>CO2 emissions (metric tons per capita)=%{y}<extra></extra>",
         "legendgroup": "",
         "marker": {
          "color": "#636efa",
          "symbol": "circle"
         },
         "mode": "markers",
         "name": "",
         "orientation": "v",
         "showlegend": false,
         "type": "scatter",
         "x": [
          853.1007099999999,
          2312.888958,
          2550.81688,
          4269.276742,
          7133.166023000001,
          12217.22686,
          10750.72111,
          12753.27514,
          10991.20676,
          949.4990641,
          2180.972546,
          3336.585802,
          4254.337839,
          722.5120206,
          355.2032273,
          496.9136476,
          1399.607441,
          13462.48555,
          1193.068753,
          1389.817618,
          4519.094331,
          487.6740183,
          2492.351109,
          1406.648278,
          3460.937025,
          1728.8694280000002,
          5180.75591,
          13583.31351,
          3020.989263,
          1662.137359,
          4086.114078,
          3776.803627,
          582.8419713999999,
          419.4564161,
          9371.842561,
          10560.48553,
          6631.459222,
          1190.041118,
          6017.190732999999,
          2750.364446,
          686.3736739,
          522.0343725,
          1796.589032,
          2291.156835,
          7550.359877,
          10350.15906,
          658.3471509,
          849.2897700999999,
          8341.737815,
          6631.597314,
          7105.630706,
          8243.58234,
          5246.107524,
          6576.649461,
          2348.009158,
          896.9663732,
          95458.11176,
          5714.560611,
          634.1951625,
          6757.030816,
          1643.38711,
          496.1743428,
          1055.896036,
          2529.0674870000003,
          4581.609385,
          1056.353958,
          1566.353493,
          556.6863539,
          388,
          652.3968593,
          12790.84956,
          13175.678,
          3634.364406,
          997.7661127,
          1150.9274779999998,
          13450.40151,
          803.3427418,
          3536.540301,
          2148.027146,
          4957.037982,
          1649.552153,
          5338.752143,
          4727.954889,
          4734.997586,
          597.4730727000001,
          1071.551119,
          11626.41975,
          1654.988723,
          1116.6398769999998,
          3674.735572,
          1369.488336,
          5768.729717,
          5693.843879,
          1074.47196,
          1959.593767,
          12329.44192,
          20431.0927,
          722.0038073,
          1002.199172,
          1067.53481,
          4997.5239710000005,
          1660.30321,
          2322.869908,
          767.2717397999999,
          12477.17707,
          16173.14586,
          5603.357717,
          772.0491602000001
         ],
         "xaxis": "x",
         "y": [
          0.0737813379863999,
          1.43995596379,
          0.484953660141,
          0.216025342555,
          2.5223921045,
          8.83568804692,
          4.7553616731,
          9.19360857735,
          10.6411896304,
          0.0542015282643,
          0.28662649397,
          0.6972807432160001,
          3.83589181807,
          0.0170031197553,
          0.0152025731471,
          0.0511105919396,
          0.0517885260883,
          11.1306274847,
          0.0471138131996,
          0.0270119656401,
          2.07658831467,
          0.661428164381,
          1.11098569008,
          0.0564269593763,
          0.383956810879,
          0.156855909486,
          1.90181472038,
          7.945107361080001,
          0.5060615711249999,
          0.353029129213,
          0.325336408962,
          0.221683679656,
          0.0852989067225,
          0.0170548363485,
          3.74256736643,
          6.20757823899,
          0.172630373122,
          0.202357559414,
          1.2032011901200002,
          0.317326737332,
          0.178831523506,
          0.0640297282582,
          0.0756628306695,
          0.327409489867,
          5.025038030219999,
          6.57485551985,
          0.306519469024,
          0.248446979292,
          1.17690410231,
          4.62633804058,
          3.46389969472,
          2.87849638705,
          1.26277490114,
          3.05973635111,
          1.08930257389,
          0.304273984865,
          42.6371176837,
          1.48373168315,
          0.216209634212,
          0.6827006449699999,
          0.0739884401703,
          0.0258941544429,
          0.0685667838429,
          0.361281304036,
          1.5697444180899998,
          1.95074792748,
          0.235120747573,
          0.254829220109,
          0.128404767028,
          0.00848101403663,
          7.060853796839999,
          4.51652659146,
          0.349874904588,
          0.018352266424,
          0.0887217732028,
          3.86862605863,
          0.34177551477,
          0.991186587845,
          0.195662374952,
          0.93614496813,
          0.36851208177,
          7.15360516027,
          1.0343778647600002,
          3.4202858664999995,
          0.0276473843144,
          0.1707460925979999,
          1.43389833694,
          0.24254227941,
          0.145725026244,
          1.47291795223,
          0.0369895900581,
          5.729711710680001,
          1.93578153318,
          0.245449870727,
          0.134379625666,
          6.787859772309999,
          4.3335720686800006,
          0.0717344659547,
          0.173129692727,
          0.0545698734714,
          8.22557012974,
          0.4129873717800001,
          0.748240893242,
          0.0592582617361,
          11.1429283944,
          16.013937498,
          1.54065748629,
          0.258759875979
         ],
         "yaxis": "y"
        }
       ],
       "layout": {
        "legend": {
         "tracegroupgap": 0
        },
        "margin": {
         "t": 60
        },
        "template": {
         "data": {
          "bar": [
           {
            "error_x": {
             "color": "#2a3f5f"
            },
            "error_y": {
             "color": "#2a3f5f"
            },
            "marker": {
             "line": {
              "color": "#E5ECF6",
              "width": 0.5
             },
             "pattern": {
              "fillmode": "overlay",
              "size": 10,
              "solidity": 0.2
             }
            },
            "type": "bar"
           }
          ],
          "barpolar": [
           {
            "marker": {
             "line": {
              "color": "#E5ECF6",
              "width": 0.5
             },
             "pattern": {
              "fillmode": "overlay",
              "size": 10,
              "solidity": 0.2
             }
            },
            "type": "barpolar"
           }
          ],
          "carpet": [
           {
            "aaxis": {
             "endlinecolor": "#2a3f5f",
             "gridcolor": "white",
             "linecolor": "white",
             "minorgridcolor": "white",
             "startlinecolor": "#2a3f5f"
            },
            "baxis": {
             "endlinecolor": "#2a3f5f",
             "gridcolor": "white",
             "linecolor": "white",
             "minorgridcolor": "white",
             "startlinecolor": "#2a3f5f"
            },
            "type": "carpet"
           }
          ],
          "choropleth": [
           {
            "colorbar": {
             "outlinewidth": 0,
             "ticks": ""
            },
            "type": "choropleth"
           }
          ],
          "contour": [
           {
            "colorbar": {
             "outlinewidth": 0,
             "ticks": ""
            },
            "colorscale": [
             [
              0,
              "#0d0887"
             ],
             [
              0.1111111111111111,
              "#46039f"
             ],
             [
              0.2222222222222222,
              "#7201a8"
             ],
             [
              0.3333333333333333,
              "#9c179e"
             ],
             [
              0.4444444444444444,
              "#bd3786"
             ],
             [
              0.5555555555555556,
              "#d8576b"
             ],
             [
              0.6666666666666666,
              "#ed7953"
             ],
             [
              0.7777777777777778,
              "#fb9f3a"
             ],
             [
              0.8888888888888888,
              "#fdca26"
             ],
             [
              1,
              "#f0f921"
             ]
            ],
            "type": "contour"
           }
          ],
          "contourcarpet": [
           {
            "colorbar": {
             "outlinewidth": 0,
             "ticks": ""
            },
            "type": "contourcarpet"
           }
          ],
          "heatmap": [
           {
            "colorbar": {
             "outlinewidth": 0,
             "ticks": ""
            },
            "colorscale": [
             [
              0,
              "#0d0887"
             ],
             [
              0.1111111111111111,
              "#46039f"
             ],
             [
              0.2222222222222222,
              "#7201a8"
             ],
             [
              0.3333333333333333,
              "#9c179e"
             ],
             [
              0.4444444444444444,
              "#bd3786"
             ],
             [
              0.5555555555555556,
              "#d8576b"
             ],
             [
              0.6666666666666666,
              "#ed7953"
             ],
             [
              0.7777777777777778,
              "#fb9f3a"
             ],
             [
              0.8888888888888888,
              "#fdca26"
             ],
             [
              1,
              "#f0f921"
             ]
            ],
            "type": "heatmap"
           }
          ],
          "heatmapgl": [
           {
            "colorbar": {
             "outlinewidth": 0,
             "ticks": ""
            },
            "colorscale": [
             [
              0,
              "#0d0887"
             ],
             [
              0.1111111111111111,
              "#46039f"
             ],
             [
              0.2222222222222222,
              "#7201a8"
             ],
             [
              0.3333333333333333,
              "#9c179e"
             ],
             [
              0.4444444444444444,
              "#bd3786"
             ],
             [
              0.5555555555555556,
              "#d8576b"
             ],
             [
              0.6666666666666666,
              "#ed7953"
             ],
             [
              0.7777777777777778,
              "#fb9f3a"
             ],
             [
              0.8888888888888888,
              "#fdca26"
             ],
             [
              1,
              "#f0f921"
             ]
            ],
            "type": "heatmapgl"
           }
          ],
          "histogram": [
           {
            "marker": {
             "pattern": {
              "fillmode": "overlay",
              "size": 10,
              "solidity": 0.2
             }
            },
            "type": "histogram"
           }
          ],
          "histogram2d": [
           {
            "colorbar": {
             "outlinewidth": 0,
             "ticks": ""
            },
            "colorscale": [
             [
              0,
              "#0d0887"
             ],
             [
              0.1111111111111111,
              "#46039f"
             ],
             [
              0.2222222222222222,
              "#7201a8"
             ],
             [
              0.3333333333333333,
              "#9c179e"
             ],
             [
              0.4444444444444444,
              "#bd3786"
             ],
             [
              0.5555555555555556,
              "#d8576b"
             ],
             [
              0.6666666666666666,
              "#ed7953"
             ],
             [
              0.7777777777777778,
              "#fb9f3a"
             ],
             [
              0.8888888888888888,
              "#fdca26"
             ],
             [
              1,
              "#f0f921"
             ]
            ],
            "type": "histogram2d"
           }
          ],
          "histogram2dcontour": [
           {
            "colorbar": {
             "outlinewidth": 0,
             "ticks": ""
            },
            "colorscale": [
             [
              0,
              "#0d0887"
             ],
             [
              0.1111111111111111,
              "#46039f"
             ],
             [
              0.2222222222222222,
              "#7201a8"
             ],
             [
              0.3333333333333333,
              "#9c179e"
             ],
             [
              0.4444444444444444,
              "#bd3786"
             ],
             [
              0.5555555555555556,
              "#d8576b"
             ],
             [
              0.6666666666666666,
              "#ed7953"
             ],
             [
              0.7777777777777778,
              "#fb9f3a"
             ],
             [
              0.8888888888888888,
              "#fdca26"
             ],
             [
              1,
              "#f0f921"
             ]
            ],
            "type": "histogram2dcontour"
           }
          ],
          "mesh3d": [
           {
            "colorbar": {
             "outlinewidth": 0,
             "ticks": ""
            },
            "type": "mesh3d"
           }
          ],
          "parcoords": [
           {
            "line": {
             "colorbar": {
              "outlinewidth": 0,
              "ticks": ""
             }
            },
            "type": "parcoords"
           }
          ],
          "pie": [
           {
            "automargin": true,
            "type": "pie"
           }
          ],
          "scatter": [
           {
            "fillpattern": {
             "fillmode": "overlay",
             "size": 10,
             "solidity": 0.2
            },
            "type": "scatter"
           }
          ],
          "scatter3d": [
           {
            "line": {
             "colorbar": {
              "outlinewidth": 0,
              "ticks": ""
             }
            },
            "marker": {
             "colorbar": {
              "outlinewidth": 0,
              "ticks": ""
             }
            },
            "type": "scatter3d"
           }
          ],
          "scattercarpet": [
           {
            "marker": {
             "colorbar": {
              "outlinewidth": 0,
              "ticks": ""
             }
            },
            "type": "scattercarpet"
           }
          ],
          "scattergeo": [
           {
            "marker": {
             "colorbar": {
              "outlinewidth": 0,
              "ticks": ""
             }
            },
            "type": "scattergeo"
           }
          ],
          "scattergl": [
           {
            "marker": {
             "colorbar": {
              "outlinewidth": 0,
              "ticks": ""
             }
            },
            "type": "scattergl"
           }
          ],
          "scattermapbox": [
           {
            "marker": {
             "colorbar": {
              "outlinewidth": 0,
              "ticks": ""
             }
            },
            "type": "scattermapbox"
           }
          ],
          "scatterpolar": [
           {
            "marker": {
             "colorbar": {
              "outlinewidth": 0,
              "ticks": ""
             }
            },
            "type": "scatterpolar"
           }
          ],
          "scatterpolargl": [
           {
            "marker": {
             "colorbar": {
              "outlinewidth": 0,
              "ticks": ""
             }
            },
            "type": "scatterpolargl"
           }
          ],
          "scatterternary": [
           {
            "marker": {
             "colorbar": {
              "outlinewidth": 0,
              "ticks": ""
             }
            },
            "type": "scatterternary"
           }
          ],
          "surface": [
           {
            "colorbar": {
             "outlinewidth": 0,
             "ticks": ""
            },
            "colorscale": [
             [
              0,
              "#0d0887"
             ],
             [
              0.1111111111111111,
              "#46039f"
             ],
             [
              0.2222222222222222,
              "#7201a8"
             ],
             [
              0.3333333333333333,
              "#9c179e"
             ],
             [
              0.4444444444444444,
              "#bd3786"
             ],
             [
              0.5555555555555556,
              "#d8576b"
             ],
             [
              0.6666666666666666,
              "#ed7953"
             ],
             [
              0.7777777777777778,
              "#fb9f3a"
             ],
             [
              0.8888888888888888,
              "#fdca26"
             ],
             [
              1,
              "#f0f921"
             ]
            ],
            "type": "surface"
           }
          ],
          "table": [
           {
            "cells": {
             "fill": {
              "color": "#EBF0F8"
             },
             "line": {
              "color": "white"
             }
            },
            "header": {
             "fill": {
              "color": "#C8D4E3"
             },
             "line": {
              "color": "white"
             }
            },
            "type": "table"
           }
          ]
         },
         "layout": {
          "annotationdefaults": {
           "arrowcolor": "#2a3f5f",
           "arrowhead": 0,
           "arrowwidth": 1
          },
          "autotypenumbers": "strict",
          "coloraxis": {
           "colorbar": {
            "outlinewidth": 0,
            "ticks": ""
           }
          },
          "colorscale": {
           "diverging": [
            [
             0,
             "#8e0152"
            ],
            [
             0.1,
             "#c51b7d"
            ],
            [
             0.2,
             "#de77ae"
            ],
            [
             0.3,
             "#f1b6da"
            ],
            [
             0.4,
             "#fde0ef"
            ],
            [
             0.5,
             "#f7f7f7"
            ],
            [
             0.6,
             "#e6f5d0"
            ],
            [
             0.7,
             "#b8e186"
            ],
            [
             0.8,
             "#7fbc41"
            ],
            [
             0.9,
             "#4d9221"
            ],
            [
             1,
             "#276419"
            ]
           ],
           "sequential": [
            [
             0,
             "#0d0887"
            ],
            [
             0.1111111111111111,
             "#46039f"
            ],
            [
             0.2222222222222222,
             "#7201a8"
            ],
            [
             0.3333333333333333,
             "#9c179e"
            ],
            [
             0.4444444444444444,
             "#bd3786"
            ],
            [
             0.5555555555555556,
             "#d8576b"
            ],
            [
             0.6666666666666666,
             "#ed7953"
            ],
            [
             0.7777777777777778,
             "#fb9f3a"
            ],
            [
             0.8888888888888888,
             "#fdca26"
            ],
            [
             1,
             "#f0f921"
            ]
           ],
           "sequentialminus": [
            [
             0,
             "#0d0887"
            ],
            [
             0.1111111111111111,
             "#46039f"
            ],
            [
             0.2222222222222222,
             "#7201a8"
            ],
            [
             0.3333333333333333,
             "#9c179e"
            ],
            [
             0.4444444444444444,
             "#bd3786"
            ],
            [
             0.5555555555555556,
             "#d8576b"
            ],
            [
             0.6666666666666666,
             "#ed7953"
            ],
            [
             0.7777777777777778,
             "#fb9f3a"
            ],
            [
             0.8888888888888888,
             "#fdca26"
            ],
            [
             1,
             "#f0f921"
            ]
           ]
          },
          "colorway": [
           "#636efa",
           "#EF553B",
           "#00cc96",
           "#ab63fa",
           "#FFA15A",
           "#19d3f3",
           "#FF6692",
           "#B6E880",
           "#FF97FF",
           "#FECB52"
          ],
          "font": {
           "color": "#2a3f5f"
          },
          "geo": {
           "bgcolor": "white",
           "lakecolor": "white",
           "landcolor": "#E5ECF6",
           "showlakes": true,
           "showland": true,
           "subunitcolor": "white"
          },
          "hoverlabel": {
           "align": "left"
          },
          "hovermode": "closest",
          "mapbox": {
           "style": "light"
          },
          "paper_bgcolor": "white",
          "plot_bgcolor": "#E5ECF6",
          "polar": {
           "angularaxis": {
            "gridcolor": "white",
            "linecolor": "white",
            "ticks": ""
           },
           "bgcolor": "#E5ECF6",
           "radialaxis": {
            "gridcolor": "white",
            "linecolor": "white",
            "ticks": ""
           }
          },
          "scene": {
           "xaxis": {
            "backgroundcolor": "#E5ECF6",
            "gridcolor": "white",
            "gridwidth": 2,
            "linecolor": "white",
            "showbackground": true,
            "ticks": "",
            "zerolinecolor": "white"
           },
           "yaxis": {
            "backgroundcolor": "#E5ECF6",
            "gridcolor": "white",
            "gridwidth": 2,
            "linecolor": "white",
            "showbackground": true,
            "ticks": "",
            "zerolinecolor": "white"
           },
           "zaxis": {
            "backgroundcolor": "#E5ECF6",
            "gridcolor": "white",
            "gridwidth": 2,
            "linecolor": "white",
            "showbackground": true,
            "ticks": "",
            "zerolinecolor": "white"
           }
          },
          "shapedefaults": {
           "line": {
            "color": "#2a3f5f"
           }
          },
          "ternary": {
           "aaxis": {
            "gridcolor": "white",
            "linecolor": "white",
            "ticks": ""
           },
           "baxis": {
            "gridcolor": "white",
            "linecolor": "white",
            "ticks": ""
           },
           "bgcolor": "#E5ECF6",
           "caxis": {
            "gridcolor": "white",
            "linecolor": "white",
            "ticks": ""
           }
          },
          "title": {
           "x": 0.05
          },
          "xaxis": {
           "automargin": true,
           "gridcolor": "white",
           "linecolor": "white",
           "ticks": "",
           "title": {
            "standoff": 15
           },
           "zerolinecolor": "white",
           "zerolinewidth": 2
          },
          "yaxis": {
           "automargin": true,
           "gridcolor": "white",
           "linecolor": "white",
           "ticks": "",
           "title": {
            "standoff": 15
           },
           "zerolinecolor": "white",
           "zerolinewidth": 2
          }
         }
        },
        "xaxis": {
         "anchor": "y",
         "domain": [
          0,
          1
         ],
         "title": {
          "text": "gdpPercap"
         },
         "type": "log"
        },
        "yaxis": {
         "anchor": "x",
         "domain": [
          0,
          1
         ],
         "title": {
          "text": "CO2 emissions (metric tons per capita)"
         },
         "type": "log"
        }
       }
      },
      "text/html": [
       "<div>                            <div id=\"f95e2d1e-b802-4e9b-b823-b47649d8a88e\" class=\"plotly-graph-div\" style=\"height:525px; width:100%;\"></div>            <script type=\"text/javascript\">                require([\"plotly\"], function(Plotly) {                    window.PLOTLYENV=window.PLOTLYENV || {};                                    if (document.getElementById(\"f95e2d1e-b802-4e9b-b823-b47649d8a88e\")) {                    Plotly.newPlot(                        \"f95e2d1e-b802-4e9b-b823-b47649d8a88e\",                        [{\"hovertemplate\":\"gdpPercap=%{x}<br>CO2 emissions (metric tons per capita)=%{y}<extra></extra>\",\"legendgroup\":\"\",\"marker\":{\"color\":\"#636efa\",\"symbol\":\"circle\"},\"mode\":\"markers\",\"name\":\"\",\"orientation\":\"v\",\"showlegend\":false,\"x\":[853.1007099999999,2312.888958,2550.81688,4269.276742,7133.166023000001,12217.22686,10750.72111,12753.27514,10991.20676,949.4990641,2180.972546,3336.585802,4254.337839,722.5120206,355.2032273,496.9136476,1399.607441,13462.48555,1193.068753,1389.817618,4519.094331,487.6740183,2492.351109,1406.648278,3460.937025,1728.8694280000002,5180.75591,13583.31351,3020.989263,1662.137359,4086.114078,3776.803627,582.8419713999999,419.4564161,9371.842561,10560.48553,6631.459222,1190.041118,6017.190732999999,2750.364446,686.3736739,522.0343725,1796.589032,2291.156835,7550.359877,10350.15906,658.3471509,849.2897700999999,8341.737815,6631.597314,7105.630706,8243.58234,5246.107524,6576.649461,2348.009158,896.9663732,95458.11176,5714.560611,634.1951625,6757.030816,1643.38711,496.1743428,1055.896036,2529.0674870000003,4581.609385,1056.353958,1566.353493,556.6863539,388.0,652.3968593,12790.84956,13175.678,3634.364406,997.7661127,1150.9274779999998,13450.40151,803.3427418,3536.540301,2148.027146,4957.037982,1649.552153,5338.752143,4727.954889,4734.997586,597.4730727000001,1071.551119,11626.41975,1654.988723,1116.6398769999998,3674.735572,1369.488336,5768.729717,5693.843879,1074.47196,1959.593767,12329.44192,20431.0927,722.0038073,1002.199172,1067.53481,4997.5239710000005,1660.30321,2322.869908,767.2717397999999,12477.17707,16173.14586,5603.357717,772.0491602000001],\"xaxis\":\"x\",\"y\":[0.0737813379863999,1.43995596379,0.484953660141,0.216025342555,2.5223921045,8.83568804692,4.7553616731,9.19360857735,10.6411896304,0.0542015282643,0.28662649397,0.6972807432160001,3.83589181807,0.0170031197553,0.0152025731471,0.0511105919396,0.0517885260883,11.1306274847,0.0471138131996,0.0270119656401,2.07658831467,0.661428164381,1.11098569008,0.0564269593763,0.383956810879,0.156855909486,1.90181472038,7.945107361080001,0.5060615711249999,0.353029129213,0.325336408962,0.221683679656,0.0852989067225,0.0170548363485,3.74256736643,6.20757823899,0.172630373122,0.202357559414,1.2032011901200002,0.317326737332,0.178831523506,0.0640297282582,0.0756628306695,0.327409489867,5.025038030219999,6.57485551985,0.306519469024,0.248446979292,1.17690410231,4.62633804058,3.46389969472,2.87849638705,1.26277490114,3.05973635111,1.08930257389,0.304273984865,42.6371176837,1.48373168315,0.216209634212,0.6827006449699999,0.0739884401703,0.0258941544429,0.0685667838429,0.361281304036,1.5697444180899998,1.95074792748,0.235120747573,0.254829220109,0.128404767028,0.00848101403663,7.060853796839999,4.51652659146,0.349874904588,0.018352266424,0.0887217732028,3.86862605863,0.34177551477,0.991186587845,0.195662374952,0.93614496813,0.36851208177,7.15360516027,1.0343778647600002,3.4202858664999995,0.0276473843144,0.1707460925979999,1.43389833694,0.24254227941,0.145725026244,1.47291795223,0.0369895900581,5.729711710680001,1.93578153318,0.245449870727,0.134379625666,6.787859772309999,4.3335720686800006,0.0717344659547,0.173129692727,0.0545698734714,8.22557012974,0.4129873717800001,0.748240893242,0.0592582617361,11.1429283944,16.013937498,1.54065748629,0.258759875979],\"yaxis\":\"y\",\"type\":\"scatter\"}],                        {\"template\":{\"data\":{\"histogram2dcontour\":[{\"type\":\"histogram2dcontour\",\"colorbar\":{\"outlinewidth\":0,\"ticks\":\"\"},\"colorscale\":[[0.0,\"#0d0887\"],[0.1111111111111111,\"#46039f\"],[0.2222222222222222,\"#7201a8\"],[0.3333333333333333,\"#9c179e\"],[0.4444444444444444,\"#bd3786\"],[0.5555555555555556,\"#d8576b\"],[0.6666666666666666,\"#ed7953\"],[0.7777777777777778,\"#fb9f3a\"],[0.8888888888888888,\"#fdca26\"],[1.0,\"#f0f921\"]]}],\"choropleth\":[{\"type\":\"choropleth\",\"colorbar\":{\"outlinewidth\":0,\"ticks\":\"\"}}],\"histogram2d\":[{\"type\":\"histogram2d\",\"colorbar\":{\"outlinewidth\":0,\"ticks\":\"\"},\"colorscale\":[[0.0,\"#0d0887\"],[0.1111111111111111,\"#46039f\"],[0.2222222222222222,\"#7201a8\"],[0.3333333333333333,\"#9c179e\"],[0.4444444444444444,\"#bd3786\"],[0.5555555555555556,\"#d8576b\"],[0.6666666666666666,\"#ed7953\"],[0.7777777777777778,\"#fb9f3a\"],[0.8888888888888888,\"#fdca26\"],[1.0,\"#f0f921\"]]}],\"heatmap\":[{\"type\":\"heatmap\",\"colorbar\":{\"outlinewidth\":0,\"ticks\":\"\"},\"colorscale\":[[0.0,\"#0d0887\"],[0.1111111111111111,\"#46039f\"],[0.2222222222222222,\"#7201a8\"],[0.3333333333333333,\"#9c179e\"],[0.4444444444444444,\"#bd3786\"],[0.5555555555555556,\"#d8576b\"],[0.6666666666666666,\"#ed7953\"],[0.7777777777777778,\"#fb9f3a\"],[0.8888888888888888,\"#fdca26\"],[1.0,\"#f0f921\"]]}],\"heatmapgl\":[{\"type\":\"heatmapgl\",\"colorbar\":{\"outlinewidth\":0,\"ticks\":\"\"},\"colorscale\":[[0.0,\"#0d0887\"],[0.1111111111111111,\"#46039f\"],[0.2222222222222222,\"#7201a8\"],[0.3333333333333333,\"#9c179e\"],[0.4444444444444444,\"#bd3786\"],[0.5555555555555556,\"#d8576b\"],[0.6666666666666666,\"#ed7953\"],[0.7777777777777778,\"#fb9f3a\"],[0.8888888888888888,\"#fdca26\"],[1.0,\"#f0f921\"]]}],\"contourcarpet\":[{\"type\":\"contourcarpet\",\"colorbar\":{\"outlinewidth\":0,\"ticks\":\"\"}}],\"contour\":[{\"type\":\"contour\",\"colorbar\":{\"outlinewidth\":0,\"ticks\":\"\"},\"colorscale\":[[0.0,\"#0d0887\"],[0.1111111111111111,\"#46039f\"],[0.2222222222222222,\"#7201a8\"],[0.3333333333333333,\"#9c179e\"],[0.4444444444444444,\"#bd3786\"],[0.5555555555555556,\"#d8576b\"],[0.6666666666666666,\"#ed7953\"],[0.7777777777777778,\"#fb9f3a\"],[0.8888888888888888,\"#fdca26\"],[1.0,\"#f0f921\"]]}],\"surface\":[{\"type\":\"surface\",\"colorbar\":{\"outlinewidth\":0,\"ticks\":\"\"},\"colorscale\":[[0.0,\"#0d0887\"],[0.1111111111111111,\"#46039f\"],[0.2222222222222222,\"#7201a8\"],[0.3333333333333333,\"#9c179e\"],[0.4444444444444444,\"#bd3786\"],[0.5555555555555556,\"#d8576b\"],[0.6666666666666666,\"#ed7953\"],[0.7777777777777778,\"#fb9f3a\"],[0.8888888888888888,\"#fdca26\"],[1.0,\"#f0f921\"]]}],\"mesh3d\":[{\"type\":\"mesh3d\",\"colorbar\":{\"outlinewidth\":0,\"ticks\":\"\"}}],\"scatter\":[{\"fillpattern\":{\"fillmode\":\"overlay\",\"size\":10,\"solidity\":0.2},\"type\":\"scatter\"}],\"parcoords\":[{\"type\":\"parcoords\",\"line\":{\"colorbar\":{\"outlinewidth\":0,\"ticks\":\"\"}}}],\"scatterpolargl\":[{\"type\":\"scatterpolargl\",\"marker\":{\"colorbar\":{\"outlinewidth\":0,\"ticks\":\"\"}}}],\"bar\":[{\"error_x\":{\"color\":\"#2a3f5f\"},\"error_y\":{\"color\":\"#2a3f5f\"},\"marker\":{\"line\":{\"color\":\"#E5ECF6\",\"width\":0.5},\"pattern\":{\"fillmode\":\"overlay\",\"size\":10,\"solidity\":0.2}},\"type\":\"bar\"}],\"scattergeo\":[{\"type\":\"scattergeo\",\"marker\":{\"colorbar\":{\"outlinewidth\":0,\"ticks\":\"\"}}}],\"scatterpolar\":[{\"type\":\"scatterpolar\",\"marker\":{\"colorbar\":{\"outlinewidth\":0,\"ticks\":\"\"}}}],\"histogram\":[{\"marker\":{\"pattern\":{\"fillmode\":\"overlay\",\"size\":10,\"solidity\":0.2}},\"type\":\"histogram\"}],\"scattergl\":[{\"type\":\"scattergl\",\"marker\":{\"colorbar\":{\"outlinewidth\":0,\"ticks\":\"\"}}}],\"scatter3d\":[{\"type\":\"scatter3d\",\"line\":{\"colorbar\":{\"outlinewidth\":0,\"ticks\":\"\"}},\"marker\":{\"colorbar\":{\"outlinewidth\":0,\"ticks\":\"\"}}}],\"scattermapbox\":[{\"type\":\"scattermapbox\",\"marker\":{\"colorbar\":{\"outlinewidth\":0,\"ticks\":\"\"}}}],\"scatterternary\":[{\"type\":\"scatterternary\",\"marker\":{\"colorbar\":{\"outlinewidth\":0,\"ticks\":\"\"}}}],\"scattercarpet\":[{\"type\":\"scattercarpet\",\"marker\":{\"colorbar\":{\"outlinewidth\":0,\"ticks\":\"\"}}}],\"carpet\":[{\"aaxis\":{\"endlinecolor\":\"#2a3f5f\",\"gridcolor\":\"white\",\"linecolor\":\"white\",\"minorgridcolor\":\"white\",\"startlinecolor\":\"#2a3f5f\"},\"baxis\":{\"endlinecolor\":\"#2a3f5f\",\"gridcolor\":\"white\",\"linecolor\":\"white\",\"minorgridcolor\":\"white\",\"startlinecolor\":\"#2a3f5f\"},\"type\":\"carpet\"}],\"table\":[{\"cells\":{\"fill\":{\"color\":\"#EBF0F8\"},\"line\":{\"color\":\"white\"}},\"header\":{\"fill\":{\"color\":\"#C8D4E3\"},\"line\":{\"color\":\"white\"}},\"type\":\"table\"}],\"barpolar\":[{\"marker\":{\"line\":{\"color\":\"#E5ECF6\",\"width\":0.5},\"pattern\":{\"fillmode\":\"overlay\",\"size\":10,\"solidity\":0.2}},\"type\":\"barpolar\"}],\"pie\":[{\"automargin\":true,\"type\":\"pie\"}]},\"layout\":{\"autotypenumbers\":\"strict\",\"colorway\":[\"#636efa\",\"#EF553B\",\"#00cc96\",\"#ab63fa\",\"#FFA15A\",\"#19d3f3\",\"#FF6692\",\"#B6E880\",\"#FF97FF\",\"#FECB52\"],\"font\":{\"color\":\"#2a3f5f\"},\"hovermode\":\"closest\",\"hoverlabel\":{\"align\":\"left\"},\"paper_bgcolor\":\"white\",\"plot_bgcolor\":\"#E5ECF6\",\"polar\":{\"bgcolor\":\"#E5ECF6\",\"angularaxis\":{\"gridcolor\":\"white\",\"linecolor\":\"white\",\"ticks\":\"\"},\"radialaxis\":{\"gridcolor\":\"white\",\"linecolor\":\"white\",\"ticks\":\"\"}},\"ternary\":{\"bgcolor\":\"#E5ECF6\",\"aaxis\":{\"gridcolor\":\"white\",\"linecolor\":\"white\",\"ticks\":\"\"},\"baxis\":{\"gridcolor\":\"white\",\"linecolor\":\"white\",\"ticks\":\"\"},\"caxis\":{\"gridcolor\":\"white\",\"linecolor\":\"white\",\"ticks\":\"\"}},\"coloraxis\":{\"colorbar\":{\"outlinewidth\":0,\"ticks\":\"\"}},\"colorscale\":{\"sequential\":[[0.0,\"#0d0887\"],[0.1111111111111111,\"#46039f\"],[0.2222222222222222,\"#7201a8\"],[0.3333333333333333,\"#9c179e\"],[0.4444444444444444,\"#bd3786\"],[0.5555555555555556,\"#d8576b\"],[0.6666666666666666,\"#ed7953\"],[0.7777777777777778,\"#fb9f3a\"],[0.8888888888888888,\"#fdca26\"],[1.0,\"#f0f921\"]],\"sequentialminus\":[[0.0,\"#0d0887\"],[0.1111111111111111,\"#46039f\"],[0.2222222222222222,\"#7201a8\"],[0.3333333333333333,\"#9c179e\"],[0.4444444444444444,\"#bd3786\"],[0.5555555555555556,\"#d8576b\"],[0.6666666666666666,\"#ed7953\"],[0.7777777777777778,\"#fb9f3a\"],[0.8888888888888888,\"#fdca26\"],[1.0,\"#f0f921\"]],\"diverging\":[[0,\"#8e0152\"],[0.1,\"#c51b7d\"],[0.2,\"#de77ae\"],[0.3,\"#f1b6da\"],[0.4,\"#fde0ef\"],[0.5,\"#f7f7f7\"],[0.6,\"#e6f5d0\"],[0.7,\"#b8e186\"],[0.8,\"#7fbc41\"],[0.9,\"#4d9221\"],[1,\"#276419\"]]},\"xaxis\":{\"gridcolor\":\"white\",\"linecolor\":\"white\",\"ticks\":\"\",\"title\":{\"standoff\":15},\"zerolinecolor\":\"white\",\"automargin\":true,\"zerolinewidth\":2},\"yaxis\":{\"gridcolor\":\"white\",\"linecolor\":\"white\",\"ticks\":\"\",\"title\":{\"standoff\":15},\"zerolinecolor\":\"white\",\"automargin\":true,\"zerolinewidth\":2},\"scene\":{\"xaxis\":{\"backgroundcolor\":\"#E5ECF6\",\"gridcolor\":\"white\",\"linecolor\":\"white\",\"showbackground\":true,\"ticks\":\"\",\"zerolinecolor\":\"white\",\"gridwidth\":2},\"yaxis\":{\"backgroundcolor\":\"#E5ECF6\",\"gridcolor\":\"white\",\"linecolor\":\"white\",\"showbackground\":true,\"ticks\":\"\",\"zerolinecolor\":\"white\",\"gridwidth\":2},\"zaxis\":{\"backgroundcolor\":\"#E5ECF6\",\"gridcolor\":\"white\",\"linecolor\":\"white\",\"showbackground\":true,\"ticks\":\"\",\"zerolinecolor\":\"white\",\"gridwidth\":2}},\"shapedefaults\":{\"line\":{\"color\":\"#2a3f5f\"}},\"annotationdefaults\":{\"arrowcolor\":\"#2a3f5f\",\"arrowhead\":0,\"arrowwidth\":1},\"geo\":{\"bgcolor\":\"white\",\"landcolor\":\"#E5ECF6\",\"subunitcolor\":\"white\",\"showland\":true,\"showlakes\":true,\"lakecolor\":\"white\"},\"title\":{\"x\":0.05},\"mapbox\":{\"style\":\"light\"}}},\"xaxis\":{\"anchor\":\"y\",\"domain\":[0.0,1.0],\"title\":{\"text\":\"gdpPercap\"},\"type\":\"log\"},\"yaxis\":{\"anchor\":\"x\",\"domain\":[0.0,1.0],\"title\":{\"text\":\"CO2 emissions (metric tons per capita)\"},\"type\":\"log\"},\"legend\":{\"tracegroupgap\":0},\"margin\":{\"t\":60}},                        {\"responsive\": true}                    ).then(function(){\n",
       "                            \n",
       "var gd = document.getElementById('f95e2d1e-b802-4e9b-b823-b47649d8a88e');\n",
       "var x = new MutationObserver(function (mutations, observer) {{\n",
       "        var display = window.getComputedStyle(gd).display;\n",
       "        if (!display || display === 'none') {{\n",
       "            console.log([gd, 'removed!']);\n",
       "            Plotly.purge(gd);\n",
       "            observer.disconnect();\n",
       "        }}\n",
       "}});\n",
       "\n",
       "// Listen for the removal of the full notebook cells\n",
       "var notebookContainer = gd.closest('#notebook-container');\n",
       "if (notebookContainer) {{\n",
       "    x.observe(notebookContainer, {childList: true});\n",
       "}}\n",
       "\n",
       "// Listen for the clearing of the current output cell\n",
       "var outputEl = gd.closest('.output');\n",
       "if (outputEl) {{\n",
       "    x.observe(outputEl, {childList: true});\n",
       "}}\n",
       "\n",
       "                        })                };                });            </script>        </div>"
      ]
     },
     "metadata": {},
     "output_type": "display_data"
    }
   ],
   "source": [
    "# Filter the data\n",
    "df_1962 = df_gc[df_gc['Year'] == 1962]\n",
    "\n",
    "fig = px.scatter(df_1962, x='gdpPercap', y='CO2 emissions (metric tons per capita)', log_x=True, log_y=True)\n",
    "fig.show()\n"
   ]
  },
  {
   "cell_type": "markdown",
   "id": "fcf96c60",
   "metadata": {},
   "source": [
    "##### Explaining the code:\n",
    "The first thing we do is use the Pandas library (pd) to read in \"gapminder_clean.csv\" as a Pandas DataFrame called 'df'. We then remove any rows that may contain any missing data (NaNs) from two subsets of the DataFrame, which we name 'df_g' and 'df_gc'. Specifically, we are dropping rows where the gdpPercap or CO2 emissions columns contain NaNs, so that we can have complete subsets of data. The resulting DataFrames contain only the rows without missing data in the specified columns. Next, we filter the data to only include rows where the \"Year\" column is equal to 1962. We create a new DataFrame 'df_1962' to store this filtered data. Finally, we create a scatter plot using the filtered data and the Plotly Express library. In our particular case, we are specifying the 'gdpPercap' column to be the x-axis, and the 'CO2 emissions' to be the y-axis. Lastly, we log-scale the x and y axes for easier visualizations, and show the plot. "
   ]
  },
  {
   "cell_type": "markdown",
   "id": "711d4b85",
   "metadata": {},
   "source": [
    "### Question 3\n",
    "\n",
    "#### On the filtered data, calculate the correlation of 'CO2 emissions (metric tons per capita)' and 'gdpPercap'. What is the correlation and associated p value?"
   ]
  },
  {
   "cell_type": "code",
   "execution_count": 67,
   "id": "fccf5668",
   "metadata": {},
   "outputs": [
    {
     "name": "stdout",
     "output_type": "stream",
     "text": [
      "The correlation is 0.9261, and the associated p-value is 1.1286792210038754e-46.\n"
     ]
    }
   ],
   "source": [
    "correlation, p = stats.pearsonr(df_1962['CO2 emissions (metric tons per capita)'], df_1962['gdpPercap'])\n",
    "\n",
    "print(f'The correlation is {correlation:.4f}, and the associated p-value is {p}.')"
   ]
  },
  {
   "cell_type": "markdown",
   "id": "c6318ece",
   "metadata": {},
   "source": [
    "##### Explaining the code:\n",
    "We are using the pearsonr() function from the statistics module of the SciPy library to calculate the Pearson correlation coefficient between the variables 'CO2 emissions' and 'gdpPercap'. We pass in the relevant columns to obtain the correlation and p-value. "
   ]
  },
  {
   "cell_type": "markdown",
   "id": "c005f4b3",
   "metadata": {},
   "source": [
    "### Question 4\n",
    "\n",
    "#### On the unfiltered data, answer \"In what year is the correlation between 'CO2 emissions (metric tons per capita)' and 'gdpPercap' the strongest?\" Filter the dataset to that year for the next step..."
   ]
  },
  {
   "cell_type": "code",
   "execution_count": 68,
   "id": "8b7c9e9e",
   "metadata": {},
   "outputs": [
    {
     "name": "stdout",
     "output_type": "stream",
     "text": [
      "The year with the strongest correlation is 1967, with a correlation of 0.9388\n"
     ]
    }
   ],
   "source": [
    "# Determine year with the strongest correlation\n",
    "df_year = df_gc.groupby('Year')\n",
    "\n",
    "# Apply pearsonR to every group of rows\n",
    "corr = df_year.apply(lambda x: stats.pearsonr(x['CO2 emissions (metric tons per capita)'], x['gdpPercap'])[0])\n",
    "\n",
    "# Find the strongest correlation\n",
    "max_corr = corr.abs().idxmax()\n",
    "\n",
    "print(f\"The year with the strongest correlation is {max_corr}, with a correlation of {corr.abs().max():.4f}\")\n",
    "\n",
    "df_filtered = df[df['Year'] == max_corr]"
   ]
  },
  {
   "cell_type": "markdown",
   "id": "aba15b8b",
   "metadata": {},
   "source": [
    "##### Explaining the code:\n",
    "We first group the 'df_gc' DataFrame by year using the groupby() function, and assign the resulting DataFrame to 'df_year'. We then apply the pearsonr() function to every group of rows in 'df_year' using the apply function. This calculates the correlation coefficient for each group of rows. We then find the year with the highest absolute correlation coefficient by using the idxmax() function, which we assign to 'max_corr'. This leaves us with the year with the highest magnitude of correlation coefficient. We then create a new DataFrame df_filtered that contains only data for the year with the strongest correlation. "
   ]
  },
  {
   "cell_type": "markdown",
   "id": "7cc9529c",
   "metadata": {},
   "source": [
    "### Question 5\n",
    "\n",
    "#### Using 'plotly' or 'bokeh', create an interactive scatter plot comparing 'CO2 emissions (metric tons per capita)' and 'gdpPercap', where the point size is determined by 'pop' (population) and the color is determined by the 'continent'."
   ]
  },
  {
   "cell_type": "code",
   "execution_count": 69,
   "id": "6ef52f02",
   "metadata": {
    "scrolled": false
   },
   "outputs": [
    {
     "data": {
      "application/vnd.plotly.v1+json": {
       "config": {
        "plotlyServerURL": "https://plot.ly"
       },
       "data": [
        {
         "hovertemplate": "continent=Asia<br>gdpPercap=%{x}<br>CO2 emissions (metric tons per capita)=%{y}<br>pop=%{marker.size}<extra></extra>",
         "legendgroup": "Asia",
         "marker": {
          "color": "#636efa",
          "size": [
           11537966,
           202182,
           62821884,
           6960067,
           754550000,
           506000000,
           109343000,
           8519282,
           2693585,
           100825279,
           1255058,
           575003,
           2186894,
           10154878,
           1149500,
           25870271,
           11261690,
           714775,
           60641899,
           35356600,
           5618198,
           1977600,
           11737396,
           34024249,
           39463910
          ],
          "sizemode": "area",
          "sizeref": 1886375,
          "symbol": "circle"
         },
         "mode": "markers",
         "name": "Asia",
         "orientation": "v",
         "showlegend": true,
         "type": "scatter",
         "x": [
          836.1971382,
          14804.6727,
          721.1860862000001,
          523.4323142,
          612.7056934,
          700.7706107000001,
          762.4317721,
          8931.459811,
          8393.741404,
          9847.788607,
          2741.796252,
          80894.88326,
          6006.983042,
          2277.742396,
          1226.04113,
          349,
          676.4422254,
          4720.942687,
          942.4082588,
          1814.12743,
          16903.04886,
          4977.41854,
          1135.514326,
          1295.46066,
          637.1232887
         ],
         "xaxis": "x",
         "y": [
          0.123782381421,
          5.12101242081,
          null,
          0.0624360387486,
          0.574162146975,
          0.331763432432,
          0.23191547809,
          2.05575631533,
          4.93341748634,
          4.86355784562,
          1.0719834839700002,
          43.4283027016,
          1.64225486815,
          null,
          1.83477215037,
          0.143519517019,
          0.0188098863912,
          0.205537806177,
          0.402522332305,
          0.555413076261,
          4.90876421118,
          1.54645934466,
          0.25192412202,
          0.360202673298,
          0.574906353177
         ],
         "yaxis": "y"
        },
        {
         "hovertemplate": "continent=Europe<br>gdpPercap=%{x}<br>CO2 emissions (metric tons per capita)=%{y}<br>pop=%{marker.size}<extra></extra>",
         "legendgroup": "Europe",
         "marker": {
          "color": "#EF553B",
          "size": [
           1984060,
           7376998,
           9556500,
           3585000,
           8310226,
           4174366,
           9835109,
           4838800,
           4605744,
           49569000,
           76368453,
           8716441,
           10223422,
           198676,
           2900100,
           52667100,
           501035,
           12596822,
           3786019,
           31785378,
           9103000,
           19284814,
           7971222,
           4442238,
           1646912,
           32850275,
           7867931,
           6063000,
           33411317,
           54959000
          ],
          "sizemode": "area",
          "sizeref": 1886375,
          "symbol": "circle"
         },
         "mode": "markers",
         "name": "Europe",
         "orientation": "v",
         "showlegend": true,
         "type": "scatter",
         "x": [
          2760.196931,
          12834.6024,
          13149.04119,
          2172.3524230000003,
          5577.0028,
          6960.297861,
          11399.44489,
          15937.21123,
          10921.63626,
          12999.91766,
          14745.62561,
          8513.097016,
          9326.64467,
          13319.89568,
          7655.568963,
          10022.40131,
          5907.850937,
          15363.25136,
          16361.87647,
          6557.152776,
          6361.517993,
          6470.866545,
          7991.707066,
          8412.902397,
          9405.489397,
          7993.512294,
          15258.29697,
          22966.14432,
          2826.3563870000003,
          14142.85089
         ],
         "xaxis": "x",
         "y": [
          1.36374630011,
          5.41773672705,
          11.2172567535,
          null,
          6.63836916108,
          null,
          null,
          10.1493005476,
          6.21338658857,
          7.3064221599,
          null,
          2.24941398567,
          5.758242269149999,
          7.269387323839999,
          5.65504728764,
          4.43148255688,
          null,
          8.47605463669,
          5.1072949704,
          8.105834013680001,
          1.39828723131,
          4.71631855487,
          null,
          null,
          null,
          2.64722755876,
          8.770023402589999,
          5.43460087436,
          1.03313907211,
          10.7841045545
         ],
         "yaxis": "y"
        },
        {
         "hovertemplate": "continent=Africa<br>gdpPercap=%{x}<br>CO2 emissions (metric tons per capita)=%{y}<br>pop=%{marker.size}<extra></extra>",
         "legendgroup": "Africa",
         "marker": {
          "color": "#00cc96",
          "size": [
           12760499,
           5247469,
           2427334,
           553541,
           5127935,
           3330989,
           6335506,
           1733638,
           3495967,
           217378,
           4744870,
           127617,
           259864,
           1820319,
           27860297,
           489004,
           8490213,
           3451418,
           601287,
           10191512,
           996380,
           1279406,
           1759224,
           6334556,
           4147252,
           5212416,
           1230542,
           789309,
           14770296,
           8680909,
           706640,
           4534062,
           47287752,
           3451079,
           70787,
           3965841,
           2662190,
           3428839,
           20997321,
           12716129,
           420690,
           12607312,
           1735550,
           4786986,
           8900294,
           3900000,
           4995432
          ],
          "sizemode": "area",
          "sizeref": 1886375,
          "symbol": "circle"
         },
         "mode": "markers",
         "name": "Africa",
         "orientation": "v",
         "showlegend": true,
         "type": "scatter",
         "x": [
          3246.991771,
          5522.776375,
          1035.831411,
          1214.709294,
          794.8265597,
          412.97751360000007,
          1508.453148,
          1136.056615,
          1196.810565,
          1876.029643,
          2052.050473,
          3020.050513,
          915.5960025,
          468.7949699,
          516.1186438,
          8358.761987,
          1125.69716,
          708.7595409,
          715.5806402000001,
          1056.736457,
          498.6390265,
          713.6036482999999,
          18772.75169,
          1634.047282,
          495.5147806,
          545.0098873,
          1421.145193,
          2475.387562,
          1711.04477,
          566.6691539,
          3793.694753,
          1054.384891,
          1014.514104,
          510.9637142,
          1384.840593,
          1612.404632,
          1206.043465,
          1284.7331800000002,
          7114.477970999999,
          1687.997641,
          2613.101665,
          848.2186575,
          1477.59676,
          1932.3601670000005,
          908.9185217,
          1777.077318,
          569.7950712
         ],
         "xaxis": "x",
         "y": [
          0.632118426889,
          0.166658588848,
          0.0523195961148,
          null,
          0.0192168474009,
          0.0147354429891,
          0.0729810151442,
          0.0533441408437,
          0.0341490827003,
          0.0856623590204,
          0.324270273072,
          0.669756398256,
          0.0908814105401,
          null,
          0.0408827807982,
          1.82744493336,
          0.185683744295,
          0.180529006335,
          0.0707397168393,
          0.266146233454,
          null,
          0.465652918101,
          9.94130993774,
          0.138895338975,
          0.086039155676,
          0.0392007077217,
          0.188179057955,
          0.6361795955439999,
          0.3615857767970001,
          0.216165510896,
          null,
          0.0318543481335,
          0.244682890582,
          0.0118002652184999,
          0.1620797359809999,
          0.181319271624,
          0.105440879922,
          0.0704483235701,
          6.46564779364,
          0.250771072594,
          0.55253014742,
          0.141879278158,
          0.10672264605,
          0.638870927594,
          0.0944460734361,
          1.2636279603,
          1.12296052314
         ],
         "yaxis": "y"
        },
        {
         "hovertemplate": "continent=Americas<br>gdpPercap=%{x}<br>CO2 emissions (metric tons per capita)=%{y}<br>pop=%{marker.size}<extra></extra>",
         "legendgroup": "Americas",
         "marker": {
          "color": "#FFA15A",
          "size": [
           22934225,
           4040665,
           88049823,
           20819767,
           8858908,
           19764027,
           1588717,
           8139332,
           4049146,
           5432424,
           3232927,
           4690773,
           4318137,
           2500689,
           1861096,
           47995559,
           1865490,
           1405486,
           2287985,
           12132200,
           2648961,
           960155,
           198712000,
           2748579
          ],
          "sizemode": "area",
          "sizeref": 1886375,
          "symbol": "circle"
         },
         "mode": "markers",
         "name": "Americas",
         "orientation": "v",
         "showlegend": true,
         "type": "scatter",
         "x": [
          8052.953020999999,
          2586.886053,
          3429.864357,
          16076.58803,
          5106.654313,
          2678.729839,
          4161.727834,
          5690.268015,
          1653.7230029999998,
          4579.074215,
          4358.595393,
          3242.531147,
          1452.057666,
          2538.269358,
          6124.703450999999,
          5754.733883,
          4643.393534000001,
          4421.009084,
          2299.376311,
          5788.09333,
          6929.277714,
          5621.368472,
          19530.36557,
          5444.61962
         ],
         "xaxis": "x",
         "y": [
          2.85816254619,
          0.446569679542,
          0.744966530874,
          13.8103545953,
          2.1409901271900003,
          1.21683476874,
          0.517145991263,
          1.90593276713,
          0.380469161164,
          0.465781970972,
          0.342459705043,
          0.397317380131,
          0.0585660070754,
          0.352498584235,
          2.14463346178,
          1.8996986330400003,
          0.493983688604,
          1.21812383412,
          0.213013396786,
          1.1118562074299998,
          null,
          5.00989828473,
          18.5983178822,
          1.77610139003
         ],
         "yaxis": "y"
        },
        {
         "hovertemplate": "continent=Oceania<br>gdpPercap=%{x}<br>CO2 emissions (metric tons per capita)=%{y}<br>pop=%{marker.size}<extra></extra>",
         "legendgroup": "Oceania",
         "marker": {
          "color": "#19d3f3",
          "size": [
           11872264,
           2728150
          ],
          "sizemode": "area",
          "sizeref": 1886375,
          "symbol": "circle"
         },
         "mode": "markers",
         "name": "Oceania",
         "orientation": "v",
         "showlegend": true,
         "type": "scatter",
         "x": [
          14526.12465,
          14463.918930000002
         ],
         "xaxis": "x",
         "y": [
          10.9556247987,
          5.00761352373
         ],
         "yaxis": "y"
        }
       ],
       "layout": {
        "legend": {
         "itemsizing": "constant",
         "title": {
          "text": "continent"
         },
         "tracegroupgap": 0
        },
        "margin": {
         "t": 60
        },
        "template": {
         "data": {
          "bar": [
           {
            "error_x": {
             "color": "#2a3f5f"
            },
            "error_y": {
             "color": "#2a3f5f"
            },
            "marker": {
             "line": {
              "color": "#E5ECF6",
              "width": 0.5
             },
             "pattern": {
              "fillmode": "overlay",
              "size": 10,
              "solidity": 0.2
             }
            },
            "type": "bar"
           }
          ],
          "barpolar": [
           {
            "marker": {
             "line": {
              "color": "#E5ECF6",
              "width": 0.5
             },
             "pattern": {
              "fillmode": "overlay",
              "size": 10,
              "solidity": 0.2
             }
            },
            "type": "barpolar"
           }
          ],
          "carpet": [
           {
            "aaxis": {
             "endlinecolor": "#2a3f5f",
             "gridcolor": "white",
             "linecolor": "white",
             "minorgridcolor": "white",
             "startlinecolor": "#2a3f5f"
            },
            "baxis": {
             "endlinecolor": "#2a3f5f",
             "gridcolor": "white",
             "linecolor": "white",
             "minorgridcolor": "white",
             "startlinecolor": "#2a3f5f"
            },
            "type": "carpet"
           }
          ],
          "choropleth": [
           {
            "colorbar": {
             "outlinewidth": 0,
             "ticks": ""
            },
            "type": "choropleth"
           }
          ],
          "contour": [
           {
            "colorbar": {
             "outlinewidth": 0,
             "ticks": ""
            },
            "colorscale": [
             [
              0,
              "#0d0887"
             ],
             [
              0.1111111111111111,
              "#46039f"
             ],
             [
              0.2222222222222222,
              "#7201a8"
             ],
             [
              0.3333333333333333,
              "#9c179e"
             ],
             [
              0.4444444444444444,
              "#bd3786"
             ],
             [
              0.5555555555555556,
              "#d8576b"
             ],
             [
              0.6666666666666666,
              "#ed7953"
             ],
             [
              0.7777777777777778,
              "#fb9f3a"
             ],
             [
              0.8888888888888888,
              "#fdca26"
             ],
             [
              1,
              "#f0f921"
             ]
            ],
            "type": "contour"
           }
          ],
          "contourcarpet": [
           {
            "colorbar": {
             "outlinewidth": 0,
             "ticks": ""
            },
            "type": "contourcarpet"
           }
          ],
          "heatmap": [
           {
            "colorbar": {
             "outlinewidth": 0,
             "ticks": ""
            },
            "colorscale": [
             [
              0,
              "#0d0887"
             ],
             [
              0.1111111111111111,
              "#46039f"
             ],
             [
              0.2222222222222222,
              "#7201a8"
             ],
             [
              0.3333333333333333,
              "#9c179e"
             ],
             [
              0.4444444444444444,
              "#bd3786"
             ],
             [
              0.5555555555555556,
              "#d8576b"
             ],
             [
              0.6666666666666666,
              "#ed7953"
             ],
             [
              0.7777777777777778,
              "#fb9f3a"
             ],
             [
              0.8888888888888888,
              "#fdca26"
             ],
             [
              1,
              "#f0f921"
             ]
            ],
            "type": "heatmap"
           }
          ],
          "heatmapgl": [
           {
            "colorbar": {
             "outlinewidth": 0,
             "ticks": ""
            },
            "colorscale": [
             [
              0,
              "#0d0887"
             ],
             [
              0.1111111111111111,
              "#46039f"
             ],
             [
              0.2222222222222222,
              "#7201a8"
             ],
             [
              0.3333333333333333,
              "#9c179e"
             ],
             [
              0.4444444444444444,
              "#bd3786"
             ],
             [
              0.5555555555555556,
              "#d8576b"
             ],
             [
              0.6666666666666666,
              "#ed7953"
             ],
             [
              0.7777777777777778,
              "#fb9f3a"
             ],
             [
              0.8888888888888888,
              "#fdca26"
             ],
             [
              1,
              "#f0f921"
             ]
            ],
            "type": "heatmapgl"
           }
          ],
          "histogram": [
           {
            "marker": {
             "pattern": {
              "fillmode": "overlay",
              "size": 10,
              "solidity": 0.2
             }
            },
            "type": "histogram"
           }
          ],
          "histogram2d": [
           {
            "colorbar": {
             "outlinewidth": 0,
             "ticks": ""
            },
            "colorscale": [
             [
              0,
              "#0d0887"
             ],
             [
              0.1111111111111111,
              "#46039f"
             ],
             [
              0.2222222222222222,
              "#7201a8"
             ],
             [
              0.3333333333333333,
              "#9c179e"
             ],
             [
              0.4444444444444444,
              "#bd3786"
             ],
             [
              0.5555555555555556,
              "#d8576b"
             ],
             [
              0.6666666666666666,
              "#ed7953"
             ],
             [
              0.7777777777777778,
              "#fb9f3a"
             ],
             [
              0.8888888888888888,
              "#fdca26"
             ],
             [
              1,
              "#f0f921"
             ]
            ],
            "type": "histogram2d"
           }
          ],
          "histogram2dcontour": [
           {
            "colorbar": {
             "outlinewidth": 0,
             "ticks": ""
            },
            "colorscale": [
             [
              0,
              "#0d0887"
             ],
             [
              0.1111111111111111,
              "#46039f"
             ],
             [
              0.2222222222222222,
              "#7201a8"
             ],
             [
              0.3333333333333333,
              "#9c179e"
             ],
             [
              0.4444444444444444,
              "#bd3786"
             ],
             [
              0.5555555555555556,
              "#d8576b"
             ],
             [
              0.6666666666666666,
              "#ed7953"
             ],
             [
              0.7777777777777778,
              "#fb9f3a"
             ],
             [
              0.8888888888888888,
              "#fdca26"
             ],
             [
              1,
              "#f0f921"
             ]
            ],
            "type": "histogram2dcontour"
           }
          ],
          "mesh3d": [
           {
            "colorbar": {
             "outlinewidth": 0,
             "ticks": ""
            },
            "type": "mesh3d"
           }
          ],
          "parcoords": [
           {
            "line": {
             "colorbar": {
              "outlinewidth": 0,
              "ticks": ""
             }
            },
            "type": "parcoords"
           }
          ],
          "pie": [
           {
            "automargin": true,
            "type": "pie"
           }
          ],
          "scatter": [
           {
            "fillpattern": {
             "fillmode": "overlay",
             "size": 10,
             "solidity": 0.2
            },
            "type": "scatter"
           }
          ],
          "scatter3d": [
           {
            "line": {
             "colorbar": {
              "outlinewidth": 0,
              "ticks": ""
             }
            },
            "marker": {
             "colorbar": {
              "outlinewidth": 0,
              "ticks": ""
             }
            },
            "type": "scatter3d"
           }
          ],
          "scattercarpet": [
           {
            "marker": {
             "colorbar": {
              "outlinewidth": 0,
              "ticks": ""
             }
            },
            "type": "scattercarpet"
           }
          ],
          "scattergeo": [
           {
            "marker": {
             "colorbar": {
              "outlinewidth": 0,
              "ticks": ""
             }
            },
            "type": "scattergeo"
           }
          ],
          "scattergl": [
           {
            "marker": {
             "colorbar": {
              "outlinewidth": 0,
              "ticks": ""
             }
            },
            "type": "scattergl"
           }
          ],
          "scattermapbox": [
           {
            "marker": {
             "colorbar": {
              "outlinewidth": 0,
              "ticks": ""
             }
            },
            "type": "scattermapbox"
           }
          ],
          "scatterpolar": [
           {
            "marker": {
             "colorbar": {
              "outlinewidth": 0,
              "ticks": ""
             }
            },
            "type": "scatterpolar"
           }
          ],
          "scatterpolargl": [
           {
            "marker": {
             "colorbar": {
              "outlinewidth": 0,
              "ticks": ""
             }
            },
            "type": "scatterpolargl"
           }
          ],
          "scatterternary": [
           {
            "marker": {
             "colorbar": {
              "outlinewidth": 0,
              "ticks": ""
             }
            },
            "type": "scatterternary"
           }
          ],
          "surface": [
           {
            "colorbar": {
             "outlinewidth": 0,
             "ticks": ""
            },
            "colorscale": [
             [
              0,
              "#0d0887"
             ],
             [
              0.1111111111111111,
              "#46039f"
             ],
             [
              0.2222222222222222,
              "#7201a8"
             ],
             [
              0.3333333333333333,
              "#9c179e"
             ],
             [
              0.4444444444444444,
              "#bd3786"
             ],
             [
              0.5555555555555556,
              "#d8576b"
             ],
             [
              0.6666666666666666,
              "#ed7953"
             ],
             [
              0.7777777777777778,
              "#fb9f3a"
             ],
             [
              0.8888888888888888,
              "#fdca26"
             ],
             [
              1,
              "#f0f921"
             ]
            ],
            "type": "surface"
           }
          ],
          "table": [
           {
            "cells": {
             "fill": {
              "color": "#EBF0F8"
             },
             "line": {
              "color": "white"
             }
            },
            "header": {
             "fill": {
              "color": "#C8D4E3"
             },
             "line": {
              "color": "white"
             }
            },
            "type": "table"
           }
          ]
         },
         "layout": {
          "annotationdefaults": {
           "arrowcolor": "#2a3f5f",
           "arrowhead": 0,
           "arrowwidth": 1
          },
          "autotypenumbers": "strict",
          "coloraxis": {
           "colorbar": {
            "outlinewidth": 0,
            "ticks": ""
           }
          },
          "colorscale": {
           "diverging": [
            [
             0,
             "#8e0152"
            ],
            [
             0.1,
             "#c51b7d"
            ],
            [
             0.2,
             "#de77ae"
            ],
            [
             0.3,
             "#f1b6da"
            ],
            [
             0.4,
             "#fde0ef"
            ],
            [
             0.5,
             "#f7f7f7"
            ],
            [
             0.6,
             "#e6f5d0"
            ],
            [
             0.7,
             "#b8e186"
            ],
            [
             0.8,
             "#7fbc41"
            ],
            [
             0.9,
             "#4d9221"
            ],
            [
             1,
             "#276419"
            ]
           ],
           "sequential": [
            [
             0,
             "#0d0887"
            ],
            [
             0.1111111111111111,
             "#46039f"
            ],
            [
             0.2222222222222222,
             "#7201a8"
            ],
            [
             0.3333333333333333,
             "#9c179e"
            ],
            [
             0.4444444444444444,
             "#bd3786"
            ],
            [
             0.5555555555555556,
             "#d8576b"
            ],
            [
             0.6666666666666666,
             "#ed7953"
            ],
            [
             0.7777777777777778,
             "#fb9f3a"
            ],
            [
             0.8888888888888888,
             "#fdca26"
            ],
            [
             1,
             "#f0f921"
            ]
           ],
           "sequentialminus": [
            [
             0,
             "#0d0887"
            ],
            [
             0.1111111111111111,
             "#46039f"
            ],
            [
             0.2222222222222222,
             "#7201a8"
            ],
            [
             0.3333333333333333,
             "#9c179e"
            ],
            [
             0.4444444444444444,
             "#bd3786"
            ],
            [
             0.5555555555555556,
             "#d8576b"
            ],
            [
             0.6666666666666666,
             "#ed7953"
            ],
            [
             0.7777777777777778,
             "#fb9f3a"
            ],
            [
             0.8888888888888888,
             "#fdca26"
            ],
            [
             1,
             "#f0f921"
            ]
           ]
          },
          "colorway": [
           "#636efa",
           "#EF553B",
           "#00cc96",
           "#ab63fa",
           "#FFA15A",
           "#19d3f3",
           "#FF6692",
           "#B6E880",
           "#FF97FF",
           "#FECB52"
          ],
          "font": {
           "color": "#2a3f5f"
          },
          "geo": {
           "bgcolor": "white",
           "lakecolor": "white",
           "landcolor": "#E5ECF6",
           "showlakes": true,
           "showland": true,
           "subunitcolor": "white"
          },
          "hoverlabel": {
           "align": "left"
          },
          "hovermode": "closest",
          "mapbox": {
           "style": "light"
          },
          "paper_bgcolor": "white",
          "plot_bgcolor": "#E5ECF6",
          "polar": {
           "angularaxis": {
            "gridcolor": "white",
            "linecolor": "white",
            "ticks": ""
           },
           "bgcolor": "#E5ECF6",
           "radialaxis": {
            "gridcolor": "white",
            "linecolor": "white",
            "ticks": ""
           }
          },
          "scene": {
           "xaxis": {
            "backgroundcolor": "#E5ECF6",
            "gridcolor": "white",
            "gridwidth": 2,
            "linecolor": "white",
            "showbackground": true,
            "ticks": "",
            "zerolinecolor": "white"
           },
           "yaxis": {
            "backgroundcolor": "#E5ECF6",
            "gridcolor": "white",
            "gridwidth": 2,
            "linecolor": "white",
            "showbackground": true,
            "ticks": "",
            "zerolinecolor": "white"
           },
           "zaxis": {
            "backgroundcolor": "#E5ECF6",
            "gridcolor": "white",
            "gridwidth": 2,
            "linecolor": "white",
            "showbackground": true,
            "ticks": "",
            "zerolinecolor": "white"
           }
          },
          "shapedefaults": {
           "line": {
            "color": "#2a3f5f"
           }
          },
          "ternary": {
           "aaxis": {
            "gridcolor": "white",
            "linecolor": "white",
            "ticks": ""
           },
           "baxis": {
            "gridcolor": "white",
            "linecolor": "white",
            "ticks": ""
           },
           "bgcolor": "#E5ECF6",
           "caxis": {
            "gridcolor": "white",
            "linecolor": "white",
            "ticks": ""
           }
          },
          "title": {
           "x": 0.05
          },
          "xaxis": {
           "automargin": true,
           "gridcolor": "white",
           "linecolor": "white",
           "ticks": "",
           "title": {
            "standoff": 15
           },
           "zerolinecolor": "white",
           "zerolinewidth": 2
          },
          "yaxis": {
           "automargin": true,
           "gridcolor": "white",
           "linecolor": "white",
           "ticks": "",
           "title": {
            "standoff": 15
           },
           "zerolinecolor": "white",
           "zerolinewidth": 2
          }
         }
        },
        "xaxis": {
         "anchor": "y",
         "domain": [
          0,
          1
         ],
         "title": {
          "text": "gdpPercap"
         },
         "type": "log"
        },
        "yaxis": {
         "anchor": "x",
         "domain": [
          0,
          1
         ],
         "title": {
          "text": "CO2 emissions (metric tons per capita)"
         },
         "type": "log"
        }
       }
      },
      "text/html": [
       "<div>                            <div id=\"8beee69f-0339-4b3b-ac41-4ab2a32d53a0\" class=\"plotly-graph-div\" style=\"height:525px; width:100%;\"></div>            <script type=\"text/javascript\">                require([\"plotly\"], function(Plotly) {                    window.PLOTLYENV=window.PLOTLYENV || {};                                    if (document.getElementById(\"8beee69f-0339-4b3b-ac41-4ab2a32d53a0\")) {                    Plotly.newPlot(                        \"8beee69f-0339-4b3b-ac41-4ab2a32d53a0\",                        [{\"hovertemplate\":\"continent=Asia<br>gdpPercap=%{x}<br>CO2 emissions (metric tons per capita)=%{y}<br>pop=%{marker.size}<extra></extra>\",\"legendgroup\":\"Asia\",\"marker\":{\"color\":\"#636efa\",\"size\":[11537966.0,202182.0,62821884.0,6960067.0,754550000.0,506000000.0,109343000.0,8519282.0,2693585.0,100825279.0,1255058.0,575003.0,2186894.0,10154878.0,1149500.0,25870271.0,11261690.0,714775.0,60641899.0,35356600.0,5618198.0,1977600.0,11737396.0,34024249.0,39463910.0],\"sizemode\":\"area\",\"sizeref\":1886375.0,\"symbol\":\"circle\"},\"mode\":\"markers\",\"name\":\"Asia\",\"orientation\":\"v\",\"showlegend\":true,\"x\":[836.1971382,14804.6727,721.1860862000001,523.4323142,612.7056934,700.7706107000001,762.4317721,8931.459811,8393.741404,9847.788607,2741.796252,80894.88326,6006.983042,2277.742396,1226.04113,349.0,676.4422254,4720.942687,942.4082588,1814.12743,16903.04886,4977.41854,1135.514326,1295.46066,637.1232887],\"xaxis\":\"x\",\"y\":[0.123782381421,5.12101242081,null,0.0624360387486,0.574162146975,0.331763432432,0.23191547809,2.05575631533,4.93341748634,4.86355784562,1.0719834839700002,43.4283027016,1.64225486815,null,1.83477215037,0.143519517019,0.0188098863912,0.205537806177,0.402522332305,0.555413076261,4.90876421118,1.54645934466,0.25192412202,0.360202673298,0.574906353177],\"yaxis\":\"y\",\"type\":\"scatter\"},{\"hovertemplate\":\"continent=Europe<br>gdpPercap=%{x}<br>CO2 emissions (metric tons per capita)=%{y}<br>pop=%{marker.size}<extra></extra>\",\"legendgroup\":\"Europe\",\"marker\":{\"color\":\"#EF553B\",\"size\":[1984060.0,7376998.0,9556500.0,3585000.0,8310226.0,4174366.0,9835109.0,4838800.0,4605744.0,49569000.0,76368453.0,8716441.0,10223422.0,198676.0,2900100.0,52667100.0,501035.0,12596822.0,3786019.0,31785378.0,9103000.0,19284814.0,7971222.0,4442238.0,1646912.0,32850275.0,7867931.0,6063000.0,33411317.0,54959000.0],\"sizemode\":\"area\",\"sizeref\":1886375.0,\"symbol\":\"circle\"},\"mode\":\"markers\",\"name\":\"Europe\",\"orientation\":\"v\",\"showlegend\":true,\"x\":[2760.196931,12834.6024,13149.04119,2172.3524230000003,5577.0028,6960.297861,11399.44489,15937.21123,10921.63626,12999.91766,14745.62561,8513.097016,9326.64467,13319.89568,7655.568963,10022.40131,5907.850937,15363.25136,16361.87647,6557.152776,6361.517993,6470.866545,7991.707066,8412.902397,9405.489397,7993.512294,15258.29697,22966.14432,2826.3563870000003,14142.85089],\"xaxis\":\"x\",\"y\":[1.36374630011,5.41773672705,11.2172567535,null,6.63836916108,null,null,10.1493005476,6.21338658857,7.3064221599,null,2.24941398567,5.758242269149999,7.269387323839999,5.65504728764,4.43148255688,null,8.47605463669,5.1072949704,8.105834013680001,1.39828723131,4.71631855487,null,null,null,2.64722755876,8.770023402589999,5.43460087436,1.03313907211,10.7841045545],\"yaxis\":\"y\",\"type\":\"scatter\"},{\"hovertemplate\":\"continent=Africa<br>gdpPercap=%{x}<br>CO2 emissions (metric tons per capita)=%{y}<br>pop=%{marker.size}<extra></extra>\",\"legendgroup\":\"Africa\",\"marker\":{\"color\":\"#00cc96\",\"size\":[12760499.0,5247469.0,2427334.0,553541.0,5127935.0,3330989.0,6335506.0,1733638.0,3495967.0,217378.0,4744870.0,127617.0,259864.0,1820319.0,27860297.0,489004.0,8490213.0,3451418.0,601287.0,10191512.0,996380.0,1279406.0,1759224.0,6334556.0,4147252.0,5212416.0,1230542.0,789309.0,14770296.0,8680909.0,706640.0,4534062.0,47287752.0,3451079.0,70787.0,3965841.0,2662190.0,3428839.0,20997321.0,12716129.0,420690.0,12607312.0,1735550.0,4786986.0,8900294.0,3900000.0,4995432.0],\"sizemode\":\"area\",\"sizeref\":1886375.0,\"symbol\":\"circle\"},\"mode\":\"markers\",\"name\":\"Africa\",\"orientation\":\"v\",\"showlegend\":true,\"x\":[3246.991771,5522.776375,1035.831411,1214.709294,794.8265597,412.97751360000007,1508.453148,1136.056615,1196.810565,1876.029643,2052.050473,3020.050513,915.5960025,468.7949699,516.1186438,8358.761987,1125.69716,708.7595409,715.5806402000001,1056.736457,498.6390265,713.6036482999999,18772.75169,1634.047282,495.5147806,545.0098873,1421.145193,2475.387562,1711.04477,566.6691539,3793.694753,1054.384891,1014.514104,510.9637142,1384.840593,1612.404632,1206.043465,1284.7331800000002,7114.477970999999,1687.997641,2613.101665,848.2186575,1477.59676,1932.3601670000005,908.9185217,1777.077318,569.7950712],\"xaxis\":\"x\",\"y\":[0.632118426889,0.166658588848,0.0523195961148,null,0.0192168474009,0.0147354429891,0.0729810151442,0.0533441408437,0.0341490827003,0.0856623590204,0.324270273072,0.669756398256,0.0908814105401,null,0.0408827807982,1.82744493336,0.185683744295,0.180529006335,0.0707397168393,0.266146233454,null,0.465652918101,9.94130993774,0.138895338975,0.086039155676,0.0392007077217,0.188179057955,0.6361795955439999,0.3615857767970001,0.216165510896,null,0.0318543481335,0.244682890582,0.0118002652184999,0.1620797359809999,0.181319271624,0.105440879922,0.0704483235701,6.46564779364,0.250771072594,0.55253014742,0.141879278158,0.10672264605,0.638870927594,0.0944460734361,1.2636279603,1.12296052314],\"yaxis\":\"y\",\"type\":\"scatter\"},{\"hovertemplate\":\"continent=Americas<br>gdpPercap=%{x}<br>CO2 emissions (metric tons per capita)=%{y}<br>pop=%{marker.size}<extra></extra>\",\"legendgroup\":\"Americas\",\"marker\":{\"color\":\"#FFA15A\",\"size\":[22934225.0,4040665.0,88049823.0,20819767.0,8858908.0,19764027.0,1588717.0,8139332.0,4049146.0,5432424.0,3232927.0,4690773.0,4318137.0,2500689.0,1861096.0,47995559.0,1865490.0,1405486.0,2287985.0,12132200.0,2648961.0,960155.0,198712000.0,2748579.0],\"sizemode\":\"area\",\"sizeref\":1886375.0,\"symbol\":\"circle\"},\"mode\":\"markers\",\"name\":\"Americas\",\"orientation\":\"v\",\"showlegend\":true,\"x\":[8052.953020999999,2586.886053,3429.864357,16076.58803,5106.654313,2678.729839,4161.727834,5690.268015,1653.7230029999998,4579.074215,4358.595393,3242.531147,1452.057666,2538.269358,6124.703450999999,5754.733883,4643.393534000001,4421.009084,2299.376311,5788.09333,6929.277714,5621.368472,19530.36557,5444.61962],\"xaxis\":\"x\",\"y\":[2.85816254619,0.446569679542,0.744966530874,13.8103545953,2.1409901271900003,1.21683476874,0.517145991263,1.90593276713,0.380469161164,0.465781970972,0.342459705043,0.397317380131,0.0585660070754,0.352498584235,2.14463346178,1.8996986330400003,0.493983688604,1.21812383412,0.213013396786,1.1118562074299998,null,5.00989828473,18.5983178822,1.77610139003],\"yaxis\":\"y\",\"type\":\"scatter\"},{\"hovertemplate\":\"continent=Oceania<br>gdpPercap=%{x}<br>CO2 emissions (metric tons per capita)=%{y}<br>pop=%{marker.size}<extra></extra>\",\"legendgroup\":\"Oceania\",\"marker\":{\"color\":\"#19d3f3\",\"size\":[11872264.0,2728150.0],\"sizemode\":\"area\",\"sizeref\":1886375.0,\"symbol\":\"circle\"},\"mode\":\"markers\",\"name\":\"Oceania\",\"orientation\":\"v\",\"showlegend\":true,\"x\":[14526.12465,14463.918930000002],\"xaxis\":\"x\",\"y\":[10.9556247987,5.00761352373],\"yaxis\":\"y\",\"type\":\"scatter\"}],                        {\"template\":{\"data\":{\"histogram2dcontour\":[{\"type\":\"histogram2dcontour\",\"colorbar\":{\"outlinewidth\":0,\"ticks\":\"\"},\"colorscale\":[[0.0,\"#0d0887\"],[0.1111111111111111,\"#46039f\"],[0.2222222222222222,\"#7201a8\"],[0.3333333333333333,\"#9c179e\"],[0.4444444444444444,\"#bd3786\"],[0.5555555555555556,\"#d8576b\"],[0.6666666666666666,\"#ed7953\"],[0.7777777777777778,\"#fb9f3a\"],[0.8888888888888888,\"#fdca26\"],[1.0,\"#f0f921\"]]}],\"choropleth\":[{\"type\":\"choropleth\",\"colorbar\":{\"outlinewidth\":0,\"ticks\":\"\"}}],\"histogram2d\":[{\"type\":\"histogram2d\",\"colorbar\":{\"outlinewidth\":0,\"ticks\":\"\"},\"colorscale\":[[0.0,\"#0d0887\"],[0.1111111111111111,\"#46039f\"],[0.2222222222222222,\"#7201a8\"],[0.3333333333333333,\"#9c179e\"],[0.4444444444444444,\"#bd3786\"],[0.5555555555555556,\"#d8576b\"],[0.6666666666666666,\"#ed7953\"],[0.7777777777777778,\"#fb9f3a\"],[0.8888888888888888,\"#fdca26\"],[1.0,\"#f0f921\"]]}],\"heatmap\":[{\"type\":\"heatmap\",\"colorbar\":{\"outlinewidth\":0,\"ticks\":\"\"},\"colorscale\":[[0.0,\"#0d0887\"],[0.1111111111111111,\"#46039f\"],[0.2222222222222222,\"#7201a8\"],[0.3333333333333333,\"#9c179e\"],[0.4444444444444444,\"#bd3786\"],[0.5555555555555556,\"#d8576b\"],[0.6666666666666666,\"#ed7953\"],[0.7777777777777778,\"#fb9f3a\"],[0.8888888888888888,\"#fdca26\"],[1.0,\"#f0f921\"]]}],\"heatmapgl\":[{\"type\":\"heatmapgl\",\"colorbar\":{\"outlinewidth\":0,\"ticks\":\"\"},\"colorscale\":[[0.0,\"#0d0887\"],[0.1111111111111111,\"#46039f\"],[0.2222222222222222,\"#7201a8\"],[0.3333333333333333,\"#9c179e\"],[0.4444444444444444,\"#bd3786\"],[0.5555555555555556,\"#d8576b\"],[0.6666666666666666,\"#ed7953\"],[0.7777777777777778,\"#fb9f3a\"],[0.8888888888888888,\"#fdca26\"],[1.0,\"#f0f921\"]]}],\"contourcarpet\":[{\"type\":\"contourcarpet\",\"colorbar\":{\"outlinewidth\":0,\"ticks\":\"\"}}],\"contour\":[{\"type\":\"contour\",\"colorbar\":{\"outlinewidth\":0,\"ticks\":\"\"},\"colorscale\":[[0.0,\"#0d0887\"],[0.1111111111111111,\"#46039f\"],[0.2222222222222222,\"#7201a8\"],[0.3333333333333333,\"#9c179e\"],[0.4444444444444444,\"#bd3786\"],[0.5555555555555556,\"#d8576b\"],[0.6666666666666666,\"#ed7953\"],[0.7777777777777778,\"#fb9f3a\"],[0.8888888888888888,\"#fdca26\"],[1.0,\"#f0f921\"]]}],\"surface\":[{\"type\":\"surface\",\"colorbar\":{\"outlinewidth\":0,\"ticks\":\"\"},\"colorscale\":[[0.0,\"#0d0887\"],[0.1111111111111111,\"#46039f\"],[0.2222222222222222,\"#7201a8\"],[0.3333333333333333,\"#9c179e\"],[0.4444444444444444,\"#bd3786\"],[0.5555555555555556,\"#d8576b\"],[0.6666666666666666,\"#ed7953\"],[0.7777777777777778,\"#fb9f3a\"],[0.8888888888888888,\"#fdca26\"],[1.0,\"#f0f921\"]]}],\"mesh3d\":[{\"type\":\"mesh3d\",\"colorbar\":{\"outlinewidth\":0,\"ticks\":\"\"}}],\"scatter\":[{\"fillpattern\":{\"fillmode\":\"overlay\",\"size\":10,\"solidity\":0.2},\"type\":\"scatter\"}],\"parcoords\":[{\"type\":\"parcoords\",\"line\":{\"colorbar\":{\"outlinewidth\":0,\"ticks\":\"\"}}}],\"scatterpolargl\":[{\"type\":\"scatterpolargl\",\"marker\":{\"colorbar\":{\"outlinewidth\":0,\"ticks\":\"\"}}}],\"bar\":[{\"error_x\":{\"color\":\"#2a3f5f\"},\"error_y\":{\"color\":\"#2a3f5f\"},\"marker\":{\"line\":{\"color\":\"#E5ECF6\",\"width\":0.5},\"pattern\":{\"fillmode\":\"overlay\",\"size\":10,\"solidity\":0.2}},\"type\":\"bar\"}],\"scattergeo\":[{\"type\":\"scattergeo\",\"marker\":{\"colorbar\":{\"outlinewidth\":0,\"ticks\":\"\"}}}],\"scatterpolar\":[{\"type\":\"scatterpolar\",\"marker\":{\"colorbar\":{\"outlinewidth\":0,\"ticks\":\"\"}}}],\"histogram\":[{\"marker\":{\"pattern\":{\"fillmode\":\"overlay\",\"size\":10,\"solidity\":0.2}},\"type\":\"histogram\"}],\"scattergl\":[{\"type\":\"scattergl\",\"marker\":{\"colorbar\":{\"outlinewidth\":0,\"ticks\":\"\"}}}],\"scatter3d\":[{\"type\":\"scatter3d\",\"line\":{\"colorbar\":{\"outlinewidth\":0,\"ticks\":\"\"}},\"marker\":{\"colorbar\":{\"outlinewidth\":0,\"ticks\":\"\"}}}],\"scattermapbox\":[{\"type\":\"scattermapbox\",\"marker\":{\"colorbar\":{\"outlinewidth\":0,\"ticks\":\"\"}}}],\"scatterternary\":[{\"type\":\"scatterternary\",\"marker\":{\"colorbar\":{\"outlinewidth\":0,\"ticks\":\"\"}}}],\"scattercarpet\":[{\"type\":\"scattercarpet\",\"marker\":{\"colorbar\":{\"outlinewidth\":0,\"ticks\":\"\"}}}],\"carpet\":[{\"aaxis\":{\"endlinecolor\":\"#2a3f5f\",\"gridcolor\":\"white\",\"linecolor\":\"white\",\"minorgridcolor\":\"white\",\"startlinecolor\":\"#2a3f5f\"},\"baxis\":{\"endlinecolor\":\"#2a3f5f\",\"gridcolor\":\"white\",\"linecolor\":\"white\",\"minorgridcolor\":\"white\",\"startlinecolor\":\"#2a3f5f\"},\"type\":\"carpet\"}],\"table\":[{\"cells\":{\"fill\":{\"color\":\"#EBF0F8\"},\"line\":{\"color\":\"white\"}},\"header\":{\"fill\":{\"color\":\"#C8D4E3\"},\"line\":{\"color\":\"white\"}},\"type\":\"table\"}],\"barpolar\":[{\"marker\":{\"line\":{\"color\":\"#E5ECF6\",\"width\":0.5},\"pattern\":{\"fillmode\":\"overlay\",\"size\":10,\"solidity\":0.2}},\"type\":\"barpolar\"}],\"pie\":[{\"automargin\":true,\"type\":\"pie\"}]},\"layout\":{\"autotypenumbers\":\"strict\",\"colorway\":[\"#636efa\",\"#EF553B\",\"#00cc96\",\"#ab63fa\",\"#FFA15A\",\"#19d3f3\",\"#FF6692\",\"#B6E880\",\"#FF97FF\",\"#FECB52\"],\"font\":{\"color\":\"#2a3f5f\"},\"hovermode\":\"closest\",\"hoverlabel\":{\"align\":\"left\"},\"paper_bgcolor\":\"white\",\"plot_bgcolor\":\"#E5ECF6\",\"polar\":{\"bgcolor\":\"#E5ECF6\",\"angularaxis\":{\"gridcolor\":\"white\",\"linecolor\":\"white\",\"ticks\":\"\"},\"radialaxis\":{\"gridcolor\":\"white\",\"linecolor\":\"white\",\"ticks\":\"\"}},\"ternary\":{\"bgcolor\":\"#E5ECF6\",\"aaxis\":{\"gridcolor\":\"white\",\"linecolor\":\"white\",\"ticks\":\"\"},\"baxis\":{\"gridcolor\":\"white\",\"linecolor\":\"white\",\"ticks\":\"\"},\"caxis\":{\"gridcolor\":\"white\",\"linecolor\":\"white\",\"ticks\":\"\"}},\"coloraxis\":{\"colorbar\":{\"outlinewidth\":0,\"ticks\":\"\"}},\"colorscale\":{\"sequential\":[[0.0,\"#0d0887\"],[0.1111111111111111,\"#46039f\"],[0.2222222222222222,\"#7201a8\"],[0.3333333333333333,\"#9c179e\"],[0.4444444444444444,\"#bd3786\"],[0.5555555555555556,\"#d8576b\"],[0.6666666666666666,\"#ed7953\"],[0.7777777777777778,\"#fb9f3a\"],[0.8888888888888888,\"#fdca26\"],[1.0,\"#f0f921\"]],\"sequentialminus\":[[0.0,\"#0d0887\"],[0.1111111111111111,\"#46039f\"],[0.2222222222222222,\"#7201a8\"],[0.3333333333333333,\"#9c179e\"],[0.4444444444444444,\"#bd3786\"],[0.5555555555555556,\"#d8576b\"],[0.6666666666666666,\"#ed7953\"],[0.7777777777777778,\"#fb9f3a\"],[0.8888888888888888,\"#fdca26\"],[1.0,\"#f0f921\"]],\"diverging\":[[0,\"#8e0152\"],[0.1,\"#c51b7d\"],[0.2,\"#de77ae\"],[0.3,\"#f1b6da\"],[0.4,\"#fde0ef\"],[0.5,\"#f7f7f7\"],[0.6,\"#e6f5d0\"],[0.7,\"#b8e186\"],[0.8,\"#7fbc41\"],[0.9,\"#4d9221\"],[1,\"#276419\"]]},\"xaxis\":{\"gridcolor\":\"white\",\"linecolor\":\"white\",\"ticks\":\"\",\"title\":{\"standoff\":15},\"zerolinecolor\":\"white\",\"automargin\":true,\"zerolinewidth\":2},\"yaxis\":{\"gridcolor\":\"white\",\"linecolor\":\"white\",\"ticks\":\"\",\"title\":{\"standoff\":15},\"zerolinecolor\":\"white\",\"automargin\":true,\"zerolinewidth\":2},\"scene\":{\"xaxis\":{\"backgroundcolor\":\"#E5ECF6\",\"gridcolor\":\"white\",\"linecolor\":\"white\",\"showbackground\":true,\"ticks\":\"\",\"zerolinecolor\":\"white\",\"gridwidth\":2},\"yaxis\":{\"backgroundcolor\":\"#E5ECF6\",\"gridcolor\":\"white\",\"linecolor\":\"white\",\"showbackground\":true,\"ticks\":\"\",\"zerolinecolor\":\"white\",\"gridwidth\":2},\"zaxis\":{\"backgroundcolor\":\"#E5ECF6\",\"gridcolor\":\"white\",\"linecolor\":\"white\",\"showbackground\":true,\"ticks\":\"\",\"zerolinecolor\":\"white\",\"gridwidth\":2}},\"shapedefaults\":{\"line\":{\"color\":\"#2a3f5f\"}},\"annotationdefaults\":{\"arrowcolor\":\"#2a3f5f\",\"arrowhead\":0,\"arrowwidth\":1},\"geo\":{\"bgcolor\":\"white\",\"landcolor\":\"#E5ECF6\",\"subunitcolor\":\"white\",\"showland\":true,\"showlakes\":true,\"lakecolor\":\"white\"},\"title\":{\"x\":0.05},\"mapbox\":{\"style\":\"light\"}}},\"xaxis\":{\"anchor\":\"y\",\"domain\":[0.0,1.0],\"title\":{\"text\":\"gdpPercap\"},\"type\":\"log\"},\"yaxis\":{\"anchor\":\"x\",\"domain\":[0.0,1.0],\"title\":{\"text\":\"CO2 emissions (metric tons per capita)\"},\"type\":\"log\"},\"legend\":{\"title\":{\"text\":\"continent\"},\"tracegroupgap\":0,\"itemsizing\":\"constant\"},\"margin\":{\"t\":60}},                        {\"responsive\": true}                    ).then(function(){\n",
       "                            \n",
       "var gd = document.getElementById('8beee69f-0339-4b3b-ac41-4ab2a32d53a0');\n",
       "var x = new MutationObserver(function (mutations, observer) {{\n",
       "        var display = window.getComputedStyle(gd).display;\n",
       "        if (!display || display === 'none') {{\n",
       "            console.log([gd, 'removed!']);\n",
       "            Plotly.purge(gd);\n",
       "            observer.disconnect();\n",
       "        }}\n",
       "}});\n",
       "\n",
       "// Listen for the removal of the full notebook cells\n",
       "var notebookContainer = gd.closest('#notebook-container');\n",
       "if (notebookContainer) {{\n",
       "    x.observe(notebookContainer, {childList: true});\n",
       "}}\n",
       "\n",
       "// Listen for the clearing of the current output cell\n",
       "var outputEl = gd.closest('.output');\n",
       "if (outputEl) {{\n",
       "    x.observe(outputEl, {childList: true});\n",
       "}}\n",
       "\n",
       "                        })                };                });            </script>        </div>"
      ]
     },
     "metadata": {},
     "output_type": "display_data"
    }
   ],
   "source": [
    "# Create the scatter plot\n",
    "fig = px.scatter(df_filtered, x=\"gdpPercap\", y=\"CO2 emissions (metric tons per capita)\", size=\"pop\", color=\"continent\", log_x=True, log_y=True)\n",
    "\n",
    "fig.show()"
   ]
  },
  {
   "cell_type": "markdown",
   "id": "0d6344be",
   "metadata": {},
   "source": [
    "##### Explaining the code:\n",
    "Here, we are creating a scatter plot using the scatter() function that is within the Plotly library. We pass in the filtered dataframe 'df_filtered' as the first argument. We then specify what columns to use for the x and y axes, and use the 'size' parameter to specify the size of the markers based on the 'pop' column (population). The 'color' parameter is specified to color the markers based on the 'continent' column. We log-scale the x-axis and the y-axis for easier visualization of the plot."
   ]
  },
  {
   "cell_type": "markdown",
   "id": "b5a7efba",
   "metadata": {},
   "source": [
    "# PART 2"
   ]
  },
  {
   "cell_type": "markdown",
   "id": "9320f332",
   "metadata": {},
   "source": [
    "### Question 1\n",
    "\n",
    "#### What is the relationship between 'continent' and 'Energy use (kg of oil equivalent per capita)'? (Stats test needed)"
   ]
  },
  {
   "cell_type": "markdown",
   "id": "41f22f06",
   "metadata": {},
   "source": [
    "--------------------------------------------------------------------------\n",
    "##### Before we begin:\n",
    "\n",
    "To analyze the relationship between continent and \"Energy use (kg of oil equivalent per capita)\", we can use a one-way analysis of variance (ANOVA) test.\n",
    "\n",
    "The one-way ANOVA test compares the means of three or more groups to determine whether there is a statistically significant difference between them. Our groups happen to be the continents, and the means we are comparing are those of the continents' respective energy use.\n",
    "\n",
    "The null hypothesis expects there to be no difference between the means of the different continents in terms of energy use, while the alternative hypothesis is that there is a significant difference between the means.\n",
    "\n",
    "To conduct the ANOVA test, we use different statistical values (mean, standard deviation, sample size) to calculate the F-statistic. We calculate a critical value using the sample sizes to compare to the F-statistic. If the F-statistic is greater than the critical value for a given level of significance (we will use alpha = 0.05), then we reject the null hypothesis and conclude that there is, in fact, a significant difference between the means of the different continents. "
   ]
  },
  {
   "cell_type": "code",
   "execution_count": 70,
   "id": "153c9f9e",
   "metadata": {},
   "outputs": [
    {
     "name": "stdout",
     "output_type": "stream",
     "text": [
      "f-statistic: 51.4592\n",
      "critical f-statistic: 2.3825\n",
      "p-value: 8.527003487154367e-39\n",
      "\n",
      "\n",
      "f-statistic > critical f-statistic: True\n"
     ]
    }
   ],
   "source": [
    "# Drop NaNs from the energy use subset\n",
    "df_e = df.dropna(subset=['Energy use (kg of oil equivalent per capita)'])\n",
    "\n",
    "# Filter for the continents and their respective energy useage\n",
    "asia = df_e[df_e['continent'] == 'Asia']['Energy use (kg of oil equivalent per capita)']\n",
    "europe = df_e[df_e['continent'] == 'Europe']['Energy use (kg of oil equivalent per capita)']\n",
    "africa = df_e[df_e['continent'] == 'Africa']['Energy use (kg of oil equivalent per capita)']\n",
    "americas = df_e[df_e['continent'] == 'Americas']['Energy use (kg of oil equivalent per capita)']\n",
    "oceania = df_e[df_e['continent'] == 'Oceania']['Energy use (kg of oil equivalent per capita)']\n",
    "\n",
    "# Get sample sizes for each continent\n",
    "n1 = len(asia)\n",
    "n2 = len(europe)\n",
    "n3 = len(africa)\n",
    "n4 = len(americas)\n",
    "n5 = len(oceania)\n",
    "\n",
    "k = 5    # number of groups\n",
    "\n",
    "N = n1 + n2 + n3 + n4 + n5   # total sample size\n",
    "\n",
    "df_between = k - 1   # degrees of freedom for between-groups variance\n",
    "\n",
    "df_total = (n1-1) + (n2-1) + (n3-1) + (n4-1) + (n5-1)   # total degrees of freedom\n",
    "\n",
    "df_within = df_total - df_between   # degrees of freedom for within-groups variance\n",
    "\n",
    "alpha = 0.05  # specify the level of significance\n",
    "\n",
    "# use the f.ppf() function to find the critical F-value\n",
    "critical_value = stats.f.ppf(1 - alpha, df_between, df_within)\n",
    "\n",
    "# use the f_oneway() function to run the oneway ANOVA on our dataset\n",
    "f, p = stats.f_oneway(asia, europe, africa, americas, oceania)\n",
    "\n",
    "print(f'f-statistic: {f:.4f}\\ncritical f-statistic: {critical_value:.4f}\\np-value: {p}\\n')\n",
    "print(f'\\nf-statistic > critical f-statistic: {f > critical_value}')"
   ]
  },
  {
   "cell_type": "code",
   "execution_count": 71,
   "id": "dcc88f3f",
   "metadata": {},
   "outputs": [
    {
     "data": {
      "application/vnd.plotly.v1+json": {
       "config": {
        "plotlyServerURL": "https://plot.ly"
       },
       "data": [
        {
         "alignmentgroup": "True",
         "hovertemplate": "continent=%{x}<br>Energy use (kg of oil equivalent per capita)=%{y}<extra></extra>",
         "legendgroup": "",
         "marker": {
          "color": "#636efa"
         },
         "name": "",
         "notched": false,
         "offsetgroup": "",
         "orientation": "v",
         "showlegend": false,
         "type": "box",
         "x": [
          "Europe",
          "Europe",
          "Europe",
          "Europe",
          "Europe",
          "Europe",
          "Europe",
          "Europe",
          "Africa",
          "Africa",
          "Africa",
          "Africa",
          "Africa",
          "Africa",
          "Africa",
          "Africa",
          "Africa",
          "Africa",
          "Africa",
          "Africa",
          "Africa",
          "Africa",
          "Africa",
          "Africa",
          null,
          null,
          null,
          null,
          null,
          null,
          null,
          null,
          null,
          "Americas",
          "Americas",
          "Americas",
          "Americas",
          "Americas",
          "Americas",
          "Americas",
          "Americas",
          null,
          null,
          null,
          null,
          "Oceania",
          "Oceania",
          "Oceania",
          "Oceania",
          "Oceania",
          "Oceania",
          "Oceania",
          "Oceania",
          "Oceania",
          "Oceania",
          "Europe",
          "Europe",
          "Europe",
          "Europe",
          "Europe",
          "Europe",
          "Europe",
          "Europe",
          "Europe",
          "Europe",
          null,
          null,
          null,
          null,
          null,
          "Asia",
          "Asia",
          "Asia",
          "Asia",
          "Asia",
          "Asia",
          "Asia",
          "Asia",
          "Asia",
          "Asia",
          "Asia",
          "Asia",
          "Asia",
          "Asia",
          "Asia",
          "Asia",
          null,
          null,
          null,
          null,
          null,
          "Europe",
          "Europe",
          "Europe",
          "Europe",
          "Europe",
          "Europe",
          "Europe",
          "Europe",
          "Europe",
          "Europe",
          null,
          "Africa",
          "Africa",
          "Africa",
          "Africa",
          "Africa",
          "Africa",
          "Africa",
          "Africa",
          null,
          "Americas",
          "Americas",
          "Americas",
          "Americas",
          "Americas",
          "Americas",
          "Americas",
          "Americas",
          "Europe",
          "Europe",
          "Europe",
          "Europe",
          "Africa",
          "Africa",
          "Africa",
          "Africa",
          "Africa",
          "Africa",
          "Americas",
          "Americas",
          "Americas",
          "Americas",
          "Americas",
          "Americas",
          "Americas",
          "Americas",
          null,
          null,
          null,
          null,
          null,
          null,
          null,
          null,
          "Europe",
          "Europe",
          "Europe",
          "Europe",
          "Europe",
          "Europe",
          "Europe",
          "Europe",
          null,
          "Asia",
          "Asia",
          "Asia",
          "Africa",
          "Africa",
          "Africa",
          "Africa",
          "Africa",
          "Africa",
          "Africa",
          "Africa",
          "Americas",
          "Americas",
          "Americas",
          "Americas",
          "Americas",
          "Americas",
          "Americas",
          "Americas",
          "Americas",
          "Americas",
          null,
          null,
          null,
          null,
          null,
          null,
          null,
          null,
          null,
          "Americas",
          "Americas",
          "Americas",
          "Americas",
          "Americas",
          "Americas",
          "Americas",
          "Americas",
          "Asia",
          "Asia",
          "Asia",
          "Asia",
          "Asia",
          "Asia",
          "Asia",
          "Asia",
          "Americas",
          "Americas",
          "Americas",
          "Americas",
          "Americas",
          "Americas",
          "Americas",
          "Americas",
          "Africa",
          null,
          null,
          null,
          null,
          null,
          null,
          null,
          null,
          null,
          null,
          null,
          null,
          null,
          null,
          null,
          null,
          "Americas",
          "Americas",
          "Americas",
          "Americas",
          "Americas",
          "Americas",
          "Americas",
          "Americas",
          "Africa",
          "Africa",
          "Africa",
          "Africa",
          "Africa",
          "Africa",
          "Africa",
          "Africa",
          "Europe",
          "Europe",
          "Europe",
          "Europe",
          "Americas",
          "Americas",
          "Americas",
          "Americas",
          "Americas",
          "Americas",
          "Americas",
          "Americas",
          null,
          null,
          null,
          null,
          null,
          null,
          null,
          null,
          null,
          null,
          null,
          null,
          null,
          null,
          null,
          null,
          "Europe",
          "Europe",
          "Europe",
          "Europe",
          "Europe",
          "Europe",
          "Europe",
          "Europe",
          "Europe",
          "Europe",
          "Europe",
          "Europe",
          "Europe",
          "Europe",
          "Europe",
          "Europe",
          "Europe",
          "Europe",
          "Africa",
          null,
          "Americas",
          "Americas",
          "Americas",
          "Americas",
          "Americas",
          "Americas",
          "Americas",
          "Americas",
          null,
          null,
          null,
          null,
          null,
          null,
          null,
          null,
          null,
          null,
          null,
          null,
          null,
          null,
          null,
          null,
          null,
          null,
          null,
          null,
          null,
          null,
          null,
          null,
          null,
          null,
          null,
          null,
          null,
          null,
          null,
          null,
          "Americas",
          "Americas",
          "Americas",
          "Americas",
          "Americas",
          "Americas",
          "Americas",
          "Americas",
          null,
          null,
          null,
          null,
          null,
          null,
          null,
          null,
          "Americas",
          "Americas",
          "Americas",
          "Americas",
          "Americas",
          "Americas",
          "Americas",
          "Americas",
          "Africa",
          "Africa",
          "Africa",
          "Africa",
          "Africa",
          null,
          null,
          null,
          null,
          "Africa",
          "Africa",
          "Africa",
          "Africa",
          "Africa",
          "Africa",
          "Africa",
          "Africa",
          null,
          null,
          null,
          null,
          null,
          null,
          null,
          null,
          null,
          null,
          null,
          null,
          null,
          null,
          null,
          null,
          null,
          null,
          null,
          null,
          null,
          null,
          null,
          null,
          null,
          null,
          null,
          null,
          null,
          null,
          null,
          null,
          null,
          "Europe",
          "Europe",
          "Europe",
          "Europe",
          "Europe",
          "Europe",
          "Europe",
          "Europe",
          "Europe",
          "Europe",
          null,
          null,
          null,
          null,
          null,
          null,
          null,
          null,
          "Europe",
          "Europe",
          "Europe",
          "Europe",
          "Europe",
          "Europe",
          "Europe",
          "Europe",
          "Europe",
          "Europe",
          "Africa",
          "Africa",
          "Africa",
          "Africa",
          "Africa",
          "Africa",
          "Africa",
          "Africa",
          null,
          null,
          null,
          null,
          null,
          "Europe",
          "Europe",
          "Europe",
          "Europe",
          "Europe",
          "Europe",
          "Europe",
          "Europe",
          "Europe",
          "Europe",
          "Africa",
          "Africa",
          "Africa",
          "Africa",
          "Africa",
          "Africa",
          "Africa",
          "Africa",
          null,
          null,
          null,
          null,
          null,
          null,
          null,
          null,
          "Europe",
          "Europe",
          "Europe",
          "Europe",
          "Europe",
          "Europe",
          "Europe",
          "Europe",
          "Europe",
          "Europe",
          null,
          "Americas",
          "Americas",
          "Americas",
          "Americas",
          "Americas",
          "Americas",
          "Americas",
          "Americas",
          "Africa",
          null,
          "Americas",
          "Americas",
          "Americas",
          "Americas",
          "Americas",
          "Americas",
          "Americas",
          "Americas",
          null,
          null,
          null,
          null,
          null,
          null,
          null,
          null,
          null,
          null,
          null,
          null,
          "Americas",
          "Americas",
          "Americas",
          "Americas",
          "Americas",
          "Americas",
          "Americas",
          "Americas",
          null,
          null,
          null,
          null,
          null,
          null,
          null,
          null,
          "Europe",
          "Europe",
          "Europe",
          "Europe",
          "Europe",
          "Europe",
          "Europe",
          "Europe",
          "Europe",
          null,
          null,
          null,
          null,
          null,
          null,
          null,
          null,
          null,
          null,
          null,
          null,
          null,
          null,
          null,
          null,
          null,
          null,
          null,
          null,
          null,
          null,
          null,
          null,
          null,
          null,
          null,
          null,
          null,
          null,
          null,
          null,
          null,
          null,
          null,
          null,
          null,
          null,
          null,
          null,
          "Europe",
          "Europe",
          "Europe",
          "Europe",
          "Europe",
          "Europe",
          "Europe",
          "Europe",
          "Europe",
          "Europe",
          "Asia",
          "Asia",
          "Asia",
          "Asia",
          "Asia",
          "Asia",
          "Asia",
          "Asia",
          "Asia",
          "Asia",
          "Asia",
          "Asia",
          "Asia",
          "Asia",
          "Asia",
          "Asia",
          null,
          null,
          null,
          null,
          null,
          null,
          null,
          null,
          "Asia",
          "Asia",
          "Asia",
          "Asia",
          "Asia",
          "Asia",
          "Asia",
          "Asia",
          "Europe",
          "Europe",
          "Europe",
          "Europe",
          "Europe",
          "Europe",
          "Europe",
          "Europe",
          "Europe",
          "Europe",
          "Asia",
          "Asia",
          "Asia",
          "Asia",
          "Asia",
          "Asia",
          "Asia",
          "Asia",
          "Europe",
          "Europe",
          "Europe",
          "Europe",
          "Europe",
          "Europe",
          "Europe",
          "Europe",
          "Europe",
          "Europe",
          "Americas",
          "Americas",
          "Americas",
          "Americas",
          "Americas",
          "Americas",
          "Americas",
          "Americas",
          "Asia",
          "Asia",
          "Asia",
          "Asia",
          "Asia",
          "Asia",
          "Asia",
          "Asia",
          "Asia",
          "Asia",
          "Asia",
          "Asia",
          "Asia",
          "Asia",
          "Asia",
          "Asia",
          "Asia",
          "Asia",
          null,
          null,
          null,
          null,
          "Africa",
          "Africa",
          "Africa",
          "Africa",
          "Africa",
          "Africa",
          "Africa",
          "Africa",
          null,
          null,
          null,
          null,
          null,
          null,
          null,
          null,
          null,
          null,
          null,
          null,
          null,
          null,
          null,
          null,
          null,
          null,
          null,
          "Asia",
          "Asia",
          "Asia",
          "Asia",
          "Asia",
          "Asia",
          "Asia",
          null,
          null,
          null,
          null,
          null,
          null,
          null,
          null,
          null,
          null,
          null,
          null,
          null,
          null,
          null,
          null,
          null,
          null,
          null,
          null,
          null,
          null,
          null,
          null,
          null,
          null,
          null,
          null,
          null,
          null,
          null,
          null,
          null,
          null,
          null,
          null,
          null,
          null,
          null,
          null,
          null,
          null,
          null,
          null,
          null,
          null,
          null,
          null,
          "Asia",
          "Asia",
          "Asia",
          "Asia",
          "Asia",
          "Asia",
          "Asia",
          "Asia",
          "Africa",
          "Africa",
          "Africa",
          "Africa",
          "Africa",
          "Africa",
          "Africa",
          "Africa",
          "Africa",
          null,
          null,
          null,
          null,
          null,
          null,
          null,
          null,
          null,
          null,
          null,
          null,
          null,
          null,
          null,
          null,
          null,
          null,
          null,
          null,
          null,
          null,
          null,
          null,
          null,
          null,
          null,
          null,
          null,
          null,
          null,
          null,
          null,
          null,
          "Asia",
          "Asia",
          "Asia",
          "Asia",
          "Asia",
          "Asia",
          "Asia",
          "Asia",
          null,
          null,
          null,
          null,
          null,
          null,
          null,
          null,
          null,
          null,
          "Africa",
          "Africa",
          "Africa",
          "Africa",
          "Africa",
          "Africa",
          "Africa",
          "Africa",
          "Americas",
          "Americas",
          "Americas",
          "Americas",
          "Americas",
          "Americas",
          "Americas",
          "Americas",
          null,
          null,
          null,
          null,
          null,
          null,
          null,
          null,
          null,
          null,
          null,
          null,
          null,
          null,
          null,
          null,
          null,
          null,
          null,
          null,
          null,
          null,
          null,
          null,
          null,
          null,
          null,
          null,
          null,
          null,
          null,
          null,
          null,
          null,
          null,
          null,
          "Asia",
          "Asia",
          "Asia",
          "Asia",
          "Asia",
          "Europe",
          "Africa",
          "Africa",
          "Africa",
          "Africa",
          "Africa",
          "Africa",
          "Africa",
          "Africa",
          "Africa",
          "Africa",
          "Africa",
          "Africa",
          "Africa",
          "Africa",
          "Africa",
          "Africa",
          "Asia",
          "Asia",
          "Asia",
          "Asia",
          "Asia",
          "Asia",
          "Asia",
          "Asia",
          "Africa",
          "Africa",
          "Africa",
          "Africa",
          "Asia",
          "Asia",
          "Asia",
          "Asia",
          "Asia",
          "Asia",
          "Asia",
          "Asia",
          "Europe",
          "Europe",
          "Europe",
          "Europe",
          "Europe",
          "Europe",
          "Europe",
          "Europe",
          "Europe",
          "Europe",
          "Oceania",
          "Oceania",
          "Oceania",
          "Oceania",
          "Oceania",
          "Oceania",
          "Oceania",
          "Oceania",
          "Oceania",
          "Oceania",
          "Americas",
          "Americas",
          "Americas",
          "Americas",
          "Americas",
          "Americas",
          "Americas",
          "Americas",
          "Africa",
          "Africa",
          "Africa",
          "Africa",
          "Africa",
          "Africa",
          "Africa",
          "Africa",
          "Africa",
          "Africa",
          null,
          null,
          null,
          null,
          null,
          null,
          null,
          null,
          null,
          null,
          "Europe",
          "Europe",
          "Europe",
          "Europe",
          "Europe",
          "Europe",
          "Europe",
          "Europe",
          "Europe",
          "Europe",
          null,
          null,
          null,
          null,
          null,
          null,
          null,
          null,
          null,
          null,
          "Asia",
          "Asia",
          "Asia",
          "Asia",
          "Asia",
          "Asia",
          "Asia",
          "Asia",
          null,
          null,
          "Asia",
          "Asia",
          "Asia",
          "Asia",
          "Asia",
          "Asia",
          "Asia",
          "Asia",
          "Americas",
          "Americas",
          "Americas",
          "Americas",
          "Americas",
          "Americas",
          "Americas",
          "Americas",
          "Americas",
          "Americas",
          "Americas",
          "Americas",
          "Americas",
          "Americas",
          "Americas",
          "Americas",
          "Americas",
          "Americas",
          "Americas",
          "Americas",
          "Americas",
          "Americas",
          "Americas",
          "Americas",
          "Asia",
          "Asia",
          "Asia",
          "Asia",
          "Asia",
          "Asia",
          "Asia",
          "Asia",
          "Europe",
          "Europe",
          "Europe",
          "Europe",
          "Europe",
          "Europe",
          "Europe",
          "Europe",
          "Europe",
          "Europe",
          "Europe",
          "Europe",
          "Europe",
          "Europe",
          "Europe",
          "Europe",
          "Europe",
          "Europe",
          "Europe",
          "Europe",
          null,
          null,
          null,
          null,
          null,
          null,
          null,
          null,
          null,
          null,
          null,
          null,
          null,
          null,
          null,
          null,
          null,
          null,
          null,
          null,
          null,
          null,
          null,
          null,
          null,
          null,
          "Europe",
          "Europe",
          "Europe",
          "Europe",
          "Europe",
          "Europe",
          "Europe",
          "Europe",
          null,
          null,
          null,
          null,
          null,
          "Africa",
          "Asia",
          "Asia",
          "Asia",
          "Asia",
          "Asia",
          "Asia",
          "Asia",
          "Asia",
          "Africa",
          "Africa",
          "Africa",
          "Africa",
          "Africa",
          "Africa",
          "Africa",
          "Africa",
          "Europe",
          "Europe",
          "Europe",
          "Europe",
          null,
          "Asia",
          "Asia",
          "Asia",
          "Asia",
          "Asia",
          "Asia",
          "Asia",
          "Asia",
          "Europe",
          "Europe",
          "Europe",
          "Europe",
          "Europe",
          "Europe",
          "Europe",
          "Europe",
          "Europe",
          "Europe",
          "Europe",
          "Europe",
          null,
          null,
          "Africa",
          "Africa",
          "Africa",
          "Africa",
          "Africa",
          "Africa",
          "Africa",
          "Africa",
          null,
          null,
          null,
          null,
          null,
          null,
          null,
          null,
          null,
          null,
          null,
          null,
          null,
          null,
          null,
          null,
          "Europe",
          "Europe",
          "Europe",
          "Europe",
          "Europe",
          "Europe",
          "Europe",
          "Europe",
          "Europe",
          "Europe",
          "Asia",
          "Asia",
          "Asia",
          "Asia",
          "Asia",
          "Asia",
          "Asia",
          "Asia",
          null,
          null,
          null,
          null,
          null,
          null,
          null,
          null,
          null,
          null,
          null,
          null,
          null,
          null,
          null,
          null,
          null,
          null,
          null,
          null,
          null,
          null,
          null,
          null,
          null,
          null,
          null,
          "Africa",
          "Africa",
          "Africa",
          "Africa",
          "Africa",
          "Africa",
          "Africa",
          "Africa",
          null,
          "Africa",
          "Europe",
          "Europe",
          "Europe",
          "Europe",
          "Europe",
          "Europe",
          "Europe",
          "Europe",
          "Europe",
          "Europe",
          "Europe",
          "Europe",
          "Europe",
          "Europe",
          "Europe",
          "Europe",
          "Europe",
          "Europe",
          "Europe",
          "Europe",
          null,
          null,
          null,
          null,
          null,
          null,
          null,
          null,
          null,
          null,
          null,
          null,
          "Africa",
          "Africa",
          "Africa",
          "Africa",
          "Africa",
          "Africa",
          "Africa",
          "Africa",
          "Asia",
          "Asia",
          "Asia",
          "Asia",
          "Asia",
          "Asia",
          "Asia",
          "Asia",
          null,
          "Africa",
          "Africa",
          "Africa",
          "Africa",
          "Africa",
          "Africa",
          "Africa",
          "Africa",
          null,
          "Americas",
          "Americas",
          "Americas",
          "Americas",
          "Americas",
          "Americas",
          "Americas",
          "Americas",
          "Africa",
          "Africa",
          "Africa",
          "Africa",
          "Africa",
          "Africa",
          "Africa",
          "Africa",
          "Europe",
          "Europe",
          "Europe",
          "Europe",
          "Europe",
          "Europe",
          "Europe",
          "Europe",
          "Europe",
          "Europe",
          null,
          null,
          null,
          null,
          null,
          null,
          null,
          null,
          null,
          null,
          null,
          null,
          null,
          null,
          null,
          null,
          "Europe",
          "Europe",
          "Europe",
          "Europe",
          "Europe",
          "Europe",
          "Europe",
          "Europe",
          "Europe",
          "Europe",
          "Americas",
          "Americas",
          "Americas",
          "Americas",
          "Americas",
          "Americas",
          "Americas",
          "Americas",
          "Americas",
          "Americas",
          null,
          null,
          null,
          null,
          null,
          null,
          null,
          null,
          "Americas",
          "Americas",
          "Americas",
          "Americas",
          "Americas",
          "Americas",
          "Americas",
          "Americas",
          null,
          null,
          null,
          null,
          null,
          null,
          null,
          null,
          null,
          null,
          null,
          null,
          null,
          "Asia",
          "Asia",
          "Asia",
          "Asia",
          "Asia",
          "Asia",
          "Asia",
          "Asia",
          null,
          null,
          null,
          null,
          null,
          null,
          null,
          null,
          null,
          null,
          null,
          null,
          null,
          null,
          null,
          null,
          "Africa",
          "Africa",
          "Africa",
          "Africa",
          "Africa",
          "Africa",
          "Africa",
          "Africa",
          "Africa",
          "Africa",
          "Africa",
          "Africa",
          "Africa",
          "Africa",
          "Africa",
          "Africa"
         ],
         "x0": " ",
         "xaxis": "x",
         "y": [
          865.592481207,
          923.728867504,
          966.683283781,
          921.893044018,
          418.286629757,
          384.594958328,
          645.080153785,
          679.861765101,
          261.465250751,
          398.656113469,
          771.235497639,
          827.552506829,
          883.7458819,
          804.842705115,
          904.456391853,
          1075.19412704,
          629.301934363,
          535.2524622330001,
          514.415934309,
          502.598458911,
          511.237051724,
          494.174484207,
          515.4034564030001,
          561.5501055130001,
          1729.91930993,
          411.951769624,
          561.243583009,
          955.19603006,
          1086.31128033,
          1148.14095379,
          1306.83962551,
          1395.88351005,
          1578.8806925,
          1379.81886741,
          1420.56765898,
          1416.53992488,
          1477.07652885,
          1484.0589177000004,
          1614.33824027,
          1502.22488095,
          1846.93675639,
          1197.44907736,
          593.385435988,
          615.761298141,
          954.730353597,
          3172.97486502,
          3692.80794983,
          4035.20634439,
          4671.19567362,
          4817.48952431,
          4772.37046465,
          4959.21491855,
          5469.5999892,
          5569.6409925,
          5868.34709712,
          1675.87362115,
          1920.21212423,
          2627.32249578,
          2797.42192238,
          2830.22178095,
          3174.74539203,
          3239.0639673,
          3542.5214303,
          3765.28296302,
          4029.62695258,
          2464.59739908,
          1444.31945906,
          1414.52811141,
          1411.5573398,
          2071.53062447,
          5960.21133509,
          8187.11498635,
          9071.02474414,
          9523.46356521,
          10844.7550254,
          12122.0506027,
          11704.3047293,
          11291.126355,
          86.903766977,
          97.860763105,
          105.482961637,
          106.866835127,
          119.405481659,
          135.210016124,
          149.933182829,
          173.580998621,
          1452.08832753,
          3620.73198904,
          2505.60462588,
          2550.2504815,
          2918.19790795,
          2810.06114801,
          3182.9234575,
          4473.92951273,
          4589.52441,
          4208.25780214,
          4727.68639528,
          5092.96578511,
          5579.51075728,
          5461.40290348,
          5389.28164733,
          596.508748236,
          380.812029086,
          363.746124276,
          355.338045025,
          347.306591796,
          321.349456122,
          350.78972053,
          305.04923703400004,
          368.216084341,
          358.04898521,
          240.157170254,
          331.439253894,
          462.43170312,
          341.493450003,
          399.828007323,
          561.077061465,
          528.760849998,
          561.052703379,
          1034.34415156,
          712.9252777060001,
          1156.99672325,
          1381.12205494,
          739.29915268,
          743.685354401,
          979.087310581,
          900.173527778,
          1032.6780741,
          1028.07041536,
          741.6918705969998,
          868.475086329,
          867.193602187,
          987.562557183,
          929.003678998,
          1061.83829204,
          1081.26747985,
          1221.36231051,
          1236.99906935,
          6071.48527838,
          6813.23118487,
          6804.97076023,
          7719.68719323,
          7541.99892815,
          6282.73968135,
          8618.396139499999,
          2262.78654882,
          2954.26673889,
          3309.20642511,
          3411.07339479,
          2396.00726637,
          2504.12268042,
          2401.37660851,
          2666.11144524,
          214.01352233,
          265.896639422,
          314.97027594400004,
          253.343288148,
          386.14642293800006,
          402.624623832,
          423.360959463,
          417.73292245,
          397.277540786,
          396.727156517,
          389.52261441,
          332.30332161,
          4451.56011604,
          5557.29174015,
          6933.60655182,
          7409.53000504,
          7149.344059999999,
          7641.32410546,
          7479.477427399999,
          7965.51932158,
          7920.11022894,
          8130.58019344,
          3923.68240346,
          2666.45876684,
          3195.30598842,
          3337.52764477,
          3516.41453538,
          2619.68516777,
          2634.73654948,
          2473.83496499,
          2686.14645564,
          891.2738674039999,
          779.391621026,
          763.201224638,
          826.260796732,
          1141.81007039,
          1558.78524634,
          1644.79154564,
          1860.10017433,
          477.168708746,
          577.211010594,
          606.830437326,
          694.4223599789999,
          752.628662541,
          871.6462695360001,
          978.61898313,
          1550.53027085,
          598.975288294,
          638.025434659,
          635.432893568,
          696.0663928460001,
          704.354798517,
          709.8217022360001,
          606.266720641,
          637.510761494,
          63.1348128438,
          324.393556061,
          322.759073753,
          320.593261177,
          333.03186626400003,
          318.353444006,
          303.09167438400004,
          292.270860798,
          299.806124773,
          371.116849444,
          349.08917144199995,
          355.097864769,
          347.181743295,
          317.468598242,
          252.12535469,
          243.170200073,
          338.481267822,
          442.444664949,
          528.165846592,
          455.822967416,
          491.495062694,
          705.487675532,
          647.0037811669999,
          748.21348058,
          1031.80869969,
          453.243100247,
          449.52124719,
          393.432418022,
          383.372484812,
          373.659519455,
          386.175169435,
          406.144021726,
          539.7271851830001,
          1502.13713647,
          1704.81692913,
          1856.86891892,
          2102.14585212,
          1154.55654156,
          1424.73743541,
          1536.90510757,
          1578.25907104,
          1214.11700599,
          1125.97333686,
          1053.28051042,
          904.662628457,
          36146.6996141,
          28090.6736965,
          27354.0216254,
          9544.0391929,
          10501.8344544,
          16190.0841068,
          16742.8659882,
          16338.3822958,
          1188.65923567,
          1074.36651801,
          1247.80869467,
          1635.5539274,
          1958.67534284,
          2072.99606055,
          2187.14683284,
          2293.67568483,
          4613.78059093,
          4716.46270083,
          4633.61136678,
          4978.254944899999,
          4222.41657552,
          4184.88468363,
          4163.45010589,
          4468.96035161,
          2296.28956262,
          3061.11010693,
          3858.59212164,
          3830.10381024,
          3422.37480485,
          3819.83212874,
          3561.89036948,
          3848.1558436,
          3535.09801372,
          3622.59683256,
          178.904528787,
          607.3875273680001,
          573.372745636,
          601.951784846,
          596.93367919,
          594.381238984,
          603.781376066,
          749.844735219,
          819.797049144,
          763.408932512,
          400.03166021,
          460.186115166,
          541.018058131,
          564.44142921,
          633.562234085,
          680.696392567,
          712.983283972,
          801.16768704,
          678.881132054,
          783.647572002,
          811.512531212,
          900.91480048,
          1027.943827,
          1181.65924487,
          1273.03873206,
          1656.81942763,
          441.234308249,
          523.821671864,
          552.078029196,
          626.100756853,
          700.166891009,
          816.786580651,
          908.698585456,
          1332.00755178,
          452.820200736,
          536.413547654,
          568.442527674,
          640.702005223,
          708.220508453,
          816.929257613,
          907.848120912,
          1324.77868382,
          360.600661999,
          568.073705272,
          666.635807378,
          602.470062495,
          629.220777401,
          721.687588695,
          739.4547575380002,
          833.203582927,
          236.937813663,
          308.424225986,
          422.346752705,
          538.201213482,
          561.9650195959999,
          599.668647304,
          663.006152559,
          896.348494221,
          484.967888203,
          622.1297874219999,
          595.2355137530001,
          503.481769676,
          525.453706523,
          624.096762293,
          720.3532811819998,
          748.1199930380002,
          2641.94245101,
          277.580928028,
          319.16492977400003,
          197.54986892,
          162.700034655,
          4283.15866442,
          4010.91576845,
          3415.78062131,
          4243.64799952,
          434.793195834,
          432.458375494,
          434.058222854,
          437.234995296,
          431.15182408,
          435.145404589,
          439.254909387,
          442.86665148300006,
          1566.55425905,
          1940.64561941,
          2920.56198646,
          3103.93570333,
          3071.76594502,
          3397.8019227,
          3470.34438082,
          3612.94597571,
          3753.90673979,
          3741.37335193,
          3505.31480666,
          3181.99684483,
          3239.05130598,
          3365.33106783,
          3455.20116241,
          2686.29361531,
          2697.04896588,
          2974.0377457,
          3565.70881794,
          2702.09756024,
          2743.96126235,
          3027.07763509,
          1869.0381177,
          2203.48404256,
          3014.11090982,
          3234.3857739,
          3196.65070916,
          3490.27898751,
          3348.19702484,
          3470.32107544,
          3523.83467403,
          3528.05981434,
          627.7486465669999,
          2361.74387608,
          3126.42604539,
          4188.16067653,
          4516.24806759,
          4805.49388193,
          5960.69258613,
          5380.99306782,
          6276.95169203,
          6705.43983596,
          6967.21323874,
          386.754635049,
          426.594022687,
          459.670263575,
          510.156555988,
          528.48607156,
          607.7044074840001,
          547.091596329,
          532.883619481,
          1852.7357712,
          2241.91139524,
          3160.80483651,
          3155.62146854,
          3272.05274478,
          3690.65145306,
          3954.00370317,
          4049.35046526,
          4225.60695353,
          4120.3058212,
          1707.3062928,
          2000.90013642,
          2069.78785109,
          1470.39664628,
          1298.09635297,
          1236.01768782,
          1229.36459426,
          1281.68189093,
          86.5646462175,
          1776.7678260000002,
          725.5223320680002,
          583.873995869,
          818.550955414,
          2124.84853926,
          2388.41234673,
          4017.33738516,
          4336.0874042,
          4257.86440736,
          4616.39706207,
          4190.98422047,
          4203.3573666,
          4108.40129887,
          3985.80810152,
          348.93189080300004,
          381.515147025,
          376.7088969880001,
          363.852104774,
          366.522645114,
          398.339353834,
          317.525749335,
          278.760989471,
          979.63266776,
          1015.73952627,
          1187.9944509000004,
          1860.01575808,
          3394.45163677,
          4069.84511488,
          4761.45934129,
          5268.8948606,
          350.101257861,
          607.702155943,
          1134.78649348,
          1469.54942907,
          1537.27769706,
          1791.83338591,
          2129.89451644,
          2282.13703466,
          2597.74828926,
          2734.92011068,
          781.9514031680002,
          491.473442413,
          574.359356263,
          482.712477796,
          448.694681999,
          497.344297754,
          526.326033275,
          590.478746775,
          616.892076168,
          62.1995597581,
          670.5666824919999,
          317.810225983,
          350.433910995,
          301.847692756,
          226.326971354,
          219.075496949,
          252.463093356,
          261.374331488,
          384.513775199,
          380.005564962,
          387.341964064,
          2913.42527159,
          3524.12021546,
          4136.30629632,
          4390.66159201,
          4162.68618093,
          4489.22277355,
          4629.35286585,
          4919.01805973,
          5041.585763,
          5108.38676563,
          499.277043223,
          512.605428263,
          520.393217065,
          481.319956646,
          483.335543947,
          528.901564325,
          516.4041365740001,
          657.398639731,
          760.612814046,
          997.775596134,
          1082.68534524,
          1465.54583669,
          1839.90931816,
          1528.70848936,
          1981.91723136,
          2107.97304917,
          1476.04957577,
          1880.53879751,
          2428.82933004,
          2630.75848148,
          2894.82745315,
          2423.17944795,
          2527.30162599,
          2520.15246577,
          2658.03637311,
          522.462572501,
          614.533811086,
          662.18944751,
          716.7689991889999,
          1034.30270261,
          1012.72253094,
          1048.8751624,
          1310.57268613,
          493.310746182,
          569.840630388,
          609.697453851,
          653.795448427,
          922.293114554,
          897.709767831,
          924.198822662,
          1127.26647411,
          402.705057769,
          414.55453691,
          450.20302839,
          470.733993692,
          604.42437795,
          598.25424633,
          632.6355807880001,
          663.53443801,
          317.38583405,
          320.979651021,
          317.393438924,
          318.292264004,
          328.033348933,
          325.798144239,
          334.408291174,
          357.549749306,
          354.156984537,
          361.388338376,
          374.667571263,
          384.062527567,
          449.203851662,
          442.312736736,
          459.289114071,
          483.836090366,
          3028.29836932,
          3594.36178937,
          4403.96964669,
          5602.87016623,
          7076.20798768,
          7857.45488268,
          7755.39441578,
          8584.10049866,
          10804.6417156,
          14746.0313385,
          268.485083335,
          283.275393642,
          299.592677132,
          325.73809089400004,
          365.379491444,
          399.052528907,
          423.580114419,
          486.292374786,
          301.357990782,
          347.868204367,
          388.834624998,
          436.663234979,
          574.344890279,
          690.7954914339999,
          760.140852043,
          788.5836582439999,
          541.748552604,
          974.910863319,
          1197.78219453,
          1079.85911122,
          1391.90260109,
          1750.12851198,
          2039.14932191,
          2662.25450535,
          405.152489951,
          626.354937731,
          690.323799679,
          958.189471661,
          1311.18896852,
          1861.7960965,
          1130.94271589,
          892.39580238,
          1412.72967684,
          1767.42510638,
          2194.51306452,
          2203.82152215,
          2356.8942567,
          2608.80658136,
          2775.21800345,
          3255.49845122,
          3661.32224061,
          3416.03094562,
          1756.33100381,
          1786.48768337,
          1958.31704292,
          2278.47928588,
          2580.96935389,
          2881.12834133,
          2862.7957382,
          2898.15336834,
          1007.04834663,
          1551.51917279,
          2050.73787712,
          2204.17980667,
          2206.54273411,
          2407.25635314,
          2627.34000777,
          2834.40294607,
          3017.97165871,
          3062.36054739,
          1331.9860874,
          1153.48652689,
          1040.31180401,
          765.4628605460001,
          1215.0555252,
          1333.59707253,
          1371.65658542,
          1578.42891649,
          1003.75225394,
          1720.54974435,
          2667.04674964,
          2899.90421823,
          2840.60843908,
          3044.11508629,
          3652.07124745,
          4048.98200021,
          4005.94409353,
          4024.99795314,
          297.830418297,
          473.5437315580001,
          875.54040491,
          998.355658577,
          1015.41769856,
          991.96787502,
          1024.4838209,
          1251.68193903,
          4796.14425247,
          2575.67059959,
          2674.25567409,
          4267.99306028,
          455.513600948,
          455.626061673,
          437.652286948,
          464.00933684,
          445.111805733,
          441.007660811,
          440.968733004,
          462.22025237800005,
          114.214515627,
          1324.59197949,
          1486.25076721,
          1819.87711654,
          1764.08289823,
          1329.92004734,
          827.977342208,
          841.5994234010001,
          759.208682667,
          551.258116377,
          866.0208045219998,
          1095.50331544,
          1579.66574639,
          2534.34102827,
          3726.15776616,
          4172.45155876,
          4573.06486741,
          1112.34733979,
          1179.56864066,
          7802.76597438,
          6429.99850119,
          7548.12934744,
          8616.57655309,
          8764.51262442,
          10105.8321479,
          10395.1176066,
          1102.74726492,
          552.179754706,
          485.288636865,
          560.6182142590001,
          615.302324231,
          727.136850297,
          767.316677795,
          856.907787172,
          1268.17096725,
          1233.36659672,
          1311.69572483,
          1753.15448787,
          835.148691667,
          948.936850583,
          1037.59881759,
          1050.37897188,
          1056.87576442,
          1122.85929953,
          1132.60092955,
          1253.78231118,
          807.786838728,
          936.639120332,
          1029.52159077,
          1047.31359281,
          1040.64094091,
          1095.11118105,
          1095.12240211,
          1201.13916199,
          807.043596065,
          922.376130416,
          1013.17445897,
          1033.82121082,
          1050.02936112,
          1118.22028502,
          1130.43985592,
          1256.33427601,
          2335.40919346,
          1821.3519858,
          1763.2575569000005,
          2179.81389113,
          311.015643639,
          303.176722355,
          295.561229925,
          290.589337704,
          286.919463162,
          291.834509431,
          303.010715878,
          320.260756311,
          789.565543378,
          696.1964896339999,
          678.5814280469999,
          996.943321974,
          868.56933067,
          1698.3102702999995,
          1484.22892653,
          1034.92218437,
          9.71541007212,
          952.733553333,
          1455.08414725,
          2397.98259634,
          2700.28315715,
          2452.19740381,
          2991.94395278,
          3071.77483233,
          2725.88792504,
          2978.41120571,
          2490.34764262,
          2574.35333091,
          2927.24122287,
          469.817872852,
          544.187165799,
          586.145579794,
          630.420632318,
          907.709368572,
          879.2827864289999,
          908.339794494,
          1108.84716387,
          293.603870492,
          317.00315161,
          340.584096729,
          365.338456733,
          533.0720604530001,
          515.501446717,
          536.467219684,
          583.870034788,
          10414.5409197,
          10361.9725668,
          12009.5701096,
          10278.5575523,
          8057.80999932,
          7942.94807822,
          9262.08197871,
          7409.85099535,
          8204.72684485,
          8773.89670266,
          1366.16586572,
          1364.26832272,
          1245.77686466,
          1474.7115057,
          536.095210505,
          621.740086559,
          898.6549052380002,
          1078.98626036,
          1566.72481216,
          2063.52696529,
          2183.8734214,
          2742.50027319,
          856.733524355,
          873.0335592660001,
          822.865426589,
          1255.81010009,
          1750.65387462,
          1838.86120799,
          2088.64554574,
          1851.91264973,
          2156.55579705,
          613.779346325,
          435.059790882,
          474.222876797,
          414.601806914,
          512.011597538,
          657.7868228880001,
          712.571976967,
          873.195801833,
          1007.57484088,
          856.81120942,
          1063.78037111,
          1465.05024708,
          1379.33314201,
          1452.97190576,
          1398.88398183,
          1412.86939872,
          1551.28978352,
          463.067308875,
          682.462636345,
          1068.71580375,
          1162.25424419,
          1294.30306655,
          1514.84163412,
          1650.94644655,
          1939.64769644,
          338.548155646,
          524.762882197,
          701.682206849,
          761.78884684,
          886.273476533,
          1042.80565562,
          1091.56420829,
          1300.11982313,
          338.548155646,
          524.762882197,
          701.682206849,
          761.78884684,
          886.273476533,
          1042.80565562,
          1091.56420829,
          1300.11982313,
          465.568625464,
          543.675052779,
          587.035703669,
          634.560220251,
          929.685694876,
          904.429119774,
          938.208449172,
          1154.45114025,
          1847.2590394,
          1059.24320674,
          854.41872096,
          938.596721751,
          1746.24080026,
          1488.63742731,
          951.851569598,
          1058.16485595,
          1376.98860218,
          1927.97889182,
          190.387995598,
          252.036810104,
          268.259441677,
          277.485699249,
          327.952990834,
          362.27042057,
          402.312789339,
          487.448713086,
          699.0228986210001,
          608.405141326,
          523.782627433,
          474.548861116,
          420.272139083,
          390.685096382,
          395.127686774,
          407.278749651,
          281.931848431,
          276.246179043,
          270.238811656,
          269.30095308,
          251.060745819,
          263.20255292,
          266.385844866,
          307.913041122,
          496.518769708,
          594.756148267,
          579.8782172790001,
          659.366428344,
          300.972670494,
          302.06554296,
          305.746943514,
          307.065111322,
          309.74507691900004,
          316.822270368,
          345.37079196,
          357.131793555,
          2081.01162075,
          2762.80248267,
          4381.04179488,
          4560.27311991,
          3785.11593558,
          4387.67068914,
          4501.66087489,
          4579.47478164,
          4687.98228043,
          4843.79608802,
          1791.46132151,
          2188.69351345,
          2617.16105927,
          3055.08108455,
          3012.97138874,
          3452.96268019,
          3808.4772206,
          4258.75677677,
          4337.38052425,
          4054.4950045,
          487.96346663800006,
          585.0413863719999,
          469.268615848,
          502.383245685,
          509.839947747,
          503.04461939,
          508.740585366,
          521.961949752,
          130.047629217,
          128.026173022,
          583.794808164,
          634.258748201,
          689.4945390439999,
          674.47298453,
          719.308370017,
          696.8847876410001,
          721.312209806,
          747.1012487439999,
          5654.54454258,
          6693.14400522,
          7845.45155018,
          8200.14762227,
          7248.31243917,
          7624.06433962,
          7657.59772873,
          7842.14948444,
          7850.89222375,
          7794.82310703,
          2052.05448433,
          2815.68798736,
          3503.4299482,
          4060.10627707,
          4262.39171068,
          5048.49930916,
          5159.65421807,
          5477.88285412,
          5503.46451061,
          5864.97593092,
          2810.85179639,
          3393.488197300001,
          3903.27951171,
          4126.59164571,
          3877.4784151,
          4144.04638378,
          4251.95579332,
          4476.70815332,
          4525.00960193,
          4558.67150857,
          112.054808283,
          761.662333837,
          1151.87126892,
          1412.3831509,
          2756.42578415,
          3027.90856152,
          3890.79215204,
          6881.62081928,
          2568.05590493,
          395.026704715,
          285.16407106400004,
          302.558312012,
          336.92280827900004,
          376.344243754,
          412.405215402,
          448.925191849,
          455.934635667,
          523.2672101530001,
          1159.6892715999998,
          899.7691370580002,
          796.469906347,
          730.8000538289999,
          715.38365957,
          777.742373207,
          834.670915895,
          879.523836391,
          540.588375968,
          580.530937274,
          630.648885594,
          699.102776962,
          712.691343364,
          877.0448880460001,
          705.433761481,
          708.7828687130002,
          648.807999388,
          678.509067152,
          632.7254874390001,
          540.974320389,
          408.43313224,
          440.557973649,
          446.340827194,
          506.633143848,
          406.49229803800006,
          456.743021869,
          461.890994003,
          433.357672285,
          460.545976337,
          500.989771655,
          477.457211125,
          434.402352876,
          1976.85979181,
          2199.05462052,
          2693.74527501,
          3251.8025717,
          3412.49866376,
          3535.48197152,
          2569.17533457,
          2643.12353589,
          2314.20257992,
          2526.9949602,
          363.164047972,
          486.585415324,
          745.283954565,
          845.368945104,
          1119.20463053,
          1241.1956653,
          1813.8858461,
          2083.48767635,
          2477.48974988,
          2402.47799385,
          2964.13104324,
          3593.16547563,
          4305.70548968,
          4566.04438897,
          4275.02872505,
          4618.40047864,
          4723.22931241,
          4910.16997541,
          5009.96976948,
          5045.04189347,
          507.516265095,
          519.6788297090001,
          526.76061961,
          530.5424724540001,
          548.35923133,
          567.682231985,
          526.262696084,
          524.982272178,
          7810.38833537,
          9517.70576301,
          17348.327454,
          14613.480831600002,
          15421.4794514,
          19262.1688599,
          21517.7793401,
          18775.9643074,
          2131.63973572,
          2735.43911555,
          2876.73333115,
          3027.56521622,
          2052.96292702,
          1989.99418196,
          1755.13002556,
          1904.09688616,
          5351.21152876,
          4069.76762723,
          4288.21698858,
          4709.84574443,
          318.265125824,
          274.890043982,
          979.423249943,
          1368.95037047,
          4215.42559694,
          3750.91313869,
          4421.45445335,
          4354.65523263,
          4907.82867485,
          5379.69097885,
          280.837670795,
          281.840462003,
          260.719421235,
          254.211898654,
          222.634685966,
          221.005820684,
          253.315356135,
          252.409846662,
          2020.15373461,
          2299.90425855,
          2119.78208028,
          2248.15503566,
          2410.82873708,
          1569.47082327,
          1763.23012084,
          1987.08730813,
          2757.88068931,
          4588.43321165,
          5818.15092473,
          5065.98450652,
          4677.20430572,
          3224.51944058,
          3780.58944725,
          3754.67958194,
          4074.77904741,
          3410.7278847,
          3361.88402225,
          3483.86750611,
          3320.45472221,
          2584.33517088,
          3310.40063325,
          3424.45287862,
          3627.52350948,
          2714.99708585,
          130.061474369,
          1997.49821372,
          2208.54919916,
          2699.72841558,
          2831.14750181,
          2414.3981946,
          2655.26925959,
          2421.00577767,
          2805.48565552,
          254.522114114,
          268.599597385,
          285.524938248,
          309.704400985,
          345.082662031,
          377.07864440300006,
          399.287999931,
          457.87244741,
          254.522114114,
          268.599597385,
          285.524938248,
          309.704400985,
          345.082662031,
          377.07864440300006,
          399.287999931,
          457.87244741,
          605.223527325,
          881.3832485789999,
          1299.43101563,
          1667.64601643,
          1762.40454547,
          1919.44664907,
          2435.96962149,
          2666.2640552,
          3107.86734112,
          3180.03341956,
          314.546613794,
          293.833883231,
          324.13036566,
          328.090886835,
          327.882389865,
          380.086721607,
          432.84856645,
          470.83709579,
          1644.70425047,
          752.295087748,
          641.913268347,
          659.8774837130001,
          675.779202544,
          719.346659261,
          719.369669186,
          671.195104842,
          674.037598633,
          645.49404095,
          670.1719565530001,
          659.8774837130001,
          675.779202544,
          719.346659261,
          719.369669186,
          671.195104842,
          674.037598633,
          645.49404095,
          670.1719565530001,
          659.8774837130001,
          675.779202544,
          719.346659261,
          719.369669186,
          671.195104842,
          674.037598633,
          645.49404095,
          669.94100511,
          485.018934669,
          445.524031505,
          431.003010124,
          397.42097884300006,
          386.72897561,
          392.294923579,
          411.137505242,
          366.495542,
          1425.28340982,
          372.735499664,
          2887.23625249,
          3630.19413871,
          4527.21372025,
          5054.83376436,
          4877.79989653,
          5763.0704408,
          5369.37035674,
          5672.0081772,
          5802.11010517,
          5472.13539173,
          1568.91106002,
          2040.8279002,
          2727.71921732,
          2877.79290941,
          2984.22326318,
          3430.8555125,
          3613.49260926,
          3526.10543855,
          3553.18855698,
          3410.15494794,
          289.878330855,
          475.180226672,
          665.225952167,
          786.4364226380002,
          827.27508718,
          915.341656744,
          968.363563134,
          1165.51429539,
          750.140090712,
          360.63488962,
          332.064001069,
          363.263610574,
          527.0538798619999,
          455.445767964,
          414.717967022,
          394.145177081,
          369.835021604,
          357.261154316,
          416.002267994,
          442.62215764,
          367.864327681,
          451.510578157,
          456.467867425,
          531.762695185,
          840.141111806,
          1164.94784692,
          1282.58023503,
          1585.96595222,
          60.2056466975,
          332.041867346,
          327.998948608,
          327.324375984,
          328.062332773,
          328.69853999,
          384.078207642,
          424.034097572,
          417.118049767,
          567.686871752,
          2772.88276961,
          2808.51679767,
          3648.18714807,
          4188.6453215,
          5286.28687516,
          5437.91312128,
          9356.78097414,
          14608.0098682,
          341.737804158,
          427.302747359,
          493.048630903,
          542.645168334,
          641.6905970619999,
          679.079751272,
          801.489193653,
          883.981281357,
          410.021796967,
          484.393315616,
          605.1364652890001,
          778.4328071839999,
          732.662049648,
          917.976137079,
          960.859171935,
          1165.81161631,
          1139.69490969,
          1438.53526923,
          2674.60747409,
          2762.14618527,
          3438.90967555,
          4606.19031397,
          4209.62161535,
          2836.2075977,
          2813.15969089,
          2996.21074042,
          3243.4697549,
          5682.19088634,
          8344.44965243,
          11389.1326545,
          11073.1986009,
          11897.2665131,
          11958.4774577,
          8343.10876691,
          3087.34197183,
          3345.55349486,
          3747.96247517,
          3695.38387114,
          3397.12228872,
          3619.07726922,
          3684.72453527,
          3760.71236505,
          3685.8654787,
          3441.68876583,
          5774.58631485,
          6809.82048392,
          7940.99783226,
          8285.57089798,
          7259.07889875,
          7622.17301652,
          7677.40140109,
          7828.5810964,
          7843.34484914,
          7758.16570028,
          614.52132682,
          744.1341117439999,
          813.673828472,
          891.10768748,
          1298.44152508,
          1282.38902306,
          1344.91445004,
          1757.55685207,
          872.986354117,
          868.792103341,
          766.1430987780002,
          718.448623294,
          855.1247871139999,
          880.633650605,
          762.6981432010001,
          947.838610674,
          2110.49554758,
          1899.613766,
          2109.31946019,
          1777.9147684999996,
          159.122733638,
          1405.3241974000002,
          1809.81958254,
          2155.27340317,
          2063.81661697,
          2223.66756347,
          2150.87344415,
          2267.36858799,
          2096.72462083,
          298.157558425,
          257.872313351,
          271.162299998,
          286.657214575,
          276.1308749,
          335.170556166,
          420.446832131,
          540.08195349,
          1371.05802367,
          1443.43032027,
          1382.14223193,
          1442.59652724,
          1619.33212714,
          1623.60606051,
          1644.9477869,
          1803.91817798,
          90.499182259,
          126.035906203,
          169.705381647,
          211.620358202,
          252.237164461,
          226.761242287,
          270.813122936,
          318.012608114,
          857.0932537580002,
          819.7872201060001,
          756.612333199,
          700.14084375,
          662.721536129,
          617.209365016,
          598.548219754,
          588.018958956,
          994.184786353,
          921.65469562,
          842.372683813,
          896.673611477,
          923.493407317,
          804.5088922269998,
          772.6766193660001,
          725.6810488469998
         ],
         "y0": " ",
         "yaxis": "y"
        }
       ],
       "layout": {
        "boxmode": "group",
        "legend": {
         "tracegroupgap": 0
        },
        "margin": {
         "t": 60
        },
        "template": {
         "data": {
          "bar": [
           {
            "error_x": {
             "color": "#2a3f5f"
            },
            "error_y": {
             "color": "#2a3f5f"
            },
            "marker": {
             "line": {
              "color": "#E5ECF6",
              "width": 0.5
             },
             "pattern": {
              "fillmode": "overlay",
              "size": 10,
              "solidity": 0.2
             }
            },
            "type": "bar"
           }
          ],
          "barpolar": [
           {
            "marker": {
             "line": {
              "color": "#E5ECF6",
              "width": 0.5
             },
             "pattern": {
              "fillmode": "overlay",
              "size": 10,
              "solidity": 0.2
             }
            },
            "type": "barpolar"
           }
          ],
          "carpet": [
           {
            "aaxis": {
             "endlinecolor": "#2a3f5f",
             "gridcolor": "white",
             "linecolor": "white",
             "minorgridcolor": "white",
             "startlinecolor": "#2a3f5f"
            },
            "baxis": {
             "endlinecolor": "#2a3f5f",
             "gridcolor": "white",
             "linecolor": "white",
             "minorgridcolor": "white",
             "startlinecolor": "#2a3f5f"
            },
            "type": "carpet"
           }
          ],
          "choropleth": [
           {
            "colorbar": {
             "outlinewidth": 0,
             "ticks": ""
            },
            "type": "choropleth"
           }
          ],
          "contour": [
           {
            "colorbar": {
             "outlinewidth": 0,
             "ticks": ""
            },
            "colorscale": [
             [
              0,
              "#0d0887"
             ],
             [
              0.1111111111111111,
              "#46039f"
             ],
             [
              0.2222222222222222,
              "#7201a8"
             ],
             [
              0.3333333333333333,
              "#9c179e"
             ],
             [
              0.4444444444444444,
              "#bd3786"
             ],
             [
              0.5555555555555556,
              "#d8576b"
             ],
             [
              0.6666666666666666,
              "#ed7953"
             ],
             [
              0.7777777777777778,
              "#fb9f3a"
             ],
             [
              0.8888888888888888,
              "#fdca26"
             ],
             [
              1,
              "#f0f921"
             ]
            ],
            "type": "contour"
           }
          ],
          "contourcarpet": [
           {
            "colorbar": {
             "outlinewidth": 0,
             "ticks": ""
            },
            "type": "contourcarpet"
           }
          ],
          "heatmap": [
           {
            "colorbar": {
             "outlinewidth": 0,
             "ticks": ""
            },
            "colorscale": [
             [
              0,
              "#0d0887"
             ],
             [
              0.1111111111111111,
              "#46039f"
             ],
             [
              0.2222222222222222,
              "#7201a8"
             ],
             [
              0.3333333333333333,
              "#9c179e"
             ],
             [
              0.4444444444444444,
              "#bd3786"
             ],
             [
              0.5555555555555556,
              "#d8576b"
             ],
             [
              0.6666666666666666,
              "#ed7953"
             ],
             [
              0.7777777777777778,
              "#fb9f3a"
             ],
             [
              0.8888888888888888,
              "#fdca26"
             ],
             [
              1,
              "#f0f921"
             ]
            ],
            "type": "heatmap"
           }
          ],
          "heatmapgl": [
           {
            "colorbar": {
             "outlinewidth": 0,
             "ticks": ""
            },
            "colorscale": [
             [
              0,
              "#0d0887"
             ],
             [
              0.1111111111111111,
              "#46039f"
             ],
             [
              0.2222222222222222,
              "#7201a8"
             ],
             [
              0.3333333333333333,
              "#9c179e"
             ],
             [
              0.4444444444444444,
              "#bd3786"
             ],
             [
              0.5555555555555556,
              "#d8576b"
             ],
             [
              0.6666666666666666,
              "#ed7953"
             ],
             [
              0.7777777777777778,
              "#fb9f3a"
             ],
             [
              0.8888888888888888,
              "#fdca26"
             ],
             [
              1,
              "#f0f921"
             ]
            ],
            "type": "heatmapgl"
           }
          ],
          "histogram": [
           {
            "marker": {
             "pattern": {
              "fillmode": "overlay",
              "size": 10,
              "solidity": 0.2
             }
            },
            "type": "histogram"
           }
          ],
          "histogram2d": [
           {
            "colorbar": {
             "outlinewidth": 0,
             "ticks": ""
            },
            "colorscale": [
             [
              0,
              "#0d0887"
             ],
             [
              0.1111111111111111,
              "#46039f"
             ],
             [
              0.2222222222222222,
              "#7201a8"
             ],
             [
              0.3333333333333333,
              "#9c179e"
             ],
             [
              0.4444444444444444,
              "#bd3786"
             ],
             [
              0.5555555555555556,
              "#d8576b"
             ],
             [
              0.6666666666666666,
              "#ed7953"
             ],
             [
              0.7777777777777778,
              "#fb9f3a"
             ],
             [
              0.8888888888888888,
              "#fdca26"
             ],
             [
              1,
              "#f0f921"
             ]
            ],
            "type": "histogram2d"
           }
          ],
          "histogram2dcontour": [
           {
            "colorbar": {
             "outlinewidth": 0,
             "ticks": ""
            },
            "colorscale": [
             [
              0,
              "#0d0887"
             ],
             [
              0.1111111111111111,
              "#46039f"
             ],
             [
              0.2222222222222222,
              "#7201a8"
             ],
             [
              0.3333333333333333,
              "#9c179e"
             ],
             [
              0.4444444444444444,
              "#bd3786"
             ],
             [
              0.5555555555555556,
              "#d8576b"
             ],
             [
              0.6666666666666666,
              "#ed7953"
             ],
             [
              0.7777777777777778,
              "#fb9f3a"
             ],
             [
              0.8888888888888888,
              "#fdca26"
             ],
             [
              1,
              "#f0f921"
             ]
            ],
            "type": "histogram2dcontour"
           }
          ],
          "mesh3d": [
           {
            "colorbar": {
             "outlinewidth": 0,
             "ticks": ""
            },
            "type": "mesh3d"
           }
          ],
          "parcoords": [
           {
            "line": {
             "colorbar": {
              "outlinewidth": 0,
              "ticks": ""
             }
            },
            "type": "parcoords"
           }
          ],
          "pie": [
           {
            "automargin": true,
            "type": "pie"
           }
          ],
          "scatter": [
           {
            "fillpattern": {
             "fillmode": "overlay",
             "size": 10,
             "solidity": 0.2
            },
            "type": "scatter"
           }
          ],
          "scatter3d": [
           {
            "line": {
             "colorbar": {
              "outlinewidth": 0,
              "ticks": ""
             }
            },
            "marker": {
             "colorbar": {
              "outlinewidth": 0,
              "ticks": ""
             }
            },
            "type": "scatter3d"
           }
          ],
          "scattercarpet": [
           {
            "marker": {
             "colorbar": {
              "outlinewidth": 0,
              "ticks": ""
             }
            },
            "type": "scattercarpet"
           }
          ],
          "scattergeo": [
           {
            "marker": {
             "colorbar": {
              "outlinewidth": 0,
              "ticks": ""
             }
            },
            "type": "scattergeo"
           }
          ],
          "scattergl": [
           {
            "marker": {
             "colorbar": {
              "outlinewidth": 0,
              "ticks": ""
             }
            },
            "type": "scattergl"
           }
          ],
          "scattermapbox": [
           {
            "marker": {
             "colorbar": {
              "outlinewidth": 0,
              "ticks": ""
             }
            },
            "type": "scattermapbox"
           }
          ],
          "scatterpolar": [
           {
            "marker": {
             "colorbar": {
              "outlinewidth": 0,
              "ticks": ""
             }
            },
            "type": "scatterpolar"
           }
          ],
          "scatterpolargl": [
           {
            "marker": {
             "colorbar": {
              "outlinewidth": 0,
              "ticks": ""
             }
            },
            "type": "scatterpolargl"
           }
          ],
          "scatterternary": [
           {
            "marker": {
             "colorbar": {
              "outlinewidth": 0,
              "ticks": ""
             }
            },
            "type": "scatterternary"
           }
          ],
          "surface": [
           {
            "colorbar": {
             "outlinewidth": 0,
             "ticks": ""
            },
            "colorscale": [
             [
              0,
              "#0d0887"
             ],
             [
              0.1111111111111111,
              "#46039f"
             ],
             [
              0.2222222222222222,
              "#7201a8"
             ],
             [
              0.3333333333333333,
              "#9c179e"
             ],
             [
              0.4444444444444444,
              "#bd3786"
             ],
             [
              0.5555555555555556,
              "#d8576b"
             ],
             [
              0.6666666666666666,
              "#ed7953"
             ],
             [
              0.7777777777777778,
              "#fb9f3a"
             ],
             [
              0.8888888888888888,
              "#fdca26"
             ],
             [
              1,
              "#f0f921"
             ]
            ],
            "type": "surface"
           }
          ],
          "table": [
           {
            "cells": {
             "fill": {
              "color": "#EBF0F8"
             },
             "line": {
              "color": "white"
             }
            },
            "header": {
             "fill": {
              "color": "#C8D4E3"
             },
             "line": {
              "color": "white"
             }
            },
            "type": "table"
           }
          ]
         },
         "layout": {
          "annotationdefaults": {
           "arrowcolor": "#2a3f5f",
           "arrowhead": 0,
           "arrowwidth": 1
          },
          "autotypenumbers": "strict",
          "coloraxis": {
           "colorbar": {
            "outlinewidth": 0,
            "ticks": ""
           }
          },
          "colorscale": {
           "diverging": [
            [
             0,
             "#8e0152"
            ],
            [
             0.1,
             "#c51b7d"
            ],
            [
             0.2,
             "#de77ae"
            ],
            [
             0.3,
             "#f1b6da"
            ],
            [
             0.4,
             "#fde0ef"
            ],
            [
             0.5,
             "#f7f7f7"
            ],
            [
             0.6,
             "#e6f5d0"
            ],
            [
             0.7,
             "#b8e186"
            ],
            [
             0.8,
             "#7fbc41"
            ],
            [
             0.9,
             "#4d9221"
            ],
            [
             1,
             "#276419"
            ]
           ],
           "sequential": [
            [
             0,
             "#0d0887"
            ],
            [
             0.1111111111111111,
             "#46039f"
            ],
            [
             0.2222222222222222,
             "#7201a8"
            ],
            [
             0.3333333333333333,
             "#9c179e"
            ],
            [
             0.4444444444444444,
             "#bd3786"
            ],
            [
             0.5555555555555556,
             "#d8576b"
            ],
            [
             0.6666666666666666,
             "#ed7953"
            ],
            [
             0.7777777777777778,
             "#fb9f3a"
            ],
            [
             0.8888888888888888,
             "#fdca26"
            ],
            [
             1,
             "#f0f921"
            ]
           ],
           "sequentialminus": [
            [
             0,
             "#0d0887"
            ],
            [
             0.1111111111111111,
             "#46039f"
            ],
            [
             0.2222222222222222,
             "#7201a8"
            ],
            [
             0.3333333333333333,
             "#9c179e"
            ],
            [
             0.4444444444444444,
             "#bd3786"
            ],
            [
             0.5555555555555556,
             "#d8576b"
            ],
            [
             0.6666666666666666,
             "#ed7953"
            ],
            [
             0.7777777777777778,
             "#fb9f3a"
            ],
            [
             0.8888888888888888,
             "#fdca26"
            ],
            [
             1,
             "#f0f921"
            ]
           ]
          },
          "colorway": [
           "#636efa",
           "#EF553B",
           "#00cc96",
           "#ab63fa",
           "#FFA15A",
           "#19d3f3",
           "#FF6692",
           "#B6E880",
           "#FF97FF",
           "#FECB52"
          ],
          "font": {
           "color": "#2a3f5f"
          },
          "geo": {
           "bgcolor": "white",
           "lakecolor": "white",
           "landcolor": "#E5ECF6",
           "showlakes": true,
           "showland": true,
           "subunitcolor": "white"
          },
          "hoverlabel": {
           "align": "left"
          },
          "hovermode": "closest",
          "mapbox": {
           "style": "light"
          },
          "paper_bgcolor": "white",
          "plot_bgcolor": "#E5ECF6",
          "polar": {
           "angularaxis": {
            "gridcolor": "white",
            "linecolor": "white",
            "ticks": ""
           },
           "bgcolor": "#E5ECF6",
           "radialaxis": {
            "gridcolor": "white",
            "linecolor": "white",
            "ticks": ""
           }
          },
          "scene": {
           "xaxis": {
            "backgroundcolor": "#E5ECF6",
            "gridcolor": "white",
            "gridwidth": 2,
            "linecolor": "white",
            "showbackground": true,
            "ticks": "",
            "zerolinecolor": "white"
           },
           "yaxis": {
            "backgroundcolor": "#E5ECF6",
            "gridcolor": "white",
            "gridwidth": 2,
            "linecolor": "white",
            "showbackground": true,
            "ticks": "",
            "zerolinecolor": "white"
           },
           "zaxis": {
            "backgroundcolor": "#E5ECF6",
            "gridcolor": "white",
            "gridwidth": 2,
            "linecolor": "white",
            "showbackground": true,
            "ticks": "",
            "zerolinecolor": "white"
           }
          },
          "shapedefaults": {
           "line": {
            "color": "#2a3f5f"
           }
          },
          "ternary": {
           "aaxis": {
            "gridcolor": "white",
            "linecolor": "white",
            "ticks": ""
           },
           "baxis": {
            "gridcolor": "white",
            "linecolor": "white",
            "ticks": ""
           },
           "bgcolor": "#E5ECF6",
           "caxis": {
            "gridcolor": "white",
            "linecolor": "white",
            "ticks": ""
           }
          },
          "title": {
           "x": 0.05
          },
          "xaxis": {
           "automargin": true,
           "gridcolor": "white",
           "linecolor": "white",
           "ticks": "",
           "title": {
            "standoff": 15
           },
           "zerolinecolor": "white",
           "zerolinewidth": 2
          },
          "yaxis": {
           "automargin": true,
           "gridcolor": "white",
           "linecolor": "white",
           "ticks": "",
           "title": {
            "standoff": 15
           },
           "zerolinecolor": "white",
           "zerolinewidth": 2
          }
         }
        },
        "xaxis": {
         "anchor": "y",
         "domain": [
          0,
          1
         ],
         "title": {
          "text": "continent"
         }
        },
        "yaxis": {
         "anchor": "x",
         "domain": [
          0,
          1
         ],
         "title": {
          "text": "Energy use (kg of oil equivalent per capita)"
         },
         "type": "log"
        }
       }
      },
      "text/html": [
       "<div>                            <div id=\"896a6540-22a5-4942-901a-3f2a20cdf296\" class=\"plotly-graph-div\" style=\"height:525px; width:100%;\"></div>            <script type=\"text/javascript\">                require([\"plotly\"], function(Plotly) {                    window.PLOTLYENV=window.PLOTLYENV || {};                                    if (document.getElementById(\"896a6540-22a5-4942-901a-3f2a20cdf296\")) {                    Plotly.newPlot(                        \"896a6540-22a5-4942-901a-3f2a20cdf296\",                        [{\"alignmentgroup\":\"True\",\"hovertemplate\":\"continent=%{x}<br>Energy use (kg of oil equivalent per capita)=%{y}<extra></extra>\",\"legendgroup\":\"\",\"marker\":{\"color\":\"#636efa\"},\"name\":\"\",\"notched\":false,\"offsetgroup\":\"\",\"orientation\":\"v\",\"showlegend\":false,\"x\":[\"Europe\",\"Europe\",\"Europe\",\"Europe\",\"Europe\",\"Europe\",\"Europe\",\"Europe\",\"Africa\",\"Africa\",\"Africa\",\"Africa\",\"Africa\",\"Africa\",\"Africa\",\"Africa\",\"Africa\",\"Africa\",\"Africa\",\"Africa\",\"Africa\",\"Africa\",\"Africa\",\"Africa\",null,null,null,null,null,null,null,null,null,\"Americas\",\"Americas\",\"Americas\",\"Americas\",\"Americas\",\"Americas\",\"Americas\",\"Americas\",null,null,null,null,\"Oceania\",\"Oceania\",\"Oceania\",\"Oceania\",\"Oceania\",\"Oceania\",\"Oceania\",\"Oceania\",\"Oceania\",\"Oceania\",\"Europe\",\"Europe\",\"Europe\",\"Europe\",\"Europe\",\"Europe\",\"Europe\",\"Europe\",\"Europe\",\"Europe\",null,null,null,null,null,\"Asia\",\"Asia\",\"Asia\",\"Asia\",\"Asia\",\"Asia\",\"Asia\",\"Asia\",\"Asia\",\"Asia\",\"Asia\",\"Asia\",\"Asia\",\"Asia\",\"Asia\",\"Asia\",null,null,null,null,null,\"Europe\",\"Europe\",\"Europe\",\"Europe\",\"Europe\",\"Europe\",\"Europe\",\"Europe\",\"Europe\",\"Europe\",null,\"Africa\",\"Africa\",\"Africa\",\"Africa\",\"Africa\",\"Africa\",\"Africa\",\"Africa\",null,\"Americas\",\"Americas\",\"Americas\",\"Americas\",\"Americas\",\"Americas\",\"Americas\",\"Americas\",\"Europe\",\"Europe\",\"Europe\",\"Europe\",\"Africa\",\"Africa\",\"Africa\",\"Africa\",\"Africa\",\"Africa\",\"Americas\",\"Americas\",\"Americas\",\"Americas\",\"Americas\",\"Americas\",\"Americas\",\"Americas\",null,null,null,null,null,null,null,null,\"Europe\",\"Europe\",\"Europe\",\"Europe\",\"Europe\",\"Europe\",\"Europe\",\"Europe\",null,\"Asia\",\"Asia\",\"Asia\",\"Africa\",\"Africa\",\"Africa\",\"Africa\",\"Africa\",\"Africa\",\"Africa\",\"Africa\",\"Americas\",\"Americas\",\"Americas\",\"Americas\",\"Americas\",\"Americas\",\"Americas\",\"Americas\",\"Americas\",\"Americas\",null,null,null,null,null,null,null,null,null,\"Americas\",\"Americas\",\"Americas\",\"Americas\",\"Americas\",\"Americas\",\"Americas\",\"Americas\",\"Asia\",\"Asia\",\"Asia\",\"Asia\",\"Asia\",\"Asia\",\"Asia\",\"Asia\",\"Americas\",\"Americas\",\"Americas\",\"Americas\",\"Americas\",\"Americas\",\"Americas\",\"Americas\",\"Africa\",null,null,null,null,null,null,null,null,null,null,null,null,null,null,null,null,\"Americas\",\"Americas\",\"Americas\",\"Americas\",\"Americas\",\"Americas\",\"Americas\",\"Americas\",\"Africa\",\"Africa\",\"Africa\",\"Africa\",\"Africa\",\"Africa\",\"Africa\",\"Africa\",\"Europe\",\"Europe\",\"Europe\",\"Europe\",\"Americas\",\"Americas\",\"Americas\",\"Americas\",\"Americas\",\"Americas\",\"Americas\",\"Americas\",null,null,null,null,null,null,null,null,null,null,null,null,null,null,null,null,\"Europe\",\"Europe\",\"Europe\",\"Europe\",\"Europe\",\"Europe\",\"Europe\",\"Europe\",\"Europe\",\"Europe\",\"Europe\",\"Europe\",\"Europe\",\"Europe\",\"Europe\",\"Europe\",\"Europe\",\"Europe\",\"Africa\",null,\"Americas\",\"Americas\",\"Americas\",\"Americas\",\"Americas\",\"Americas\",\"Americas\",\"Americas\",null,null,null,null,null,null,null,null,null,null,null,null,null,null,null,null,null,null,null,null,null,null,null,null,null,null,null,null,null,null,null,null,\"Americas\",\"Americas\",\"Americas\",\"Americas\",\"Americas\",\"Americas\",\"Americas\",\"Americas\",null,null,null,null,null,null,null,null,\"Americas\",\"Americas\",\"Americas\",\"Americas\",\"Americas\",\"Americas\",\"Americas\",\"Americas\",\"Africa\",\"Africa\",\"Africa\",\"Africa\",\"Africa\",null,null,null,null,\"Africa\",\"Africa\",\"Africa\",\"Africa\",\"Africa\",\"Africa\",\"Africa\",\"Africa\",null,null,null,null,null,null,null,null,null,null,null,null,null,null,null,null,null,null,null,null,null,null,null,null,null,null,null,null,null,null,null,null,null,\"Europe\",\"Europe\",\"Europe\",\"Europe\",\"Europe\",\"Europe\",\"Europe\",\"Europe\",\"Europe\",\"Europe\",null,null,null,null,null,null,null,null,\"Europe\",\"Europe\",\"Europe\",\"Europe\",\"Europe\",\"Europe\",\"Europe\",\"Europe\",\"Europe\",\"Europe\",\"Africa\",\"Africa\",\"Africa\",\"Africa\",\"Africa\",\"Africa\",\"Africa\",\"Africa\",null,null,null,null,null,\"Europe\",\"Europe\",\"Europe\",\"Europe\",\"Europe\",\"Europe\",\"Europe\",\"Europe\",\"Europe\",\"Europe\",\"Africa\",\"Africa\",\"Africa\",\"Africa\",\"Africa\",\"Africa\",\"Africa\",\"Africa\",null,null,null,null,null,null,null,null,\"Europe\",\"Europe\",\"Europe\",\"Europe\",\"Europe\",\"Europe\",\"Europe\",\"Europe\",\"Europe\",\"Europe\",null,\"Americas\",\"Americas\",\"Americas\",\"Americas\",\"Americas\",\"Americas\",\"Americas\",\"Americas\",\"Africa\",null,\"Americas\",\"Americas\",\"Americas\",\"Americas\",\"Americas\",\"Americas\",\"Americas\",\"Americas\",null,null,null,null,null,null,null,null,null,null,null,null,\"Americas\",\"Americas\",\"Americas\",\"Americas\",\"Americas\",\"Americas\",\"Americas\",\"Americas\",null,null,null,null,null,null,null,null,\"Europe\",\"Europe\",\"Europe\",\"Europe\",\"Europe\",\"Europe\",\"Europe\",\"Europe\",\"Europe\",null,null,null,null,null,null,null,null,null,null,null,null,null,null,null,null,null,null,null,null,null,null,null,null,null,null,null,null,null,null,null,null,null,null,null,null,null,null,null,null,\"Europe\",\"Europe\",\"Europe\",\"Europe\",\"Europe\",\"Europe\",\"Europe\",\"Europe\",\"Europe\",\"Europe\",\"Asia\",\"Asia\",\"Asia\",\"Asia\",\"Asia\",\"Asia\",\"Asia\",\"Asia\",\"Asia\",\"Asia\",\"Asia\",\"Asia\",\"Asia\",\"Asia\",\"Asia\",\"Asia\",null,null,null,null,null,null,null,null,\"Asia\",\"Asia\",\"Asia\",\"Asia\",\"Asia\",\"Asia\",\"Asia\",\"Asia\",\"Europe\",\"Europe\",\"Europe\",\"Europe\",\"Europe\",\"Europe\",\"Europe\",\"Europe\",\"Europe\",\"Europe\",\"Asia\",\"Asia\",\"Asia\",\"Asia\",\"Asia\",\"Asia\",\"Asia\",\"Asia\",\"Europe\",\"Europe\",\"Europe\",\"Europe\",\"Europe\",\"Europe\",\"Europe\",\"Europe\",\"Europe\",\"Europe\",\"Americas\",\"Americas\",\"Americas\",\"Americas\",\"Americas\",\"Americas\",\"Americas\",\"Americas\",\"Asia\",\"Asia\",\"Asia\",\"Asia\",\"Asia\",\"Asia\",\"Asia\",\"Asia\",\"Asia\",\"Asia\",\"Asia\",\"Asia\",\"Asia\",\"Asia\",\"Asia\",\"Asia\",\"Asia\",\"Asia\",null,null,null,null,\"Africa\",\"Africa\",\"Africa\",\"Africa\",\"Africa\",\"Africa\",\"Africa\",\"Africa\",null,null,null,null,null,null,null,null,null,null,null,null,null,null,null,null,null,null,null,\"Asia\",\"Asia\",\"Asia\",\"Asia\",\"Asia\",\"Asia\",\"Asia\",null,null,null,null,null,null,null,null,null,null,null,null,null,null,null,null,null,null,null,null,null,null,null,null,null,null,null,null,null,null,null,null,null,null,null,null,null,null,null,null,null,null,null,null,null,null,null,null,\"Asia\",\"Asia\",\"Asia\",\"Asia\",\"Asia\",\"Asia\",\"Asia\",\"Asia\",\"Africa\",\"Africa\",\"Africa\",\"Africa\",\"Africa\",\"Africa\",\"Africa\",\"Africa\",\"Africa\",null,null,null,null,null,null,null,null,null,null,null,null,null,null,null,null,null,null,null,null,null,null,null,null,null,null,null,null,null,null,null,null,null,null,\"Asia\",\"Asia\",\"Asia\",\"Asia\",\"Asia\",\"Asia\",\"Asia\",\"Asia\",null,null,null,null,null,null,null,null,null,null,\"Africa\",\"Africa\",\"Africa\",\"Africa\",\"Africa\",\"Africa\",\"Africa\",\"Africa\",\"Americas\",\"Americas\",\"Americas\",\"Americas\",\"Americas\",\"Americas\",\"Americas\",\"Americas\",null,null,null,null,null,null,null,null,null,null,null,null,null,null,null,null,null,null,null,null,null,null,null,null,null,null,null,null,null,null,null,null,null,null,null,null,\"Asia\",\"Asia\",\"Asia\",\"Asia\",\"Asia\",\"Europe\",\"Africa\",\"Africa\",\"Africa\",\"Africa\",\"Africa\",\"Africa\",\"Africa\",\"Africa\",\"Africa\",\"Africa\",\"Africa\",\"Africa\",\"Africa\",\"Africa\",\"Africa\",\"Africa\",\"Asia\",\"Asia\",\"Asia\",\"Asia\",\"Asia\",\"Asia\",\"Asia\",\"Asia\",\"Africa\",\"Africa\",\"Africa\",\"Africa\",\"Asia\",\"Asia\",\"Asia\",\"Asia\",\"Asia\",\"Asia\",\"Asia\",\"Asia\",\"Europe\",\"Europe\",\"Europe\",\"Europe\",\"Europe\",\"Europe\",\"Europe\",\"Europe\",\"Europe\",\"Europe\",\"Oceania\",\"Oceania\",\"Oceania\",\"Oceania\",\"Oceania\",\"Oceania\",\"Oceania\",\"Oceania\",\"Oceania\",\"Oceania\",\"Americas\",\"Americas\",\"Americas\",\"Americas\",\"Americas\",\"Americas\",\"Americas\",\"Americas\",\"Africa\",\"Africa\",\"Africa\",\"Africa\",\"Africa\",\"Africa\",\"Africa\",\"Africa\",\"Africa\",\"Africa\",null,null,null,null,null,null,null,null,null,null,\"Europe\",\"Europe\",\"Europe\",\"Europe\",\"Europe\",\"Europe\",\"Europe\",\"Europe\",\"Europe\",\"Europe\",null,null,null,null,null,null,null,null,null,null,\"Asia\",\"Asia\",\"Asia\",\"Asia\",\"Asia\",\"Asia\",\"Asia\",\"Asia\",null,null,\"Asia\",\"Asia\",\"Asia\",\"Asia\",\"Asia\",\"Asia\",\"Asia\",\"Asia\",\"Americas\",\"Americas\",\"Americas\",\"Americas\",\"Americas\",\"Americas\",\"Americas\",\"Americas\",\"Americas\",\"Americas\",\"Americas\",\"Americas\",\"Americas\",\"Americas\",\"Americas\",\"Americas\",\"Americas\",\"Americas\",\"Americas\",\"Americas\",\"Americas\",\"Americas\",\"Americas\",\"Americas\",\"Asia\",\"Asia\",\"Asia\",\"Asia\",\"Asia\",\"Asia\",\"Asia\",\"Asia\",\"Europe\",\"Europe\",\"Europe\",\"Europe\",\"Europe\",\"Europe\",\"Europe\",\"Europe\",\"Europe\",\"Europe\",\"Europe\",\"Europe\",\"Europe\",\"Europe\",\"Europe\",\"Europe\",\"Europe\",\"Europe\",\"Europe\",\"Europe\",null,null,null,null,null,null,null,null,null,null,null,null,null,null,null,null,null,null,null,null,null,null,null,null,null,null,\"Europe\",\"Europe\",\"Europe\",\"Europe\",\"Europe\",\"Europe\",\"Europe\",\"Europe\",null,null,null,null,null,\"Africa\",\"Asia\",\"Asia\",\"Asia\",\"Asia\",\"Asia\",\"Asia\",\"Asia\",\"Asia\",\"Africa\",\"Africa\",\"Africa\",\"Africa\",\"Africa\",\"Africa\",\"Africa\",\"Africa\",\"Europe\",\"Europe\",\"Europe\",\"Europe\",null,\"Asia\",\"Asia\",\"Asia\",\"Asia\",\"Asia\",\"Asia\",\"Asia\",\"Asia\",\"Europe\",\"Europe\",\"Europe\",\"Europe\",\"Europe\",\"Europe\",\"Europe\",\"Europe\",\"Europe\",\"Europe\",\"Europe\",\"Europe\",null,null,\"Africa\",\"Africa\",\"Africa\",\"Africa\",\"Africa\",\"Africa\",\"Africa\",\"Africa\",null,null,null,null,null,null,null,null,null,null,null,null,null,null,null,null,\"Europe\",\"Europe\",\"Europe\",\"Europe\",\"Europe\",\"Europe\",\"Europe\",\"Europe\",\"Europe\",\"Europe\",\"Asia\",\"Asia\",\"Asia\",\"Asia\",\"Asia\",\"Asia\",\"Asia\",\"Asia\",null,null,null,null,null,null,null,null,null,null,null,null,null,null,null,null,null,null,null,null,null,null,null,null,null,null,null,\"Africa\",\"Africa\",\"Africa\",\"Africa\",\"Africa\",\"Africa\",\"Africa\",\"Africa\",null,\"Africa\",\"Europe\",\"Europe\",\"Europe\",\"Europe\",\"Europe\",\"Europe\",\"Europe\",\"Europe\",\"Europe\",\"Europe\",\"Europe\",\"Europe\",\"Europe\",\"Europe\",\"Europe\",\"Europe\",\"Europe\",\"Europe\",\"Europe\",\"Europe\",null,null,null,null,null,null,null,null,null,null,null,null,\"Africa\",\"Africa\",\"Africa\",\"Africa\",\"Africa\",\"Africa\",\"Africa\",\"Africa\",\"Asia\",\"Asia\",\"Asia\",\"Asia\",\"Asia\",\"Asia\",\"Asia\",\"Asia\",null,\"Africa\",\"Africa\",\"Africa\",\"Africa\",\"Africa\",\"Africa\",\"Africa\",\"Africa\",null,\"Americas\",\"Americas\",\"Americas\",\"Americas\",\"Americas\",\"Americas\",\"Americas\",\"Americas\",\"Africa\",\"Africa\",\"Africa\",\"Africa\",\"Africa\",\"Africa\",\"Africa\",\"Africa\",\"Europe\",\"Europe\",\"Europe\",\"Europe\",\"Europe\",\"Europe\",\"Europe\",\"Europe\",\"Europe\",\"Europe\",null,null,null,null,null,null,null,null,null,null,null,null,null,null,null,null,\"Europe\",\"Europe\",\"Europe\",\"Europe\",\"Europe\",\"Europe\",\"Europe\",\"Europe\",\"Europe\",\"Europe\",\"Americas\",\"Americas\",\"Americas\",\"Americas\",\"Americas\",\"Americas\",\"Americas\",\"Americas\",\"Americas\",\"Americas\",null,null,null,null,null,null,null,null,\"Americas\",\"Americas\",\"Americas\",\"Americas\",\"Americas\",\"Americas\",\"Americas\",\"Americas\",null,null,null,null,null,null,null,null,null,null,null,null,null,\"Asia\",\"Asia\",\"Asia\",\"Asia\",\"Asia\",\"Asia\",\"Asia\",\"Asia\",null,null,null,null,null,null,null,null,null,null,null,null,null,null,null,null,\"Africa\",\"Africa\",\"Africa\",\"Africa\",\"Africa\",\"Africa\",\"Africa\",\"Africa\",\"Africa\",\"Africa\",\"Africa\",\"Africa\",\"Africa\",\"Africa\",\"Africa\",\"Africa\"],\"x0\":\" \",\"xaxis\":\"x\",\"y\":[865.592481207,923.728867504,966.683283781,921.893044018,418.286629757,384.594958328,645.080153785,679.861765101,261.465250751,398.656113469,771.235497639,827.552506829,883.7458819,804.842705115,904.456391853,1075.19412704,629.301934363,535.2524622330001,514.415934309,502.598458911,511.237051724,494.174484207,515.4034564030001,561.5501055130001,1729.91930993,411.951769624,561.243583009,955.19603006,1086.31128033,1148.14095379,1306.83962551,1395.88351005,1578.8806925,1379.81886741,1420.56765898,1416.53992488,1477.07652885,1484.0589177000004,1614.33824027,1502.22488095,1846.93675639,1197.44907736,593.385435988,615.761298141,954.730353597,3172.97486502,3692.80794983,4035.20634439,4671.19567362,4817.48952431,4772.37046465,4959.21491855,5469.5999892,5569.6409925,5868.34709712,1675.87362115,1920.21212423,2627.32249578,2797.42192238,2830.22178095,3174.74539203,3239.0639673,3542.5214303,3765.28296302,4029.62695258,2464.59739908,1444.31945906,1414.52811141,1411.5573398,2071.53062447,5960.21133509,8187.11498635,9071.02474414,9523.46356521,10844.7550254,12122.0506027,11704.3047293,11291.126355,86.903766977,97.860763105,105.482961637,106.866835127,119.405481659,135.210016124,149.933182829,173.580998621,1452.08832753,3620.73198904,2505.60462588,2550.2504815,2918.19790795,2810.06114801,3182.9234575,4473.92951273,4589.52441,4208.25780214,4727.68639528,5092.96578511,5579.51075728,5461.40290348,5389.28164733,596.508748236,380.812029086,363.746124276,355.338045025,347.306591796,321.349456122,350.78972053,305.04923703400004,368.216084341,358.04898521,240.157170254,331.439253894,462.43170312,341.493450003,399.828007323,561.077061465,528.760849998,561.052703379,1034.34415156,712.9252777060001,1156.99672325,1381.12205494,739.29915268,743.685354401,979.087310581,900.173527778,1032.6780741,1028.07041536,741.6918705969998,868.475086329,867.193602187,987.562557183,929.003678998,1061.83829204,1081.26747985,1221.36231051,1236.99906935,6071.48527838,6813.23118487,6804.97076023,7719.68719323,7541.99892815,6282.73968135,8618.396139499999,2262.78654882,2954.26673889,3309.20642511,3411.07339479,2396.00726637,2504.12268042,2401.37660851,2666.11144524,214.01352233,265.896639422,314.97027594400004,253.343288148,386.14642293800006,402.624623832,423.360959463,417.73292245,397.277540786,396.727156517,389.52261441,332.30332161,4451.56011604,5557.29174015,6933.60655182,7409.53000504,7149.344059999999,7641.32410546,7479.477427399999,7965.51932158,7920.11022894,8130.58019344,3923.68240346,2666.45876684,3195.30598842,3337.52764477,3516.41453538,2619.68516777,2634.73654948,2473.83496499,2686.14645564,891.2738674039999,779.391621026,763.201224638,826.260796732,1141.81007039,1558.78524634,1644.79154564,1860.10017433,477.168708746,577.211010594,606.830437326,694.4223599789999,752.628662541,871.6462695360001,978.61898313,1550.53027085,598.975288294,638.025434659,635.432893568,696.0663928460001,704.354798517,709.8217022360001,606.266720641,637.510761494,63.1348128438,324.393556061,322.759073753,320.593261177,333.03186626400003,318.353444006,303.09167438400004,292.270860798,299.806124773,371.116849444,349.08917144199995,355.097864769,347.181743295,317.468598242,252.12535469,243.170200073,338.481267822,442.444664949,528.165846592,455.822967416,491.495062694,705.487675532,647.0037811669999,748.21348058,1031.80869969,453.243100247,449.52124719,393.432418022,383.372484812,373.659519455,386.175169435,406.144021726,539.7271851830001,1502.13713647,1704.81692913,1856.86891892,2102.14585212,1154.55654156,1424.73743541,1536.90510757,1578.25907104,1214.11700599,1125.97333686,1053.28051042,904.662628457,36146.6996141,28090.6736965,27354.0216254,9544.0391929,10501.8344544,16190.0841068,16742.8659882,16338.3822958,1188.65923567,1074.36651801,1247.80869467,1635.5539274,1958.67534284,2072.99606055,2187.14683284,2293.67568483,4613.78059093,4716.46270083,4633.61136678,4978.254944899999,4222.41657552,4184.88468363,4163.45010589,4468.96035161,2296.28956262,3061.11010693,3858.59212164,3830.10381024,3422.37480485,3819.83212874,3561.89036948,3848.1558436,3535.09801372,3622.59683256,178.904528787,607.3875273680001,573.372745636,601.951784846,596.93367919,594.381238984,603.781376066,749.844735219,819.797049144,763.408932512,400.03166021,460.186115166,541.018058131,564.44142921,633.562234085,680.696392567,712.983283972,801.16768704,678.881132054,783.647572002,811.512531212,900.91480048,1027.943827,1181.65924487,1273.03873206,1656.81942763,441.234308249,523.821671864,552.078029196,626.100756853,700.166891009,816.786580651,908.698585456,1332.00755178,452.820200736,536.413547654,568.442527674,640.702005223,708.220508453,816.929257613,907.848120912,1324.77868382,360.600661999,568.073705272,666.635807378,602.470062495,629.220777401,721.687588695,739.4547575380002,833.203582927,236.937813663,308.424225986,422.346752705,538.201213482,561.9650195959999,599.668647304,663.006152559,896.348494221,484.967888203,622.1297874219999,595.2355137530001,503.481769676,525.453706523,624.096762293,720.3532811819998,748.1199930380002,2641.94245101,277.580928028,319.16492977400003,197.54986892,162.700034655,4283.15866442,4010.91576845,3415.78062131,4243.64799952,434.793195834,432.458375494,434.058222854,437.234995296,431.15182408,435.145404589,439.254909387,442.86665148300006,1566.55425905,1940.64561941,2920.56198646,3103.93570333,3071.76594502,3397.8019227,3470.34438082,3612.94597571,3753.90673979,3741.37335193,3505.31480666,3181.99684483,3239.05130598,3365.33106783,3455.20116241,2686.29361531,2697.04896588,2974.0377457,3565.70881794,2702.09756024,2743.96126235,3027.07763509,1869.0381177,2203.48404256,3014.11090982,3234.3857739,3196.65070916,3490.27898751,3348.19702484,3470.32107544,3523.83467403,3528.05981434,627.7486465669999,2361.74387608,3126.42604539,4188.16067653,4516.24806759,4805.49388193,5960.69258613,5380.99306782,6276.95169203,6705.43983596,6967.21323874,386.754635049,426.594022687,459.670263575,510.156555988,528.48607156,607.7044074840001,547.091596329,532.883619481,1852.7357712,2241.91139524,3160.80483651,3155.62146854,3272.05274478,3690.65145306,3954.00370317,4049.35046526,4225.60695353,4120.3058212,1707.3062928,2000.90013642,2069.78785109,1470.39664628,1298.09635297,1236.01768782,1229.36459426,1281.68189093,86.5646462175,1776.7678260000002,725.5223320680002,583.873995869,818.550955414,2124.84853926,2388.41234673,4017.33738516,4336.0874042,4257.86440736,4616.39706207,4190.98422047,4203.3573666,4108.40129887,3985.80810152,348.93189080300004,381.515147025,376.7088969880001,363.852104774,366.522645114,398.339353834,317.525749335,278.760989471,979.63266776,1015.73952627,1187.9944509000004,1860.01575808,3394.45163677,4069.84511488,4761.45934129,5268.8948606,350.101257861,607.702155943,1134.78649348,1469.54942907,1537.27769706,1791.83338591,2129.89451644,2282.13703466,2597.74828926,2734.92011068,781.9514031680002,491.473442413,574.359356263,482.712477796,448.694681999,497.344297754,526.326033275,590.478746775,616.892076168,62.1995597581,670.5666824919999,317.810225983,350.433910995,301.847692756,226.326971354,219.075496949,252.463093356,261.374331488,384.513775199,380.005564962,387.341964064,2913.42527159,3524.12021546,4136.30629632,4390.66159201,4162.68618093,4489.22277355,4629.35286585,4919.01805973,5041.585763,5108.38676563,499.277043223,512.605428263,520.393217065,481.319956646,483.335543947,528.901564325,516.4041365740001,657.398639731,760.612814046,997.775596134,1082.68534524,1465.54583669,1839.90931816,1528.70848936,1981.91723136,2107.97304917,1476.04957577,1880.53879751,2428.82933004,2630.75848148,2894.82745315,2423.17944795,2527.30162599,2520.15246577,2658.03637311,522.462572501,614.533811086,662.18944751,716.7689991889999,1034.30270261,1012.72253094,1048.8751624,1310.57268613,493.310746182,569.840630388,609.697453851,653.795448427,922.293114554,897.709767831,924.198822662,1127.26647411,402.705057769,414.55453691,450.20302839,470.733993692,604.42437795,598.25424633,632.6355807880001,663.53443801,317.38583405,320.979651021,317.393438924,318.292264004,328.033348933,325.798144239,334.408291174,357.549749306,354.156984537,361.388338376,374.667571263,384.062527567,449.203851662,442.312736736,459.289114071,483.836090366,3028.29836932,3594.36178937,4403.96964669,5602.87016623,7076.20798768,7857.45488268,7755.39441578,8584.10049866,10804.6417156,14746.0313385,268.485083335,283.275393642,299.592677132,325.73809089400004,365.379491444,399.052528907,423.580114419,486.292374786,301.357990782,347.868204367,388.834624998,436.663234979,574.344890279,690.7954914339999,760.140852043,788.5836582439999,541.748552604,974.910863319,1197.78219453,1079.85911122,1391.90260109,1750.12851198,2039.14932191,2662.25450535,405.152489951,626.354937731,690.323799679,958.189471661,1311.18896852,1861.7960965,1130.94271589,892.39580238,1412.72967684,1767.42510638,2194.51306452,2203.82152215,2356.8942567,2608.80658136,2775.21800345,3255.49845122,3661.32224061,3416.03094562,1756.33100381,1786.48768337,1958.31704292,2278.47928588,2580.96935389,2881.12834133,2862.7957382,2898.15336834,1007.04834663,1551.51917279,2050.73787712,2204.17980667,2206.54273411,2407.25635314,2627.34000777,2834.40294607,3017.97165871,3062.36054739,1331.9860874,1153.48652689,1040.31180401,765.4628605460001,1215.0555252,1333.59707253,1371.65658542,1578.42891649,1003.75225394,1720.54974435,2667.04674964,2899.90421823,2840.60843908,3044.11508629,3652.07124745,4048.98200021,4005.94409353,4024.99795314,297.830418297,473.5437315580001,875.54040491,998.355658577,1015.41769856,991.96787502,1024.4838209,1251.68193903,4796.14425247,2575.67059959,2674.25567409,4267.99306028,455.513600948,455.626061673,437.652286948,464.00933684,445.111805733,441.007660811,440.968733004,462.22025237800005,114.214515627,1324.59197949,1486.25076721,1819.87711654,1764.08289823,1329.92004734,827.977342208,841.5994234010001,759.208682667,551.258116377,866.0208045219998,1095.50331544,1579.66574639,2534.34102827,3726.15776616,4172.45155876,4573.06486741,1112.34733979,1179.56864066,7802.76597438,6429.99850119,7548.12934744,8616.57655309,8764.51262442,10105.8321479,10395.1176066,1102.74726492,552.179754706,485.288636865,560.6182142590001,615.302324231,727.136850297,767.316677795,856.907787172,1268.17096725,1233.36659672,1311.69572483,1753.15448787,835.148691667,948.936850583,1037.59881759,1050.37897188,1056.87576442,1122.85929953,1132.60092955,1253.78231118,807.786838728,936.639120332,1029.52159077,1047.31359281,1040.64094091,1095.11118105,1095.12240211,1201.13916199,807.043596065,922.376130416,1013.17445897,1033.82121082,1050.02936112,1118.22028502,1130.43985592,1256.33427601,2335.40919346,1821.3519858,1763.2575569000005,2179.81389113,311.015643639,303.176722355,295.561229925,290.589337704,286.919463162,291.834509431,303.010715878,320.260756311,789.565543378,696.1964896339999,678.5814280469999,996.943321974,868.56933067,1698.3102702999995,1484.22892653,1034.92218437,9.71541007212,952.733553333,1455.08414725,2397.98259634,2700.28315715,2452.19740381,2991.94395278,3071.77483233,2725.88792504,2978.41120571,2490.34764262,2574.35333091,2927.24122287,469.817872852,544.187165799,586.145579794,630.420632318,907.709368572,879.2827864289999,908.339794494,1108.84716387,293.603870492,317.00315161,340.584096729,365.338456733,533.0720604530001,515.501446717,536.467219684,583.870034788,10414.5409197,10361.9725668,12009.5701096,10278.5575523,8057.80999932,7942.94807822,9262.08197871,7409.85099535,8204.72684485,8773.89670266,1366.16586572,1364.26832272,1245.77686466,1474.7115057,536.095210505,621.740086559,898.6549052380002,1078.98626036,1566.72481216,2063.52696529,2183.8734214,2742.50027319,856.733524355,873.0335592660001,822.865426589,1255.81010009,1750.65387462,1838.86120799,2088.64554574,1851.91264973,2156.55579705,613.779346325,435.059790882,474.222876797,414.601806914,512.011597538,657.7868228880001,712.571976967,873.195801833,1007.57484088,856.81120942,1063.78037111,1465.05024708,1379.33314201,1452.97190576,1398.88398183,1412.86939872,1551.28978352,463.067308875,682.462636345,1068.71580375,1162.25424419,1294.30306655,1514.84163412,1650.94644655,1939.64769644,338.548155646,524.762882197,701.682206849,761.78884684,886.273476533,1042.80565562,1091.56420829,1300.11982313,338.548155646,524.762882197,701.682206849,761.78884684,886.273476533,1042.80565562,1091.56420829,1300.11982313,465.568625464,543.675052779,587.035703669,634.560220251,929.685694876,904.429119774,938.208449172,1154.45114025,1847.2590394,1059.24320674,854.41872096,938.596721751,1746.24080026,1488.63742731,951.851569598,1058.16485595,1376.98860218,1927.97889182,190.387995598,252.036810104,268.259441677,277.485699249,327.952990834,362.27042057,402.312789339,487.448713086,699.0228986210001,608.405141326,523.782627433,474.548861116,420.272139083,390.685096382,395.127686774,407.278749651,281.931848431,276.246179043,270.238811656,269.30095308,251.060745819,263.20255292,266.385844866,307.913041122,496.518769708,594.756148267,579.8782172790001,659.366428344,300.972670494,302.06554296,305.746943514,307.065111322,309.74507691900004,316.822270368,345.37079196,357.131793555,2081.01162075,2762.80248267,4381.04179488,4560.27311991,3785.11593558,4387.67068914,4501.66087489,4579.47478164,4687.98228043,4843.79608802,1791.46132151,2188.69351345,2617.16105927,3055.08108455,3012.97138874,3452.96268019,3808.4772206,4258.75677677,4337.38052425,4054.4950045,487.96346663800006,585.0413863719999,469.268615848,502.383245685,509.839947747,503.04461939,508.740585366,521.961949752,130.047629217,128.026173022,583.794808164,634.258748201,689.4945390439999,674.47298453,719.308370017,696.8847876410001,721.312209806,747.1012487439999,5654.54454258,6693.14400522,7845.45155018,8200.14762227,7248.31243917,7624.06433962,7657.59772873,7842.14948444,7850.89222375,7794.82310703,2052.05448433,2815.68798736,3503.4299482,4060.10627707,4262.39171068,5048.49930916,5159.65421807,5477.88285412,5503.46451061,5864.97593092,2810.85179639,3393.488197300001,3903.27951171,4126.59164571,3877.4784151,4144.04638378,4251.95579332,4476.70815332,4525.00960193,4558.67150857,112.054808283,761.662333837,1151.87126892,1412.3831509,2756.42578415,3027.90856152,3890.79215204,6881.62081928,2568.05590493,395.026704715,285.16407106400004,302.558312012,336.92280827900004,376.344243754,412.405215402,448.925191849,455.934635667,523.2672101530001,1159.6892715999998,899.7691370580002,796.469906347,730.8000538289999,715.38365957,777.742373207,834.670915895,879.523836391,540.588375968,580.530937274,630.648885594,699.102776962,712.691343364,877.0448880460001,705.433761481,708.7828687130002,648.807999388,678.509067152,632.7254874390001,540.974320389,408.43313224,440.557973649,446.340827194,506.633143848,406.49229803800006,456.743021869,461.890994003,433.357672285,460.545976337,500.989771655,477.457211125,434.402352876,1976.85979181,2199.05462052,2693.74527501,3251.8025717,3412.49866376,3535.48197152,2569.17533457,2643.12353589,2314.20257992,2526.9949602,363.164047972,486.585415324,745.283954565,845.368945104,1119.20463053,1241.1956653,1813.8858461,2083.48767635,2477.48974988,2402.47799385,2964.13104324,3593.16547563,4305.70548968,4566.04438897,4275.02872505,4618.40047864,4723.22931241,4910.16997541,5009.96976948,5045.04189347,507.516265095,519.6788297090001,526.76061961,530.5424724540001,548.35923133,567.682231985,526.262696084,524.982272178,7810.38833537,9517.70576301,17348.327454,14613.480831600002,15421.4794514,19262.1688599,21517.7793401,18775.9643074,2131.63973572,2735.43911555,2876.73333115,3027.56521622,2052.96292702,1989.99418196,1755.13002556,1904.09688616,5351.21152876,4069.76762723,4288.21698858,4709.84574443,318.265125824,274.890043982,979.423249943,1368.95037047,4215.42559694,3750.91313869,4421.45445335,4354.65523263,4907.82867485,5379.69097885,280.837670795,281.840462003,260.719421235,254.211898654,222.634685966,221.005820684,253.315356135,252.409846662,2020.15373461,2299.90425855,2119.78208028,2248.15503566,2410.82873708,1569.47082327,1763.23012084,1987.08730813,2757.88068931,4588.43321165,5818.15092473,5065.98450652,4677.20430572,3224.51944058,3780.58944725,3754.67958194,4074.77904741,3410.7278847,3361.88402225,3483.86750611,3320.45472221,2584.33517088,3310.40063325,3424.45287862,3627.52350948,2714.99708585,130.061474369,1997.49821372,2208.54919916,2699.72841558,2831.14750181,2414.3981946,2655.26925959,2421.00577767,2805.48565552,254.522114114,268.599597385,285.524938248,309.704400985,345.082662031,377.07864440300006,399.287999931,457.87244741,254.522114114,268.599597385,285.524938248,309.704400985,345.082662031,377.07864440300006,399.287999931,457.87244741,605.223527325,881.3832485789999,1299.43101563,1667.64601643,1762.40454547,1919.44664907,2435.96962149,2666.2640552,3107.86734112,3180.03341956,314.546613794,293.833883231,324.13036566,328.090886835,327.882389865,380.086721607,432.84856645,470.83709579,1644.70425047,752.295087748,641.913268347,659.8774837130001,675.779202544,719.346659261,719.369669186,671.195104842,674.037598633,645.49404095,670.1719565530001,659.8774837130001,675.779202544,719.346659261,719.369669186,671.195104842,674.037598633,645.49404095,670.1719565530001,659.8774837130001,675.779202544,719.346659261,719.369669186,671.195104842,674.037598633,645.49404095,669.94100511,485.018934669,445.524031505,431.003010124,397.42097884300006,386.72897561,392.294923579,411.137505242,366.495542,1425.28340982,372.735499664,2887.23625249,3630.19413871,4527.21372025,5054.83376436,4877.79989653,5763.0704408,5369.37035674,5672.0081772,5802.11010517,5472.13539173,1568.91106002,2040.8279002,2727.71921732,2877.79290941,2984.22326318,3430.8555125,3613.49260926,3526.10543855,3553.18855698,3410.15494794,289.878330855,475.180226672,665.225952167,786.4364226380002,827.27508718,915.341656744,968.363563134,1165.51429539,750.140090712,360.63488962,332.064001069,363.263610574,527.0538798619999,455.445767964,414.717967022,394.145177081,369.835021604,357.261154316,416.002267994,442.62215764,367.864327681,451.510578157,456.467867425,531.762695185,840.141111806,1164.94784692,1282.58023503,1585.96595222,60.2056466975,332.041867346,327.998948608,327.324375984,328.062332773,328.69853999,384.078207642,424.034097572,417.118049767,567.686871752,2772.88276961,2808.51679767,3648.18714807,4188.6453215,5286.28687516,5437.91312128,9356.78097414,14608.0098682,341.737804158,427.302747359,493.048630903,542.645168334,641.6905970619999,679.079751272,801.489193653,883.981281357,410.021796967,484.393315616,605.1364652890001,778.4328071839999,732.662049648,917.976137079,960.859171935,1165.81161631,1139.69490969,1438.53526923,2674.60747409,2762.14618527,3438.90967555,4606.19031397,4209.62161535,2836.2075977,2813.15969089,2996.21074042,3243.4697549,5682.19088634,8344.44965243,11389.1326545,11073.1986009,11897.2665131,11958.4774577,8343.10876691,3087.34197183,3345.55349486,3747.96247517,3695.38387114,3397.12228872,3619.07726922,3684.72453527,3760.71236505,3685.8654787,3441.68876583,5774.58631485,6809.82048392,7940.99783226,8285.57089798,7259.07889875,7622.17301652,7677.40140109,7828.5810964,7843.34484914,7758.16570028,614.52132682,744.1341117439999,813.673828472,891.10768748,1298.44152508,1282.38902306,1344.91445004,1757.55685207,872.986354117,868.792103341,766.1430987780002,718.448623294,855.1247871139999,880.633650605,762.6981432010001,947.838610674,2110.49554758,1899.613766,2109.31946019,1777.9147684999996,159.122733638,1405.3241974000002,1809.81958254,2155.27340317,2063.81661697,2223.66756347,2150.87344415,2267.36858799,2096.72462083,298.157558425,257.872313351,271.162299998,286.657214575,276.1308749,335.170556166,420.446832131,540.08195349,1371.05802367,1443.43032027,1382.14223193,1442.59652724,1619.33212714,1623.60606051,1644.9477869,1803.91817798,90.499182259,126.035906203,169.705381647,211.620358202,252.237164461,226.761242287,270.813122936,318.012608114,857.0932537580002,819.7872201060001,756.612333199,700.14084375,662.721536129,617.209365016,598.548219754,588.018958956,994.184786353,921.65469562,842.372683813,896.673611477,923.493407317,804.5088922269998,772.6766193660001,725.6810488469998],\"y0\":\" \",\"yaxis\":\"y\",\"type\":\"box\"}],                        {\"template\":{\"data\":{\"histogram2dcontour\":[{\"type\":\"histogram2dcontour\",\"colorbar\":{\"outlinewidth\":0,\"ticks\":\"\"},\"colorscale\":[[0.0,\"#0d0887\"],[0.1111111111111111,\"#46039f\"],[0.2222222222222222,\"#7201a8\"],[0.3333333333333333,\"#9c179e\"],[0.4444444444444444,\"#bd3786\"],[0.5555555555555556,\"#d8576b\"],[0.6666666666666666,\"#ed7953\"],[0.7777777777777778,\"#fb9f3a\"],[0.8888888888888888,\"#fdca26\"],[1.0,\"#f0f921\"]]}],\"choropleth\":[{\"type\":\"choropleth\",\"colorbar\":{\"outlinewidth\":0,\"ticks\":\"\"}}],\"histogram2d\":[{\"type\":\"histogram2d\",\"colorbar\":{\"outlinewidth\":0,\"ticks\":\"\"},\"colorscale\":[[0.0,\"#0d0887\"],[0.1111111111111111,\"#46039f\"],[0.2222222222222222,\"#7201a8\"],[0.3333333333333333,\"#9c179e\"],[0.4444444444444444,\"#bd3786\"],[0.5555555555555556,\"#d8576b\"],[0.6666666666666666,\"#ed7953\"],[0.7777777777777778,\"#fb9f3a\"],[0.8888888888888888,\"#fdca26\"],[1.0,\"#f0f921\"]]}],\"heatmap\":[{\"type\":\"heatmap\",\"colorbar\":{\"outlinewidth\":0,\"ticks\":\"\"},\"colorscale\":[[0.0,\"#0d0887\"],[0.1111111111111111,\"#46039f\"],[0.2222222222222222,\"#7201a8\"],[0.3333333333333333,\"#9c179e\"],[0.4444444444444444,\"#bd3786\"],[0.5555555555555556,\"#d8576b\"],[0.6666666666666666,\"#ed7953\"],[0.7777777777777778,\"#fb9f3a\"],[0.8888888888888888,\"#fdca26\"],[1.0,\"#f0f921\"]]}],\"heatmapgl\":[{\"type\":\"heatmapgl\",\"colorbar\":{\"outlinewidth\":0,\"ticks\":\"\"},\"colorscale\":[[0.0,\"#0d0887\"],[0.1111111111111111,\"#46039f\"],[0.2222222222222222,\"#7201a8\"],[0.3333333333333333,\"#9c179e\"],[0.4444444444444444,\"#bd3786\"],[0.5555555555555556,\"#d8576b\"],[0.6666666666666666,\"#ed7953\"],[0.7777777777777778,\"#fb9f3a\"],[0.8888888888888888,\"#fdca26\"],[1.0,\"#f0f921\"]]}],\"contourcarpet\":[{\"type\":\"contourcarpet\",\"colorbar\":{\"outlinewidth\":0,\"ticks\":\"\"}}],\"contour\":[{\"type\":\"contour\",\"colorbar\":{\"outlinewidth\":0,\"ticks\":\"\"},\"colorscale\":[[0.0,\"#0d0887\"],[0.1111111111111111,\"#46039f\"],[0.2222222222222222,\"#7201a8\"],[0.3333333333333333,\"#9c179e\"],[0.4444444444444444,\"#bd3786\"],[0.5555555555555556,\"#d8576b\"],[0.6666666666666666,\"#ed7953\"],[0.7777777777777778,\"#fb9f3a\"],[0.8888888888888888,\"#fdca26\"],[1.0,\"#f0f921\"]]}],\"surface\":[{\"type\":\"surface\",\"colorbar\":{\"outlinewidth\":0,\"ticks\":\"\"},\"colorscale\":[[0.0,\"#0d0887\"],[0.1111111111111111,\"#46039f\"],[0.2222222222222222,\"#7201a8\"],[0.3333333333333333,\"#9c179e\"],[0.4444444444444444,\"#bd3786\"],[0.5555555555555556,\"#d8576b\"],[0.6666666666666666,\"#ed7953\"],[0.7777777777777778,\"#fb9f3a\"],[0.8888888888888888,\"#fdca26\"],[1.0,\"#f0f921\"]]}],\"mesh3d\":[{\"type\":\"mesh3d\",\"colorbar\":{\"outlinewidth\":0,\"ticks\":\"\"}}],\"scatter\":[{\"fillpattern\":{\"fillmode\":\"overlay\",\"size\":10,\"solidity\":0.2},\"type\":\"scatter\"}],\"parcoords\":[{\"type\":\"parcoords\",\"line\":{\"colorbar\":{\"outlinewidth\":0,\"ticks\":\"\"}}}],\"scatterpolargl\":[{\"type\":\"scatterpolargl\",\"marker\":{\"colorbar\":{\"outlinewidth\":0,\"ticks\":\"\"}}}],\"bar\":[{\"error_x\":{\"color\":\"#2a3f5f\"},\"error_y\":{\"color\":\"#2a3f5f\"},\"marker\":{\"line\":{\"color\":\"#E5ECF6\",\"width\":0.5},\"pattern\":{\"fillmode\":\"overlay\",\"size\":10,\"solidity\":0.2}},\"type\":\"bar\"}],\"scattergeo\":[{\"type\":\"scattergeo\",\"marker\":{\"colorbar\":{\"outlinewidth\":0,\"ticks\":\"\"}}}],\"scatterpolar\":[{\"type\":\"scatterpolar\",\"marker\":{\"colorbar\":{\"outlinewidth\":0,\"ticks\":\"\"}}}],\"histogram\":[{\"marker\":{\"pattern\":{\"fillmode\":\"overlay\",\"size\":10,\"solidity\":0.2}},\"type\":\"histogram\"}],\"scattergl\":[{\"type\":\"scattergl\",\"marker\":{\"colorbar\":{\"outlinewidth\":0,\"ticks\":\"\"}}}],\"scatter3d\":[{\"type\":\"scatter3d\",\"line\":{\"colorbar\":{\"outlinewidth\":0,\"ticks\":\"\"}},\"marker\":{\"colorbar\":{\"outlinewidth\":0,\"ticks\":\"\"}}}],\"scattermapbox\":[{\"type\":\"scattermapbox\",\"marker\":{\"colorbar\":{\"outlinewidth\":0,\"ticks\":\"\"}}}],\"scatterternary\":[{\"type\":\"scatterternary\",\"marker\":{\"colorbar\":{\"outlinewidth\":0,\"ticks\":\"\"}}}],\"scattercarpet\":[{\"type\":\"scattercarpet\",\"marker\":{\"colorbar\":{\"outlinewidth\":0,\"ticks\":\"\"}}}],\"carpet\":[{\"aaxis\":{\"endlinecolor\":\"#2a3f5f\",\"gridcolor\":\"white\",\"linecolor\":\"white\",\"minorgridcolor\":\"white\",\"startlinecolor\":\"#2a3f5f\"},\"baxis\":{\"endlinecolor\":\"#2a3f5f\",\"gridcolor\":\"white\",\"linecolor\":\"white\",\"minorgridcolor\":\"white\",\"startlinecolor\":\"#2a3f5f\"},\"type\":\"carpet\"}],\"table\":[{\"cells\":{\"fill\":{\"color\":\"#EBF0F8\"},\"line\":{\"color\":\"white\"}},\"header\":{\"fill\":{\"color\":\"#C8D4E3\"},\"line\":{\"color\":\"white\"}},\"type\":\"table\"}],\"barpolar\":[{\"marker\":{\"line\":{\"color\":\"#E5ECF6\",\"width\":0.5},\"pattern\":{\"fillmode\":\"overlay\",\"size\":10,\"solidity\":0.2}},\"type\":\"barpolar\"}],\"pie\":[{\"automargin\":true,\"type\":\"pie\"}]},\"layout\":{\"autotypenumbers\":\"strict\",\"colorway\":[\"#636efa\",\"#EF553B\",\"#00cc96\",\"#ab63fa\",\"#FFA15A\",\"#19d3f3\",\"#FF6692\",\"#B6E880\",\"#FF97FF\",\"#FECB52\"],\"font\":{\"color\":\"#2a3f5f\"},\"hovermode\":\"closest\",\"hoverlabel\":{\"align\":\"left\"},\"paper_bgcolor\":\"white\",\"plot_bgcolor\":\"#E5ECF6\",\"polar\":{\"bgcolor\":\"#E5ECF6\",\"angularaxis\":{\"gridcolor\":\"white\",\"linecolor\":\"white\",\"ticks\":\"\"},\"radialaxis\":{\"gridcolor\":\"white\",\"linecolor\":\"white\",\"ticks\":\"\"}},\"ternary\":{\"bgcolor\":\"#E5ECF6\",\"aaxis\":{\"gridcolor\":\"white\",\"linecolor\":\"white\",\"ticks\":\"\"},\"baxis\":{\"gridcolor\":\"white\",\"linecolor\":\"white\",\"ticks\":\"\"},\"caxis\":{\"gridcolor\":\"white\",\"linecolor\":\"white\",\"ticks\":\"\"}},\"coloraxis\":{\"colorbar\":{\"outlinewidth\":0,\"ticks\":\"\"}},\"colorscale\":{\"sequential\":[[0.0,\"#0d0887\"],[0.1111111111111111,\"#46039f\"],[0.2222222222222222,\"#7201a8\"],[0.3333333333333333,\"#9c179e\"],[0.4444444444444444,\"#bd3786\"],[0.5555555555555556,\"#d8576b\"],[0.6666666666666666,\"#ed7953\"],[0.7777777777777778,\"#fb9f3a\"],[0.8888888888888888,\"#fdca26\"],[1.0,\"#f0f921\"]],\"sequentialminus\":[[0.0,\"#0d0887\"],[0.1111111111111111,\"#46039f\"],[0.2222222222222222,\"#7201a8\"],[0.3333333333333333,\"#9c179e\"],[0.4444444444444444,\"#bd3786\"],[0.5555555555555556,\"#d8576b\"],[0.6666666666666666,\"#ed7953\"],[0.7777777777777778,\"#fb9f3a\"],[0.8888888888888888,\"#fdca26\"],[1.0,\"#f0f921\"]],\"diverging\":[[0,\"#8e0152\"],[0.1,\"#c51b7d\"],[0.2,\"#de77ae\"],[0.3,\"#f1b6da\"],[0.4,\"#fde0ef\"],[0.5,\"#f7f7f7\"],[0.6,\"#e6f5d0\"],[0.7,\"#b8e186\"],[0.8,\"#7fbc41\"],[0.9,\"#4d9221\"],[1,\"#276419\"]]},\"xaxis\":{\"gridcolor\":\"white\",\"linecolor\":\"white\",\"ticks\":\"\",\"title\":{\"standoff\":15},\"zerolinecolor\":\"white\",\"automargin\":true,\"zerolinewidth\":2},\"yaxis\":{\"gridcolor\":\"white\",\"linecolor\":\"white\",\"ticks\":\"\",\"title\":{\"standoff\":15},\"zerolinecolor\":\"white\",\"automargin\":true,\"zerolinewidth\":2},\"scene\":{\"xaxis\":{\"backgroundcolor\":\"#E5ECF6\",\"gridcolor\":\"white\",\"linecolor\":\"white\",\"showbackground\":true,\"ticks\":\"\",\"zerolinecolor\":\"white\",\"gridwidth\":2},\"yaxis\":{\"backgroundcolor\":\"#E5ECF6\",\"gridcolor\":\"white\",\"linecolor\":\"white\",\"showbackground\":true,\"ticks\":\"\",\"zerolinecolor\":\"white\",\"gridwidth\":2},\"zaxis\":{\"backgroundcolor\":\"#E5ECF6\",\"gridcolor\":\"white\",\"linecolor\":\"white\",\"showbackground\":true,\"ticks\":\"\",\"zerolinecolor\":\"white\",\"gridwidth\":2}},\"shapedefaults\":{\"line\":{\"color\":\"#2a3f5f\"}},\"annotationdefaults\":{\"arrowcolor\":\"#2a3f5f\",\"arrowhead\":0,\"arrowwidth\":1},\"geo\":{\"bgcolor\":\"white\",\"landcolor\":\"#E5ECF6\",\"subunitcolor\":\"white\",\"showland\":true,\"showlakes\":true,\"lakecolor\":\"white\"},\"title\":{\"x\":0.05},\"mapbox\":{\"style\":\"light\"}}},\"xaxis\":{\"anchor\":\"y\",\"domain\":[0.0,1.0],\"title\":{\"text\":\"continent\"}},\"yaxis\":{\"anchor\":\"x\",\"domain\":[0.0,1.0],\"title\":{\"text\":\"Energy use (kg of oil equivalent per capita)\"},\"type\":\"log\"},\"legend\":{\"tracegroupgap\":0},\"margin\":{\"t\":60},\"boxmode\":\"group\"},                        {\"responsive\": true}                    ).then(function(){\n",
       "                            \n",
       "var gd = document.getElementById('896a6540-22a5-4942-901a-3f2a20cdf296');\n",
       "var x = new MutationObserver(function (mutations, observer) {{\n",
       "        var display = window.getComputedStyle(gd).display;\n",
       "        if (!display || display === 'none') {{\n",
       "            console.log([gd, 'removed!']);\n",
       "            Plotly.purge(gd);\n",
       "            observer.disconnect();\n",
       "        }}\n",
       "}});\n",
       "\n",
       "// Listen for the removal of the full notebook cells\n",
       "var notebookContainer = gd.closest('#notebook-container');\n",
       "if (notebookContainer) {{\n",
       "    x.observe(notebookContainer, {childList: true});\n",
       "}}\n",
       "\n",
       "// Listen for the clearing of the current output cell\n",
       "var outputEl = gd.closest('.output');\n",
       "if (outputEl) {{\n",
       "    x.observe(outputEl, {childList: true});\n",
       "}}\n",
       "\n",
       "                        })                };                });            </script>        </div>"
      ]
     },
     "metadata": {},
     "output_type": "display_data"
    }
   ],
   "source": [
    "# Boxplot visualization\n",
    "fig = px.box(df_e, x='continent', y='Energy use (kg of oil equivalent per capita)', log_y=True)\n",
    "\n",
    "# Show the plot\n",
    "fig.show()"
   ]
  },
  {
   "cell_type": "markdown",
   "id": "31d2dd7b",
   "metadata": {},
   "source": [
    "##### Explaining the code:\n",
    "First, we drop all rows that have NaN values in the \"Energy use\" column and assign the resulting DataFrame to 'df_e'. We then filter 'df_e' by continent and assign the resulting columns to separate variables, 'asia', 'europe', 'africa', 'americas', and 'oceania'. We then conduct a one-way ANOVA test on the energy use data for each continent. We calculate the sample sizes for each continent, the total sample size, the degrees of freedom for between groups and within-groups variance, the critical F-value, the F-statistic, and finally the p-value from the ANOVA. We visualize our data with a box plot with a log-scaled y-axis, and we can now analyze our F-statistic, our critical F-value, and our p-value. "
   ]
  },
  {
   "cell_type": "markdown",
   "id": "db668916",
   "metadata": {},
   "source": [
    "##### Results\n",
    "We can conclude that there is a significant difference between the means of energy use in the different continents, as our F-statistic is greater than the critical value we calculated. Our p-value is much lower than our given level of significance, so we can be confident that our F-statistic was not a random occurence. "
   ]
  },
  {
   "cell_type": "markdown",
   "id": "454eb531",
   "metadata": {},
   "source": [
    "### Question 2\n",
    "#### Is there a significant difference between Europe and Asia with respect to 'Imports of goods and services (% of GDP)' in the years after 1990? (Stats test needed)"
   ]
  },
  {
   "cell_type": "markdown",
   "id": "fb43273c",
   "metadata": {},
   "source": [
    "-------------------------------------------------------------------------\n",
    "##### Before we begin:\n",
    "To test whether there is a significant difference between Europe and Asia with respect to \"Imports of goods and services (% of GDP)\" in the years after 1990, we will use a two-sample t-test.\n",
    "\n",
    "The t-test would allow you to compare the means of the two samples and determine whether any observed difference is statistically significant. In our case, our samples are Europe and Asia. Our null hypothesis expects there to be no difference in the imports of goods and services between Europe and Asia, while our alternative hypothesis expects there to be a significant difference. \n",
    "\n",
    "If the p-value from the t-test is less than our chosen significance level (we will once again choose 0.05), then we will reject the null hypothesis, and if the p-value is greater than your significance level, then you would fail to reject the null hypothesis."
   ]
  },
  {
   "cell_type": "code",
   "execution_count": 72,
   "id": "502cce4b",
   "metadata": {},
   "outputs": [
    {
     "name": "stdout",
     "output_type": "stream",
     "text": [
      "t-statistic: -1.4185256887958868\n",
      "p-value: 0.15751969325554196\n"
     ]
    }
   ],
   "source": [
    "# Filter df to include only data for the years after 1990\n",
    "df_after1990 = df[df['Year'] > 1990].dropna(subset='Imports of goods and services (% of GDP)')\n",
    "\n",
    "\n",
    "# Filter the resulting df to include imports data for Europe and Asia\n",
    "df_europe = df_after1990[df_after1990['continent'] == 'Europe']['Imports of goods and services (% of GDP)']\n",
    "df_asia = df_after1990[df_after1990['continent'] == 'Asia']['Imports of goods and services (% of GDP)']\n",
    "\n",
    "# Calculate the test statistic\n",
    "t, p = stats.ttest_ind(df_europe, df_asia)\n",
    "\n",
    "print(f't-statistic: {t}\\np-value: {p}')"
   ]
  },
  {
   "cell_type": "code",
   "execution_count": 73,
   "id": "df977bb4",
   "metadata": {},
   "outputs": [
    {
     "data": {
      "application/vnd.plotly.v1+json": {
       "config": {
        "plotlyServerURL": "https://plot.ly"
       },
       "data": [
        {
         "alignmentgroup": "True",
         "bingroup": "x",
         "hovertemplate": "continent=Asia<br>Imports of goods and services (% of GDP)=%{x}<br>count=%{y}<extra></extra>",
         "legendgroup": "Asia",
         "marker": {
          "color": "#636efa",
          "opacity": 0.7,
          "pattern": {
           "shape": ""
          }
         },
         "name": "Asia",
         "nbinsx": 20,
         "offsetgroup": "Asia",
         "orientation": "v",
         "showlegend": true,
         "type": "histogram",
         "x": [
          65.2877040065,
          58.3500468255,
          96.7420454545,
          69.5052959617,
          58.389862877,
          58.105521340200006,
          12.3473285921,
          15.8051428327,
          16.557411789,
          22.9470478067,
          45.3177088819,
          64.2708081103,
          72.94217881899999,
          14.4875132406,
          15.0398612938,
          20.1026620472,
          26.7164353002,
          9.42488847372,
          11.723082627,
          14.9815485884,
          25.1519079066,
          27.1201247208,
          28.1346335393,
          26.3918424154,
          25.3935314931,
          1.3387380938299998,
          42.3411609934,
          49.1919962299,
          28.1930139321,
          44.3365198368,
          32.587292588400004,
          35.6972911543,
          41.0701019971,
          7.643451906869999,
          9.49188652841,
          9.66739032943,
          15.6005719141,
          81.4065893831,
          71.5829118173,
          66.632176737,
          91.7584082453,
          54.2177987777,
          39.5915918101,
          36.6091466782,
          28.3171173383,
          75.8579855593,
          47.5546391753,
          34.9438902743,
          63.0607287449,
          74.6278561995,
          92.3753082915,
          91.0509065478,
          86.2975320889,
          36.3626536496,
          47.32510391939999,
          67.7906371355,
          58.2659779932,
          0.225449347209,
          0.0795059581624,
          25.7356870079,
          37.7076998214,
          28.4935889762,
          31.7236101436,
          35.5479437749,
          38.5910173249,
          27.9151441594,
          39.9893707746,
          20.5285578209,
          20.7703128758,
          15.3140127214,
          19.7758151542,
          34.0281852291,
          59.29383539999999,
          55.6880751307,
          43.3586106398,
          36.1921329627,
          26.1824690647,
          23.7762475126,
          34.9258769575,
          149.51131554,
          155.486859844,
          168.31371458,
          183.915527311,
          41.0333824771,
          43.5994352288,
          41.4218015848,
          39.4915119731,
          40.9821700246,
          46.8148412659,
          54.3239904201,
          61.0009114941,
          38.8312898757,
          51.2417759691,
          57.249342474,
          84.0875093943,
          73.04111867479999,
          62.8156816898,
          77.8106722688
         ],
         "xaxis": "x",
         "yaxis": "y"
        },
        {
         "alignmentgroup": "True",
         "hovertemplate": "continent=Asia<br>Imports of goods and services (% of GDP)=%{x}<extra></extra>",
         "legendgroup": "Asia",
         "marker": {
          "color": "#636efa"
         },
         "name": "Asia",
         "notched": true,
         "offsetgroup": "Asia",
         "showlegend": false,
         "type": "box",
         "x": [
          65.2877040065,
          58.3500468255,
          96.7420454545,
          69.5052959617,
          58.389862877,
          58.105521340200006,
          12.3473285921,
          15.8051428327,
          16.557411789,
          22.9470478067,
          45.3177088819,
          64.2708081103,
          72.94217881899999,
          14.4875132406,
          15.0398612938,
          20.1026620472,
          26.7164353002,
          9.42488847372,
          11.723082627,
          14.9815485884,
          25.1519079066,
          27.1201247208,
          28.1346335393,
          26.3918424154,
          25.3935314931,
          1.3387380938299998,
          42.3411609934,
          49.1919962299,
          28.1930139321,
          44.3365198368,
          32.587292588400004,
          35.6972911543,
          41.0701019971,
          7.643451906869999,
          9.49188652841,
          9.66739032943,
          15.6005719141,
          81.4065893831,
          71.5829118173,
          66.632176737,
          91.7584082453,
          54.2177987777,
          39.5915918101,
          36.6091466782,
          28.3171173383,
          75.8579855593,
          47.5546391753,
          34.9438902743,
          63.0607287449,
          74.6278561995,
          92.3753082915,
          91.0509065478,
          86.2975320889,
          36.3626536496,
          47.32510391939999,
          67.7906371355,
          58.2659779932,
          0.225449347209,
          0.0795059581624,
          25.7356870079,
          37.7076998214,
          28.4935889762,
          31.7236101436,
          35.5479437749,
          38.5910173249,
          27.9151441594,
          39.9893707746,
          20.5285578209,
          20.7703128758,
          15.3140127214,
          19.7758151542,
          34.0281852291,
          59.29383539999999,
          55.6880751307,
          43.3586106398,
          36.1921329627,
          26.1824690647,
          23.7762475126,
          34.9258769575,
          149.51131554,
          155.486859844,
          168.31371458,
          183.915527311,
          41.0333824771,
          43.5994352288,
          41.4218015848,
          39.4915119731,
          40.9821700246,
          46.8148412659,
          54.3239904201,
          61.0009114941,
          38.8312898757,
          51.2417759691,
          57.249342474,
          84.0875093943,
          73.04111867479999,
          62.8156816898,
          77.8106722688
         ],
         "xaxis": "x2",
         "yaxis": "y2"
        },
        {
         "alignmentgroup": "True",
         "bingroup": "x",
         "hovertemplate": "continent=Europe<br>Imports of goods and services (% of GDP)=%{x}<br>count=%{y}<extra></extra>",
         "legendgroup": "Europe",
         "marker": {
          "color": "#EF553B",
          "opacity": 0.7,
          "pattern": {
           "shape": ""
          }
         },
         "name": "Europe",
         "nbinsx": 20,
         "offsetgroup": "Europe",
         "orientation": "v",
         "showlegend": true,
         "type": "histogram",
         "x": [
          88.5122484875,
          34.1899954311,
          44.3353664726,
          54.7882006817,
          34.5289764917,
          37.8834640896,
          41.6507009529,
          48.3336828443,
          56.0198770682,
          60.4699234894,
          64.8101122243,
          73.6727852921,
          72.797329856,
          70.9293545706,
          56.4586949513,
          52.938247012,
          37.2840983857,
          41.7304308008,
          70.6481778799,
          44.2274001589,
          45.5475127824,
          46.26795219,
          39.0048670058,
          44.7363476681,
          46.5234495636,
          64.1024536911,
          30.1104077732,
          33.4544366297,
          38.8921703701,
          48.502240028,
          24.6770848065,
          30.4628943994,
          30.2045330402,
          39.1791364747,
          20.5079690124,
          22.3386387575,
          25.3757388229,
          28.4193105717,
          22.7863176274,
          24.2090600837,
          28.1989688995,
          36.3606196011,
          23.9437536025,
          23.0519635059,
          30.2361418116,
          35.0041044594,
          27.8478918237,
          46.9886021788,
          60.117586376800006,
          77.6183100564,
          29.731456037,
          34.9518564867,
          34.5066481223,
          42.5353946584,
          51.0894327446,
          65.17606264310001,
          73.295336366,
          72.4776748214,
          17.4871644619,
          20.4814697289,
          23.7262338729,
          27.7864496661,
          59.8844129108,
          86.6989968539,
          48.7843340291,
          54.20113381979999,
          53.959648211,
          61.4482781111,
          30.5310708615,
          32.5057564723,
          27.2520303734,
          29.8897253923,
          19.9467339483,
          27.1144798245,
          32.1662388033,
          42.0974145444,
          31.8454729567,
          35.141898248800004,
          35.2155009835,
          38.6473370483,
          36.1988323492,
          34.7505362196,
          40.8248050842,
          43.4469976538,
          29.8848078941,
          38.7253440201,
          52.66337379310001,
          69.7293093289,
          64.4734963454,
          64.7137426173,
          84.3950908526,
          48.7322747634,
          51.1695761128,
          68.8949043961,
          19.7473148836,
          25.5385108358,
          28.5057281045,
          31.6987214183,
          25.0010584659,
          33.102555836,
          35.7735159206,
          41.2817143067,
          37.6912446806,
          42.1233310838,
          42.258312305100006,
          50.2696323325,
          17.3451299105,
          30.3886058881,
          23.5827728271,
          27.4838724792,
          22.8596273413,
          25.1006811488,
          26.6895890682,
          27.4732345237
         ],
         "xaxis": "x",
         "yaxis": "y"
        },
        {
         "alignmentgroup": "True",
         "hovertemplate": "continent=Europe<br>Imports of goods and services (% of GDP)=%{x}<extra></extra>",
         "legendgroup": "Europe",
         "marker": {
          "color": "#EF553B"
         },
         "name": "Europe",
         "notched": true,
         "offsetgroup": "Europe",
         "showlegend": false,
         "type": "box",
         "x": [
          88.5122484875,
          34.1899954311,
          44.3353664726,
          54.7882006817,
          34.5289764917,
          37.8834640896,
          41.6507009529,
          48.3336828443,
          56.0198770682,
          60.4699234894,
          64.8101122243,
          73.6727852921,
          72.797329856,
          70.9293545706,
          56.4586949513,
          52.938247012,
          37.2840983857,
          41.7304308008,
          70.6481778799,
          44.2274001589,
          45.5475127824,
          46.26795219,
          39.0048670058,
          44.7363476681,
          46.5234495636,
          64.1024536911,
          30.1104077732,
          33.4544366297,
          38.8921703701,
          48.502240028,
          24.6770848065,
          30.4628943994,
          30.2045330402,
          39.1791364747,
          20.5079690124,
          22.3386387575,
          25.3757388229,
          28.4193105717,
          22.7863176274,
          24.2090600837,
          28.1989688995,
          36.3606196011,
          23.9437536025,
          23.0519635059,
          30.2361418116,
          35.0041044594,
          27.8478918237,
          46.9886021788,
          60.117586376800006,
          77.6183100564,
          29.731456037,
          34.9518564867,
          34.5066481223,
          42.5353946584,
          51.0894327446,
          65.17606264310001,
          73.295336366,
          72.4776748214,
          17.4871644619,
          20.4814697289,
          23.7262338729,
          27.7864496661,
          59.8844129108,
          86.6989968539,
          48.7843340291,
          54.20113381979999,
          53.959648211,
          61.4482781111,
          30.5310708615,
          32.5057564723,
          27.2520303734,
          29.8897253923,
          19.9467339483,
          27.1144798245,
          32.1662388033,
          42.0974145444,
          31.8454729567,
          35.141898248800004,
          35.2155009835,
          38.6473370483,
          36.1988323492,
          34.7505362196,
          40.8248050842,
          43.4469976538,
          29.8848078941,
          38.7253440201,
          52.66337379310001,
          69.7293093289,
          64.4734963454,
          64.7137426173,
          84.3950908526,
          48.7322747634,
          51.1695761128,
          68.8949043961,
          19.7473148836,
          25.5385108358,
          28.5057281045,
          31.6987214183,
          25.0010584659,
          33.102555836,
          35.7735159206,
          41.2817143067,
          37.6912446806,
          42.1233310838,
          42.258312305100006,
          50.2696323325,
          17.3451299105,
          30.3886058881,
          23.5827728271,
          27.4838724792,
          22.8596273413,
          25.1006811488,
          26.6895890682,
          27.4732345237
         ],
         "xaxis": "x2",
         "yaxis": "y2"
        }
       ],
       "layout": {
        "barmode": "relative",
        "legend": {
         "title": {
          "text": "continent"
         },
         "tracegroupgap": 0
        },
        "margin": {
         "t": 60
        },
        "template": {
         "data": {
          "bar": [
           {
            "error_x": {
             "color": "#2a3f5f"
            },
            "error_y": {
             "color": "#2a3f5f"
            },
            "marker": {
             "line": {
              "color": "#E5ECF6",
              "width": 0.5
             },
             "pattern": {
              "fillmode": "overlay",
              "size": 10,
              "solidity": 0.2
             }
            },
            "type": "bar"
           }
          ],
          "barpolar": [
           {
            "marker": {
             "line": {
              "color": "#E5ECF6",
              "width": 0.5
             },
             "pattern": {
              "fillmode": "overlay",
              "size": 10,
              "solidity": 0.2
             }
            },
            "type": "barpolar"
           }
          ],
          "carpet": [
           {
            "aaxis": {
             "endlinecolor": "#2a3f5f",
             "gridcolor": "white",
             "linecolor": "white",
             "minorgridcolor": "white",
             "startlinecolor": "#2a3f5f"
            },
            "baxis": {
             "endlinecolor": "#2a3f5f",
             "gridcolor": "white",
             "linecolor": "white",
             "minorgridcolor": "white",
             "startlinecolor": "#2a3f5f"
            },
            "type": "carpet"
           }
          ],
          "choropleth": [
           {
            "colorbar": {
             "outlinewidth": 0,
             "ticks": ""
            },
            "type": "choropleth"
           }
          ],
          "contour": [
           {
            "colorbar": {
             "outlinewidth": 0,
             "ticks": ""
            },
            "colorscale": [
             [
              0,
              "#0d0887"
             ],
             [
              0.1111111111111111,
              "#46039f"
             ],
             [
              0.2222222222222222,
              "#7201a8"
             ],
             [
              0.3333333333333333,
              "#9c179e"
             ],
             [
              0.4444444444444444,
              "#bd3786"
             ],
             [
              0.5555555555555556,
              "#d8576b"
             ],
             [
              0.6666666666666666,
              "#ed7953"
             ],
             [
              0.7777777777777778,
              "#fb9f3a"
             ],
             [
              0.8888888888888888,
              "#fdca26"
             ],
             [
              1,
              "#f0f921"
             ]
            ],
            "type": "contour"
           }
          ],
          "contourcarpet": [
           {
            "colorbar": {
             "outlinewidth": 0,
             "ticks": ""
            },
            "type": "contourcarpet"
           }
          ],
          "heatmap": [
           {
            "colorbar": {
             "outlinewidth": 0,
             "ticks": ""
            },
            "colorscale": [
             [
              0,
              "#0d0887"
             ],
             [
              0.1111111111111111,
              "#46039f"
             ],
             [
              0.2222222222222222,
              "#7201a8"
             ],
             [
              0.3333333333333333,
              "#9c179e"
             ],
             [
              0.4444444444444444,
              "#bd3786"
             ],
             [
              0.5555555555555556,
              "#d8576b"
             ],
             [
              0.6666666666666666,
              "#ed7953"
             ],
             [
              0.7777777777777778,
              "#fb9f3a"
             ],
             [
              0.8888888888888888,
              "#fdca26"
             ],
             [
              1,
              "#f0f921"
             ]
            ],
            "type": "heatmap"
           }
          ],
          "heatmapgl": [
           {
            "colorbar": {
             "outlinewidth": 0,
             "ticks": ""
            },
            "colorscale": [
             [
              0,
              "#0d0887"
             ],
             [
              0.1111111111111111,
              "#46039f"
             ],
             [
              0.2222222222222222,
              "#7201a8"
             ],
             [
              0.3333333333333333,
              "#9c179e"
             ],
             [
              0.4444444444444444,
              "#bd3786"
             ],
             [
              0.5555555555555556,
              "#d8576b"
             ],
             [
              0.6666666666666666,
              "#ed7953"
             ],
             [
              0.7777777777777778,
              "#fb9f3a"
             ],
             [
              0.8888888888888888,
              "#fdca26"
             ],
             [
              1,
              "#f0f921"
             ]
            ],
            "type": "heatmapgl"
           }
          ],
          "histogram": [
           {
            "marker": {
             "pattern": {
              "fillmode": "overlay",
              "size": 10,
              "solidity": 0.2
             }
            },
            "type": "histogram"
           }
          ],
          "histogram2d": [
           {
            "colorbar": {
             "outlinewidth": 0,
             "ticks": ""
            },
            "colorscale": [
             [
              0,
              "#0d0887"
             ],
             [
              0.1111111111111111,
              "#46039f"
             ],
             [
              0.2222222222222222,
              "#7201a8"
             ],
             [
              0.3333333333333333,
              "#9c179e"
             ],
             [
              0.4444444444444444,
              "#bd3786"
             ],
             [
              0.5555555555555556,
              "#d8576b"
             ],
             [
              0.6666666666666666,
              "#ed7953"
             ],
             [
              0.7777777777777778,
              "#fb9f3a"
             ],
             [
              0.8888888888888888,
              "#fdca26"
             ],
             [
              1,
              "#f0f921"
             ]
            ],
            "type": "histogram2d"
           }
          ],
          "histogram2dcontour": [
           {
            "colorbar": {
             "outlinewidth": 0,
             "ticks": ""
            },
            "colorscale": [
             [
              0,
              "#0d0887"
             ],
             [
              0.1111111111111111,
              "#46039f"
             ],
             [
              0.2222222222222222,
              "#7201a8"
             ],
             [
              0.3333333333333333,
              "#9c179e"
             ],
             [
              0.4444444444444444,
              "#bd3786"
             ],
             [
              0.5555555555555556,
              "#d8576b"
             ],
             [
              0.6666666666666666,
              "#ed7953"
             ],
             [
              0.7777777777777778,
              "#fb9f3a"
             ],
             [
              0.8888888888888888,
              "#fdca26"
             ],
             [
              1,
              "#f0f921"
             ]
            ],
            "type": "histogram2dcontour"
           }
          ],
          "mesh3d": [
           {
            "colorbar": {
             "outlinewidth": 0,
             "ticks": ""
            },
            "type": "mesh3d"
           }
          ],
          "parcoords": [
           {
            "line": {
             "colorbar": {
              "outlinewidth": 0,
              "ticks": ""
             }
            },
            "type": "parcoords"
           }
          ],
          "pie": [
           {
            "automargin": true,
            "type": "pie"
           }
          ],
          "scatter": [
           {
            "fillpattern": {
             "fillmode": "overlay",
             "size": 10,
             "solidity": 0.2
            },
            "type": "scatter"
           }
          ],
          "scatter3d": [
           {
            "line": {
             "colorbar": {
              "outlinewidth": 0,
              "ticks": ""
             }
            },
            "marker": {
             "colorbar": {
              "outlinewidth": 0,
              "ticks": ""
             }
            },
            "type": "scatter3d"
           }
          ],
          "scattercarpet": [
           {
            "marker": {
             "colorbar": {
              "outlinewidth": 0,
              "ticks": ""
             }
            },
            "type": "scattercarpet"
           }
          ],
          "scattergeo": [
           {
            "marker": {
             "colorbar": {
              "outlinewidth": 0,
              "ticks": ""
             }
            },
            "type": "scattergeo"
           }
          ],
          "scattergl": [
           {
            "marker": {
             "colorbar": {
              "outlinewidth": 0,
              "ticks": ""
             }
            },
            "type": "scattergl"
           }
          ],
          "scattermapbox": [
           {
            "marker": {
             "colorbar": {
              "outlinewidth": 0,
              "ticks": ""
             }
            },
            "type": "scattermapbox"
           }
          ],
          "scatterpolar": [
           {
            "marker": {
             "colorbar": {
              "outlinewidth": 0,
              "ticks": ""
             }
            },
            "type": "scatterpolar"
           }
          ],
          "scatterpolargl": [
           {
            "marker": {
             "colorbar": {
              "outlinewidth": 0,
              "ticks": ""
             }
            },
            "type": "scatterpolargl"
           }
          ],
          "scatterternary": [
           {
            "marker": {
             "colorbar": {
              "outlinewidth": 0,
              "ticks": ""
             }
            },
            "type": "scatterternary"
           }
          ],
          "surface": [
           {
            "colorbar": {
             "outlinewidth": 0,
             "ticks": ""
            },
            "colorscale": [
             [
              0,
              "#0d0887"
             ],
             [
              0.1111111111111111,
              "#46039f"
             ],
             [
              0.2222222222222222,
              "#7201a8"
             ],
             [
              0.3333333333333333,
              "#9c179e"
             ],
             [
              0.4444444444444444,
              "#bd3786"
             ],
             [
              0.5555555555555556,
              "#d8576b"
             ],
             [
              0.6666666666666666,
              "#ed7953"
             ],
             [
              0.7777777777777778,
              "#fb9f3a"
             ],
             [
              0.8888888888888888,
              "#fdca26"
             ],
             [
              1,
              "#f0f921"
             ]
            ],
            "type": "surface"
           }
          ],
          "table": [
           {
            "cells": {
             "fill": {
              "color": "#EBF0F8"
             },
             "line": {
              "color": "white"
             }
            },
            "header": {
             "fill": {
              "color": "#C8D4E3"
             },
             "line": {
              "color": "white"
             }
            },
            "type": "table"
           }
          ]
         },
         "layout": {
          "annotationdefaults": {
           "arrowcolor": "#2a3f5f",
           "arrowhead": 0,
           "arrowwidth": 1
          },
          "autotypenumbers": "strict",
          "coloraxis": {
           "colorbar": {
            "outlinewidth": 0,
            "ticks": ""
           }
          },
          "colorscale": {
           "diverging": [
            [
             0,
             "#8e0152"
            ],
            [
             0.1,
             "#c51b7d"
            ],
            [
             0.2,
             "#de77ae"
            ],
            [
             0.3,
             "#f1b6da"
            ],
            [
             0.4,
             "#fde0ef"
            ],
            [
             0.5,
             "#f7f7f7"
            ],
            [
             0.6,
             "#e6f5d0"
            ],
            [
             0.7,
             "#b8e186"
            ],
            [
             0.8,
             "#7fbc41"
            ],
            [
             0.9,
             "#4d9221"
            ],
            [
             1,
             "#276419"
            ]
           ],
           "sequential": [
            [
             0,
             "#0d0887"
            ],
            [
             0.1111111111111111,
             "#46039f"
            ],
            [
             0.2222222222222222,
             "#7201a8"
            ],
            [
             0.3333333333333333,
             "#9c179e"
            ],
            [
             0.4444444444444444,
             "#bd3786"
            ],
            [
             0.5555555555555556,
             "#d8576b"
            ],
            [
             0.6666666666666666,
             "#ed7953"
            ],
            [
             0.7777777777777778,
             "#fb9f3a"
            ],
            [
             0.8888888888888888,
             "#fdca26"
            ],
            [
             1,
             "#f0f921"
            ]
           ],
           "sequentialminus": [
            [
             0,
             "#0d0887"
            ],
            [
             0.1111111111111111,
             "#46039f"
            ],
            [
             0.2222222222222222,
             "#7201a8"
            ],
            [
             0.3333333333333333,
             "#9c179e"
            ],
            [
             0.4444444444444444,
             "#bd3786"
            ],
            [
             0.5555555555555556,
             "#d8576b"
            ],
            [
             0.6666666666666666,
             "#ed7953"
            ],
            [
             0.7777777777777778,
             "#fb9f3a"
            ],
            [
             0.8888888888888888,
             "#fdca26"
            ],
            [
             1,
             "#f0f921"
            ]
           ]
          },
          "colorway": [
           "#636efa",
           "#EF553B",
           "#00cc96",
           "#ab63fa",
           "#FFA15A",
           "#19d3f3",
           "#FF6692",
           "#B6E880",
           "#FF97FF",
           "#FECB52"
          ],
          "font": {
           "color": "#2a3f5f"
          },
          "geo": {
           "bgcolor": "white",
           "lakecolor": "white",
           "landcolor": "#E5ECF6",
           "showlakes": true,
           "showland": true,
           "subunitcolor": "white"
          },
          "hoverlabel": {
           "align": "left"
          },
          "hovermode": "closest",
          "mapbox": {
           "style": "light"
          },
          "paper_bgcolor": "white",
          "plot_bgcolor": "#E5ECF6",
          "polar": {
           "angularaxis": {
            "gridcolor": "white",
            "linecolor": "white",
            "ticks": ""
           },
           "bgcolor": "#E5ECF6",
           "radialaxis": {
            "gridcolor": "white",
            "linecolor": "white",
            "ticks": ""
           }
          },
          "scene": {
           "xaxis": {
            "backgroundcolor": "#E5ECF6",
            "gridcolor": "white",
            "gridwidth": 2,
            "linecolor": "white",
            "showbackground": true,
            "ticks": "",
            "zerolinecolor": "white"
           },
           "yaxis": {
            "backgroundcolor": "#E5ECF6",
            "gridcolor": "white",
            "gridwidth": 2,
            "linecolor": "white",
            "showbackground": true,
            "ticks": "",
            "zerolinecolor": "white"
           },
           "zaxis": {
            "backgroundcolor": "#E5ECF6",
            "gridcolor": "white",
            "gridwidth": 2,
            "linecolor": "white",
            "showbackground": true,
            "ticks": "",
            "zerolinecolor": "white"
           }
          },
          "shapedefaults": {
           "line": {
            "color": "#2a3f5f"
           }
          },
          "ternary": {
           "aaxis": {
            "gridcolor": "white",
            "linecolor": "white",
            "ticks": ""
           },
           "baxis": {
            "gridcolor": "white",
            "linecolor": "white",
            "ticks": ""
           },
           "bgcolor": "#E5ECF6",
           "caxis": {
            "gridcolor": "white",
            "linecolor": "white",
            "ticks": ""
           }
          },
          "title": {
           "x": 0.05
          },
          "xaxis": {
           "automargin": true,
           "gridcolor": "white",
           "linecolor": "white",
           "ticks": "",
           "title": {
            "standoff": 15
           },
           "zerolinecolor": "white",
           "zerolinewidth": 2
          },
          "yaxis": {
           "automargin": true,
           "gridcolor": "white",
           "linecolor": "white",
           "ticks": "",
           "title": {
            "standoff": 15
           },
           "zerolinecolor": "white",
           "zerolinewidth": 2
          }
         }
        },
        "xaxis": {
         "anchor": "y",
         "domain": [
          0,
          1
         ],
         "title": {
          "text": "Imports of goods and services (% of GDP)"
         }
        },
        "xaxis2": {
         "anchor": "y2",
         "domain": [
          0,
          1
         ],
         "matches": "x",
         "showgrid": true,
         "showticklabels": false
        },
        "yaxis": {
         "anchor": "x",
         "domain": [
          0,
          0.7326
         ],
         "title": {
          "text": "count"
         }
        },
        "yaxis2": {
         "anchor": "x2",
         "domain": [
          0.7426,
          1
         ],
         "matches": "y2",
         "showgrid": false,
         "showline": false,
         "showticklabels": false,
         "ticks": ""
        }
       }
      },
      "text/html": [
       "<div>                            <div id=\"cdd05594-86b8-4bb1-a04d-43c8f688fe07\" class=\"plotly-graph-div\" style=\"height:525px; width:100%;\"></div>            <script type=\"text/javascript\">                require([\"plotly\"], function(Plotly) {                    window.PLOTLYENV=window.PLOTLYENV || {};                                    if (document.getElementById(\"cdd05594-86b8-4bb1-a04d-43c8f688fe07\")) {                    Plotly.newPlot(                        \"cdd05594-86b8-4bb1-a04d-43c8f688fe07\",                        [{\"alignmentgroup\":\"True\",\"bingroup\":\"x\",\"hovertemplate\":\"continent=Asia<br>Imports of goods and services (% of GDP)=%{x}<br>count=%{y}<extra></extra>\",\"legendgroup\":\"Asia\",\"marker\":{\"color\":\"#636efa\",\"opacity\":0.7,\"pattern\":{\"shape\":\"\"}},\"name\":\"Asia\",\"nbinsx\":20,\"offsetgroup\":\"Asia\",\"orientation\":\"v\",\"showlegend\":true,\"x\":[65.2877040065,58.3500468255,96.7420454545,69.5052959617,58.389862877,58.105521340200006,12.3473285921,15.8051428327,16.557411789,22.9470478067,45.3177088819,64.2708081103,72.94217881899999,14.4875132406,15.0398612938,20.1026620472,26.7164353002,9.42488847372,11.723082627,14.9815485884,25.1519079066,27.1201247208,28.1346335393,26.3918424154,25.3935314931,1.3387380938299998,42.3411609934,49.1919962299,28.1930139321,44.3365198368,32.587292588400004,35.6972911543,41.0701019971,7.643451906869999,9.49188652841,9.66739032943,15.6005719141,81.4065893831,71.5829118173,66.632176737,91.7584082453,54.2177987777,39.5915918101,36.6091466782,28.3171173383,75.8579855593,47.5546391753,34.9438902743,63.0607287449,74.6278561995,92.3753082915,91.0509065478,86.2975320889,36.3626536496,47.32510391939999,67.7906371355,58.2659779932,0.225449347209,0.0795059581624,25.7356870079,37.7076998214,28.4935889762,31.7236101436,35.5479437749,38.5910173249,27.9151441594,39.9893707746,20.5285578209,20.7703128758,15.3140127214,19.7758151542,34.0281852291,59.29383539999999,55.6880751307,43.3586106398,36.1921329627,26.1824690647,23.7762475126,34.9258769575,149.51131554,155.486859844,168.31371458,183.915527311,41.0333824771,43.5994352288,41.4218015848,39.4915119731,40.9821700246,46.8148412659,54.3239904201,61.0009114941,38.8312898757,51.2417759691,57.249342474,84.0875093943,73.04111867479999,62.8156816898,77.8106722688],\"xaxis\":\"x\",\"yaxis\":\"y\",\"type\":\"histogram\"},{\"alignmentgroup\":\"True\",\"hovertemplate\":\"continent=Asia<br>Imports of goods and services (% of GDP)=%{x}<extra></extra>\",\"legendgroup\":\"Asia\",\"marker\":{\"color\":\"#636efa\"},\"name\":\"Asia\",\"notched\":true,\"offsetgroup\":\"Asia\",\"showlegend\":false,\"x\":[65.2877040065,58.3500468255,96.7420454545,69.5052959617,58.389862877,58.105521340200006,12.3473285921,15.8051428327,16.557411789,22.9470478067,45.3177088819,64.2708081103,72.94217881899999,14.4875132406,15.0398612938,20.1026620472,26.7164353002,9.42488847372,11.723082627,14.9815485884,25.1519079066,27.1201247208,28.1346335393,26.3918424154,25.3935314931,1.3387380938299998,42.3411609934,49.1919962299,28.1930139321,44.3365198368,32.587292588400004,35.6972911543,41.0701019971,7.643451906869999,9.49188652841,9.66739032943,15.6005719141,81.4065893831,71.5829118173,66.632176737,91.7584082453,54.2177987777,39.5915918101,36.6091466782,28.3171173383,75.8579855593,47.5546391753,34.9438902743,63.0607287449,74.6278561995,92.3753082915,91.0509065478,86.2975320889,36.3626536496,47.32510391939999,67.7906371355,58.2659779932,0.225449347209,0.0795059581624,25.7356870079,37.7076998214,28.4935889762,31.7236101436,35.5479437749,38.5910173249,27.9151441594,39.9893707746,20.5285578209,20.7703128758,15.3140127214,19.7758151542,34.0281852291,59.29383539999999,55.6880751307,43.3586106398,36.1921329627,26.1824690647,23.7762475126,34.9258769575,149.51131554,155.486859844,168.31371458,183.915527311,41.0333824771,43.5994352288,41.4218015848,39.4915119731,40.9821700246,46.8148412659,54.3239904201,61.0009114941,38.8312898757,51.2417759691,57.249342474,84.0875093943,73.04111867479999,62.8156816898,77.8106722688],\"xaxis\":\"x2\",\"yaxis\":\"y2\",\"type\":\"box\"},{\"alignmentgroup\":\"True\",\"bingroup\":\"x\",\"hovertemplate\":\"continent=Europe<br>Imports of goods and services (% of GDP)=%{x}<br>count=%{y}<extra></extra>\",\"legendgroup\":\"Europe\",\"marker\":{\"color\":\"#EF553B\",\"opacity\":0.7,\"pattern\":{\"shape\":\"\"}},\"name\":\"Europe\",\"nbinsx\":20,\"offsetgroup\":\"Europe\",\"orientation\":\"v\",\"showlegend\":true,\"x\":[88.5122484875,34.1899954311,44.3353664726,54.7882006817,34.5289764917,37.8834640896,41.6507009529,48.3336828443,56.0198770682,60.4699234894,64.8101122243,73.6727852921,72.797329856,70.9293545706,56.4586949513,52.938247012,37.2840983857,41.7304308008,70.6481778799,44.2274001589,45.5475127824,46.26795219,39.0048670058,44.7363476681,46.5234495636,64.1024536911,30.1104077732,33.4544366297,38.8921703701,48.502240028,24.6770848065,30.4628943994,30.2045330402,39.1791364747,20.5079690124,22.3386387575,25.3757388229,28.4193105717,22.7863176274,24.2090600837,28.1989688995,36.3606196011,23.9437536025,23.0519635059,30.2361418116,35.0041044594,27.8478918237,46.9886021788,60.117586376800006,77.6183100564,29.731456037,34.9518564867,34.5066481223,42.5353946584,51.0894327446,65.17606264310001,73.295336366,72.4776748214,17.4871644619,20.4814697289,23.7262338729,27.7864496661,59.8844129108,86.6989968539,48.7843340291,54.20113381979999,53.959648211,61.4482781111,30.5310708615,32.5057564723,27.2520303734,29.8897253923,19.9467339483,27.1144798245,32.1662388033,42.0974145444,31.8454729567,35.141898248800004,35.2155009835,38.6473370483,36.1988323492,34.7505362196,40.8248050842,43.4469976538,29.8848078941,38.7253440201,52.66337379310001,69.7293093289,64.4734963454,64.7137426173,84.3950908526,48.7322747634,51.1695761128,68.8949043961,19.7473148836,25.5385108358,28.5057281045,31.6987214183,25.0010584659,33.102555836,35.7735159206,41.2817143067,37.6912446806,42.1233310838,42.258312305100006,50.2696323325,17.3451299105,30.3886058881,23.5827728271,27.4838724792,22.8596273413,25.1006811488,26.6895890682,27.4732345237],\"xaxis\":\"x\",\"yaxis\":\"y\",\"type\":\"histogram\"},{\"alignmentgroup\":\"True\",\"hovertemplate\":\"continent=Europe<br>Imports of goods and services (% of GDP)=%{x}<extra></extra>\",\"legendgroup\":\"Europe\",\"marker\":{\"color\":\"#EF553B\"},\"name\":\"Europe\",\"notched\":true,\"offsetgroup\":\"Europe\",\"showlegend\":false,\"x\":[88.5122484875,34.1899954311,44.3353664726,54.7882006817,34.5289764917,37.8834640896,41.6507009529,48.3336828443,56.0198770682,60.4699234894,64.8101122243,73.6727852921,72.797329856,70.9293545706,56.4586949513,52.938247012,37.2840983857,41.7304308008,70.6481778799,44.2274001589,45.5475127824,46.26795219,39.0048670058,44.7363476681,46.5234495636,64.1024536911,30.1104077732,33.4544366297,38.8921703701,48.502240028,24.6770848065,30.4628943994,30.2045330402,39.1791364747,20.5079690124,22.3386387575,25.3757388229,28.4193105717,22.7863176274,24.2090600837,28.1989688995,36.3606196011,23.9437536025,23.0519635059,30.2361418116,35.0041044594,27.8478918237,46.9886021788,60.117586376800006,77.6183100564,29.731456037,34.9518564867,34.5066481223,42.5353946584,51.0894327446,65.17606264310001,73.295336366,72.4776748214,17.4871644619,20.4814697289,23.7262338729,27.7864496661,59.8844129108,86.6989968539,48.7843340291,54.20113381979999,53.959648211,61.4482781111,30.5310708615,32.5057564723,27.2520303734,29.8897253923,19.9467339483,27.1144798245,32.1662388033,42.0974145444,31.8454729567,35.141898248800004,35.2155009835,38.6473370483,36.1988323492,34.7505362196,40.8248050842,43.4469976538,29.8848078941,38.7253440201,52.66337379310001,69.7293093289,64.4734963454,64.7137426173,84.3950908526,48.7322747634,51.1695761128,68.8949043961,19.7473148836,25.5385108358,28.5057281045,31.6987214183,25.0010584659,33.102555836,35.7735159206,41.2817143067,37.6912446806,42.1233310838,42.258312305100006,50.2696323325,17.3451299105,30.3886058881,23.5827728271,27.4838724792,22.8596273413,25.1006811488,26.6895890682,27.4732345237],\"xaxis\":\"x2\",\"yaxis\":\"y2\",\"type\":\"box\"}],                        {\"template\":{\"data\":{\"histogram2dcontour\":[{\"type\":\"histogram2dcontour\",\"colorbar\":{\"outlinewidth\":0,\"ticks\":\"\"},\"colorscale\":[[0.0,\"#0d0887\"],[0.1111111111111111,\"#46039f\"],[0.2222222222222222,\"#7201a8\"],[0.3333333333333333,\"#9c179e\"],[0.4444444444444444,\"#bd3786\"],[0.5555555555555556,\"#d8576b\"],[0.6666666666666666,\"#ed7953\"],[0.7777777777777778,\"#fb9f3a\"],[0.8888888888888888,\"#fdca26\"],[1.0,\"#f0f921\"]]}],\"choropleth\":[{\"type\":\"choropleth\",\"colorbar\":{\"outlinewidth\":0,\"ticks\":\"\"}}],\"histogram2d\":[{\"type\":\"histogram2d\",\"colorbar\":{\"outlinewidth\":0,\"ticks\":\"\"},\"colorscale\":[[0.0,\"#0d0887\"],[0.1111111111111111,\"#46039f\"],[0.2222222222222222,\"#7201a8\"],[0.3333333333333333,\"#9c179e\"],[0.4444444444444444,\"#bd3786\"],[0.5555555555555556,\"#d8576b\"],[0.6666666666666666,\"#ed7953\"],[0.7777777777777778,\"#fb9f3a\"],[0.8888888888888888,\"#fdca26\"],[1.0,\"#f0f921\"]]}],\"heatmap\":[{\"type\":\"heatmap\",\"colorbar\":{\"outlinewidth\":0,\"ticks\":\"\"},\"colorscale\":[[0.0,\"#0d0887\"],[0.1111111111111111,\"#46039f\"],[0.2222222222222222,\"#7201a8\"],[0.3333333333333333,\"#9c179e\"],[0.4444444444444444,\"#bd3786\"],[0.5555555555555556,\"#d8576b\"],[0.6666666666666666,\"#ed7953\"],[0.7777777777777778,\"#fb9f3a\"],[0.8888888888888888,\"#fdca26\"],[1.0,\"#f0f921\"]]}],\"heatmapgl\":[{\"type\":\"heatmapgl\",\"colorbar\":{\"outlinewidth\":0,\"ticks\":\"\"},\"colorscale\":[[0.0,\"#0d0887\"],[0.1111111111111111,\"#46039f\"],[0.2222222222222222,\"#7201a8\"],[0.3333333333333333,\"#9c179e\"],[0.4444444444444444,\"#bd3786\"],[0.5555555555555556,\"#d8576b\"],[0.6666666666666666,\"#ed7953\"],[0.7777777777777778,\"#fb9f3a\"],[0.8888888888888888,\"#fdca26\"],[1.0,\"#f0f921\"]]}],\"contourcarpet\":[{\"type\":\"contourcarpet\",\"colorbar\":{\"outlinewidth\":0,\"ticks\":\"\"}}],\"contour\":[{\"type\":\"contour\",\"colorbar\":{\"outlinewidth\":0,\"ticks\":\"\"},\"colorscale\":[[0.0,\"#0d0887\"],[0.1111111111111111,\"#46039f\"],[0.2222222222222222,\"#7201a8\"],[0.3333333333333333,\"#9c179e\"],[0.4444444444444444,\"#bd3786\"],[0.5555555555555556,\"#d8576b\"],[0.6666666666666666,\"#ed7953\"],[0.7777777777777778,\"#fb9f3a\"],[0.8888888888888888,\"#fdca26\"],[1.0,\"#f0f921\"]]}],\"surface\":[{\"type\":\"surface\",\"colorbar\":{\"outlinewidth\":0,\"ticks\":\"\"},\"colorscale\":[[0.0,\"#0d0887\"],[0.1111111111111111,\"#46039f\"],[0.2222222222222222,\"#7201a8\"],[0.3333333333333333,\"#9c179e\"],[0.4444444444444444,\"#bd3786\"],[0.5555555555555556,\"#d8576b\"],[0.6666666666666666,\"#ed7953\"],[0.7777777777777778,\"#fb9f3a\"],[0.8888888888888888,\"#fdca26\"],[1.0,\"#f0f921\"]]}],\"mesh3d\":[{\"type\":\"mesh3d\",\"colorbar\":{\"outlinewidth\":0,\"ticks\":\"\"}}],\"scatter\":[{\"fillpattern\":{\"fillmode\":\"overlay\",\"size\":10,\"solidity\":0.2},\"type\":\"scatter\"}],\"parcoords\":[{\"type\":\"parcoords\",\"line\":{\"colorbar\":{\"outlinewidth\":0,\"ticks\":\"\"}}}],\"scatterpolargl\":[{\"type\":\"scatterpolargl\",\"marker\":{\"colorbar\":{\"outlinewidth\":0,\"ticks\":\"\"}}}],\"bar\":[{\"error_x\":{\"color\":\"#2a3f5f\"},\"error_y\":{\"color\":\"#2a3f5f\"},\"marker\":{\"line\":{\"color\":\"#E5ECF6\",\"width\":0.5},\"pattern\":{\"fillmode\":\"overlay\",\"size\":10,\"solidity\":0.2}},\"type\":\"bar\"}],\"scattergeo\":[{\"type\":\"scattergeo\",\"marker\":{\"colorbar\":{\"outlinewidth\":0,\"ticks\":\"\"}}}],\"scatterpolar\":[{\"type\":\"scatterpolar\",\"marker\":{\"colorbar\":{\"outlinewidth\":0,\"ticks\":\"\"}}}],\"histogram\":[{\"marker\":{\"pattern\":{\"fillmode\":\"overlay\",\"size\":10,\"solidity\":0.2}},\"type\":\"histogram\"}],\"scattergl\":[{\"type\":\"scattergl\",\"marker\":{\"colorbar\":{\"outlinewidth\":0,\"ticks\":\"\"}}}],\"scatter3d\":[{\"type\":\"scatter3d\",\"line\":{\"colorbar\":{\"outlinewidth\":0,\"ticks\":\"\"}},\"marker\":{\"colorbar\":{\"outlinewidth\":0,\"ticks\":\"\"}}}],\"scattermapbox\":[{\"type\":\"scattermapbox\",\"marker\":{\"colorbar\":{\"outlinewidth\":0,\"ticks\":\"\"}}}],\"scatterternary\":[{\"type\":\"scatterternary\",\"marker\":{\"colorbar\":{\"outlinewidth\":0,\"ticks\":\"\"}}}],\"scattercarpet\":[{\"type\":\"scattercarpet\",\"marker\":{\"colorbar\":{\"outlinewidth\":0,\"ticks\":\"\"}}}],\"carpet\":[{\"aaxis\":{\"endlinecolor\":\"#2a3f5f\",\"gridcolor\":\"white\",\"linecolor\":\"white\",\"minorgridcolor\":\"white\",\"startlinecolor\":\"#2a3f5f\"},\"baxis\":{\"endlinecolor\":\"#2a3f5f\",\"gridcolor\":\"white\",\"linecolor\":\"white\",\"minorgridcolor\":\"white\",\"startlinecolor\":\"#2a3f5f\"},\"type\":\"carpet\"}],\"table\":[{\"cells\":{\"fill\":{\"color\":\"#EBF0F8\"},\"line\":{\"color\":\"white\"}},\"header\":{\"fill\":{\"color\":\"#C8D4E3\"},\"line\":{\"color\":\"white\"}},\"type\":\"table\"}],\"barpolar\":[{\"marker\":{\"line\":{\"color\":\"#E5ECF6\",\"width\":0.5},\"pattern\":{\"fillmode\":\"overlay\",\"size\":10,\"solidity\":0.2}},\"type\":\"barpolar\"}],\"pie\":[{\"automargin\":true,\"type\":\"pie\"}]},\"layout\":{\"autotypenumbers\":\"strict\",\"colorway\":[\"#636efa\",\"#EF553B\",\"#00cc96\",\"#ab63fa\",\"#FFA15A\",\"#19d3f3\",\"#FF6692\",\"#B6E880\",\"#FF97FF\",\"#FECB52\"],\"font\":{\"color\":\"#2a3f5f\"},\"hovermode\":\"closest\",\"hoverlabel\":{\"align\":\"left\"},\"paper_bgcolor\":\"white\",\"plot_bgcolor\":\"#E5ECF6\",\"polar\":{\"bgcolor\":\"#E5ECF6\",\"angularaxis\":{\"gridcolor\":\"white\",\"linecolor\":\"white\",\"ticks\":\"\"},\"radialaxis\":{\"gridcolor\":\"white\",\"linecolor\":\"white\",\"ticks\":\"\"}},\"ternary\":{\"bgcolor\":\"#E5ECF6\",\"aaxis\":{\"gridcolor\":\"white\",\"linecolor\":\"white\",\"ticks\":\"\"},\"baxis\":{\"gridcolor\":\"white\",\"linecolor\":\"white\",\"ticks\":\"\"},\"caxis\":{\"gridcolor\":\"white\",\"linecolor\":\"white\",\"ticks\":\"\"}},\"coloraxis\":{\"colorbar\":{\"outlinewidth\":0,\"ticks\":\"\"}},\"colorscale\":{\"sequential\":[[0.0,\"#0d0887\"],[0.1111111111111111,\"#46039f\"],[0.2222222222222222,\"#7201a8\"],[0.3333333333333333,\"#9c179e\"],[0.4444444444444444,\"#bd3786\"],[0.5555555555555556,\"#d8576b\"],[0.6666666666666666,\"#ed7953\"],[0.7777777777777778,\"#fb9f3a\"],[0.8888888888888888,\"#fdca26\"],[1.0,\"#f0f921\"]],\"sequentialminus\":[[0.0,\"#0d0887\"],[0.1111111111111111,\"#46039f\"],[0.2222222222222222,\"#7201a8\"],[0.3333333333333333,\"#9c179e\"],[0.4444444444444444,\"#bd3786\"],[0.5555555555555556,\"#d8576b\"],[0.6666666666666666,\"#ed7953\"],[0.7777777777777778,\"#fb9f3a\"],[0.8888888888888888,\"#fdca26\"],[1.0,\"#f0f921\"]],\"diverging\":[[0,\"#8e0152\"],[0.1,\"#c51b7d\"],[0.2,\"#de77ae\"],[0.3,\"#f1b6da\"],[0.4,\"#fde0ef\"],[0.5,\"#f7f7f7\"],[0.6,\"#e6f5d0\"],[0.7,\"#b8e186\"],[0.8,\"#7fbc41\"],[0.9,\"#4d9221\"],[1,\"#276419\"]]},\"xaxis\":{\"gridcolor\":\"white\",\"linecolor\":\"white\",\"ticks\":\"\",\"title\":{\"standoff\":15},\"zerolinecolor\":\"white\",\"automargin\":true,\"zerolinewidth\":2},\"yaxis\":{\"gridcolor\":\"white\",\"linecolor\":\"white\",\"ticks\":\"\",\"title\":{\"standoff\":15},\"zerolinecolor\":\"white\",\"automargin\":true,\"zerolinewidth\":2},\"scene\":{\"xaxis\":{\"backgroundcolor\":\"#E5ECF6\",\"gridcolor\":\"white\",\"linecolor\":\"white\",\"showbackground\":true,\"ticks\":\"\",\"zerolinecolor\":\"white\",\"gridwidth\":2},\"yaxis\":{\"backgroundcolor\":\"#E5ECF6\",\"gridcolor\":\"white\",\"linecolor\":\"white\",\"showbackground\":true,\"ticks\":\"\",\"zerolinecolor\":\"white\",\"gridwidth\":2},\"zaxis\":{\"backgroundcolor\":\"#E5ECF6\",\"gridcolor\":\"white\",\"linecolor\":\"white\",\"showbackground\":true,\"ticks\":\"\",\"zerolinecolor\":\"white\",\"gridwidth\":2}},\"shapedefaults\":{\"line\":{\"color\":\"#2a3f5f\"}},\"annotationdefaults\":{\"arrowcolor\":\"#2a3f5f\",\"arrowhead\":0,\"arrowwidth\":1},\"geo\":{\"bgcolor\":\"white\",\"landcolor\":\"#E5ECF6\",\"subunitcolor\":\"white\",\"showland\":true,\"showlakes\":true,\"lakecolor\":\"white\"},\"title\":{\"x\":0.05},\"mapbox\":{\"style\":\"light\"}}},\"xaxis\":{\"anchor\":\"y\",\"domain\":[0.0,1.0],\"title\":{\"text\":\"Imports of goods and services (% of GDP)\"}},\"yaxis\":{\"anchor\":\"x\",\"domain\":[0.0,0.7326],\"title\":{\"text\":\"count\"}},\"xaxis2\":{\"anchor\":\"y2\",\"domain\":[0.0,1.0],\"matches\":\"x\",\"showticklabels\":false,\"showgrid\":true},\"yaxis2\":{\"anchor\":\"x2\",\"domain\":[0.7426,1.0],\"matches\":\"y2\",\"showticklabels\":false,\"showline\":false,\"ticks\":\"\",\"showgrid\":false},\"legend\":{\"title\":{\"text\":\"continent\"},\"tracegroupgap\":0},\"margin\":{\"t\":60},\"barmode\":\"relative\"},                        {\"responsive\": true}                    ).then(function(){\n",
       "                            \n",
       "var gd = document.getElementById('cdd05594-86b8-4bb1-a04d-43c8f688fe07');\n",
       "var x = new MutationObserver(function (mutations, observer) {{\n",
       "        var display = window.getComputedStyle(gd).display;\n",
       "        if (!display || display === 'none') {{\n",
       "            console.log([gd, 'removed!']);\n",
       "            Plotly.purge(gd);\n",
       "            observer.disconnect();\n",
       "        }}\n",
       "}});\n",
       "\n",
       "// Listen for the removal of the full notebook cells\n",
       "var notebookContainer = gd.closest('#notebook-container');\n",
       "if (notebookContainer) {{\n",
       "    x.observe(notebookContainer, {childList: true});\n",
       "}}\n",
       "\n",
       "// Listen for the clearing of the current output cell\n",
       "var outputEl = gd.closest('.output');\n",
       "if (outputEl) {{\n",
       "    x.observe(outputEl, {childList: true});\n",
       "}}\n",
       "\n",
       "                        })                };                });            </script>        </div>"
      ]
     },
     "metadata": {},
     "output_type": "display_data"
    }
   ],
   "source": [
    "# Create a dataframe with the imports data for Europe and Asia\n",
    "df_imports = df_after1990[df_after1990['continent'].isin(['Europe', 'Asia'])]\n",
    "\n",
    "# Create a histogram of the imports data by continent\n",
    "fig = px.histogram(df_imports, x='Imports of goods and services (% of GDP)', \n",
    "                   color='continent', marginal='box',\n",
    "                   nbins=20, opacity=0.7)\n",
    "\n",
    "# Show the plot\n",
    "fig.show()"
   ]
  },
  {
   "cell_type": "markdown",
   "id": "b27cc29a",
   "metadata": {},
   "source": [
    "##### Explaining the code:\n",
    "First, we filter the DataFrame 'df' to only include data for the years after 1990. We are then dropping any rows that contain null values in the column 'Imports of goods and services (% of GDP)'. The resulting DataFrame is assigned to 'df_after1990'. We hen further filter the 'df_after1990' DataFrame to only include data for imports of goods and services for Europe and Asia. We create two DataFrames 'df_europe' and 'df_asia' for each respective continent. We then calculate the t-test statistic and the corresponding p-value using the ttest_ind() function from the statistics module of the SciPy library. We pass in our continent dataframes, and can now analyze the resulting t-test statistic and p-value. We visualize our data with a histogram, to make sure our results make sense. "
   ]
  },
  {
   "cell_type": "markdown",
   "id": "428045ac",
   "metadata": {},
   "source": [
    "##### Results:\n",
    "We can conclude that there is no significant difference between the imports of goods and services in Europe and Asia, as our p-value is greater than our chosen significance level. Our p-value is greater than 0.05, so we can't be confident that our t-statistic was not a random occurence. "
   ]
  },
  {
   "cell_type": "markdown",
   "id": "3aa7d6c6",
   "metadata": {},
   "source": [
    "### Question 3\n",
    "#### What is the country (or countries) that has the highest 'Population density (people per sq. km of land area)' across all years? (i.e., which country has the highest average ranking in this category across each time point in the dataset?)"
   ]
  },
  {
   "cell_type": "code",
   "execution_count": 74,
   "id": "2a1ac751",
   "metadata": {},
   "outputs": [
    {
     "name": "stdout",
     "output_type": "stream",
     "text": [
      "The country (or countries) with the highest mean ranking based on population density is/are ['Macao SAR, China', 'Monaco'] with a ranking of 1.5 out of 263 available countries.\n"
     ]
    }
   ],
   "source": [
    "df.dropna(subset=['Population density (people per sq. km of land area)'])\n",
    "\n",
    "df[\"pop_density_rank\"] = df.groupby(\"Year\")[\"Population density (people per sq. km of land area)\"].rank(ascending=False)\n",
    "\n",
    "# Calculate the mean ranking across all years for each country\n",
    "avg_rank = df.groupby(\"Country Name\")[\"pop_density_rank\"].mean()\n",
    "\n",
    "# Find the country or countries with the highest mean ranking\n",
    "max_rank = avg_rank[avg_rank == avg_rank.min()]\n",
    "\n",
    "print(f'The country (or countries) with the highest mean ranking based on population density is/are {list(max_rank.index)} with a ranking of {avg_rank.min()} out of {len(avg_rank)} available countries.')"
   ]
  },
  {
   "cell_type": "code",
   "execution_count": 75,
   "id": "c2be240a",
   "metadata": {},
   "outputs": [
    {
     "data": {
      "application/vnd.plotly.v1+json": {
       "config": {
        "plotlyServerURL": "https://plot.ly"
       },
       "data": [
        {
         "alignmentgroup": "True",
         "hovertemplate": "Mean population density=%{x}<br>Country Name=%{y}<extra></extra>",
         "legendgroup": "",
         "marker": {
          "color": "#636efa",
          "pattern": {
           "shape": ""
          }
         },
         "name": "",
         "offsetgroup": "",
         "orientation": "h",
         "showlegend": false,
         "textposition": "auto",
         "type": "bar",
         "x": [
          14732.03521055,
          14089.9,
          5153.05690264,
          4361.499928215,
          2622.25,
          1132.78,
          1083.8609375,
          1059.235294116,
          733.2588530379,
          706.2242105263,
          662.4446666662,
          648.6187033268,
          592.473488372,
          490.80182266009996,
          475.08214285725,
          426.219893365,
          407.46175675710003,
          405.21999999999997,
          393.09111111109996,
          380.9133333333,
          368.34889515220004,
          346.0780217965,
          321.9389639638,
          318.4852895569,
          317.98161764703,
          285.24444444425,
          284.7044117649,
          278.3433333332,
          273.2197067447,
          267.0402397425,
          257.0130769232,
          255.3705714286,
          246.9111784405,
          237.4084353466,
          236.58403120450004,
          235.6793890794,
          227.5982869898,
          226.7361973217,
          218.62674463950003,
          216.4243560369,
          216.4243560369,
          216.01611111100001,
          210.88032786879998,
          207.52356746750002,
          206.30884579879998,
          204.2903815153,
          201.887,
          198.44307242989998,
          189.1948593198,
          187.21414798809002,
          185.2962796561,
          178.7969111965,
          167.91875,
          166.58450679039998,
          156.4245454547,
          155.92047252729998,
          153.42552861046,
          150.70749999999998,
          143.80826086959001,
          143.52635253061,
          133.78238666938,
          131.1191333807,
          130.79239130425,
          125.43763888893,
          124.69420558329,
          121.51875428111,
          120.52849207,
          117.29569262397999,
          116.65395494286,
          115.73561403509,
          115.19482438499999,
          114.75818197769999,
          110.37434286356999,
          109.87874999994001,
          109.83743660575001,
          105.92779873596001,
          103.62257380463,
          103.13617159206999,
          102.52506146818,
          99.39875000004,
          98.3695744681,
          98.28066666667,
          97.55121356846,
          97.51028832112,
          96.94546625381,
          94.57015314511,
          93.95799999999,
          93.26217974183001,
          93.18795581588999,
          93.03799708871,
          92.16160304357001,
          91.17494442387999,
          90.69967920588,
          89.61089485913001,
          83.89033980319,
          83.47361765378,
          83.11022061947999,
          82.7260794045,
          82.49209876548,
          82.38019480524,
          81.31570158111,
          81.00948501078,
          80.15278735972001,
          79.38541325643,
          79.01574385823334,
          78.85138655211999,
          78.62989455016,
          76.9170283701,
          76.12905430568,
          76.05916932014,
          76.01848959541,
          75.55543869742,
          73.81125366643,
          67.8038111638,
          63.25990839754,
          62.77919654347001,
          60.58667119399,
          59.21648677155,
          57.0477546227,
          55.319823321550004,
          55.258641831160006,
          54.93205444573,
          53.445382897260004,
          50.99924848059,
          50.90490822569,
          50.69757632019,
          50.29307156335,
          49.85074665171,
          48.39891728314,
          47.96882654475,
          47.215039525680005,
          47.04875966512,
          47.02371584699,
          46.87166709577,
          46.28759670894,
          45.098512058189996,
          44.14703064887,
          43.50953611279,
          42.85698292221,
          42.70333828996,
          42.66380232559,
          42.61053831146,
          42.528558298069996,
          41.112734275600005,
          40.94449070879,
          40.059782608700004,
          39.44389325859,
          39.156453659840004,
          38.71455238278,
          37.806742574266664,
          37.74286834287,
          37.444051946870005,
          37.4159642515,
          36.530283410059994,
          36.27963875204,
          35.8594935854,
          35.413531294440006,
          34.70042044426,
          34.35743762165,
          34.340120585706,
          33.27810568532,
          33.22330251573,
          32.55638182338,
          31.266610472870003,
          30.91755014328,
          30.827364035099997,
          30.7847498208,
          30.52207079939,
          30.19284234597,
          29.692427059030003,
          29.508414135920003,
          29.27148908108,
          28.688439917479997,
          27.79325624155,
          27.422344116430004,
          27.309949704780003,
          26.397429442319996,
          26.28218874635,
          25.7280629448,
          24.747361631129998,
          24.286304722559997,
          23.572764913700002,
          23.49709377843,
          23.14533466533,
          23.10399858457,
          22.98766072178,
          22.669051699369998,
          22.613589896759997,
          22.582344578,
          21.7260755814,
          21.61730988503,
          21.563159090922,
          20.49851464638,
          20.31115745568,
          20.104730570829002,
          20.075988223640003,
          19.99326542762,
          19.96264687287,
          19.96264687287,
          19.96023468272,
          19.894262068498,
          19.50300477845,
          19.358278342478002,
          19.025970664367,
          18.724988478846,
          17.24219868256,
          17.215263398460003,
          17.17792162002,
          16.897412327738998,
          16.890077123053,
          16.40243486495,
          16.276325628111,
          16.128914794453003,
          16.05917560595,
          15.676245017069999,
          15.172085234365,
          14.66196969631,
          14.612504073939999,
          14.572384320149002,
          13.96349852909,
          13.360474153298,
          12.895263157896,
          12.588204018093,
          11.400629166727,
          11.091878217851,
          11.034388843317,
          10.276104821157,
          10.079113969287999,
          10.045593392264,
          9.806754597181,
          9.556267304309,
          9.485763097573,
          9.201067746725,
          8.999919341981,
          8.68876914661,
          8.497158503734,
          8.48404588392,
          8.466781743796,
          7.788623410782,
          7.784174062923,
          6.971664716024999,
          6.879977872297999,
          6.394165153737999,
          6.330490489333,
          6.047828846612,
          5.852884242591,
          5.284717376006,
          4.8556284329579995,
          4.63582725323,
          4.349437863173,
          3.667475514118,
          3.445423991928,
          2.8517520297449996,
          2.57033974359,
          2.4170154613459998,
          2.1179953283254003,
          2.1108635505451003,
          2.0546307746370003,
          1.8342923256044,
          1.5483575653784,
          1.1927409305091998,
          0.13939981988689998,
          null
         ],
         "xaxis": "x",
         "y": [
          "Macao SAR, China",
          "Monaco",
          "Hong Kong SAR, China",
          "Singapore",
          "Gibraltar",
          "Bermuda",
          "Malta",
          "Sint Maarten (Dutch part)",
          "Bangladesh",
          "Channel Islands",
          "Maldives",
          "Bahrain",
          "Barbados",
          "Mauritius",
          "West Bank and Gaza",
          "Netherlands",
          "Korea, Rep.",
          "Nauru",
          "Aruba",
          "San Marino",
          "Puerto Rico",
          "Belgium",
          "Curacao",
          "Japan",
          "St. Martin (French part)",
          "Marshall Islands",
          "Grenada",
          "Tuvalu",
          "Lebanon",
          "India",
          "St. Vincent and the Grenadines",
          "Virgin Islands",
          "Sri Lanka",
          "Rwanda",
          "Haiti",
          "United Kingdom",
          "El Salvador",
          "Germany",
          "Trinidad and Tobago",
          "South Asia (IDA & IBRD)",
          "South Asia",
          "Guam",
          "St. Lucia",
          "Israel",
          "Jamaica",
          "Comoros",
          "American Samoa",
          "Burundi",
          "Italy",
          "Philippines",
          "Vietnam",
          "Luxembourg",
          "Liechtenstein",
          "Switzerland",
          "Antigua and Barbuda",
          "St. Kitts and Nevis",
          "Korea, Dem. People�s Rep.",
          "Micronesia, Fed. Sts.",
          "Seychelles",
          "Kosovo",
          "Dominican Republic",
          "Czech Republic",
          "Northern Mariana Islands",
          "Tonga",
          "Pakistan",
          "Nepal",
          "Denmark",
          "Moldova",
          "Poland",
          "Isle of Man",
          "Hungary",
          "Euro area",
          "European Union",
          "Sao Tome and Principe",
          "China",
          "Portugal",
          "Slovak Republic",
          "France",
          "Armenia",
          "Cayman Islands",
          "Andorra",
          "British Virgin Islands",
          "Thailand",
          "Albania",
          "Nigeria",
          "Central Europe and the Baltics",
          "Dominica",
          "Slovenia",
          "Austria",
          "Romania",
          "Cuba",
          "East Asia & Pacific (excluding high income)",
          "East Asia & Pacific (IDA & IBRD countries)",
          "Indonesia",
          "Ukraine",
          "Serbia",
          "Malawi",
          "Cabo Verde",
          "Kiribati",
          "Cyprus",
          "Gambia, The",
          "Uganda",
          "Croatia",
          "Lower middle income",
          "Kuwait",
          "Azerbaijan",
          "Guatemala",
          "Bosnia and Herzegovina",
          "Greece",
          "Georgia",
          "Bulgaria",
          "Spain",
          "Macedonia, FYR",
          "East Asia & Pacific",
          "Turkey",
          "Togo",
          "Syrian Arab Republic",
          "Ghana",
          "Myanmar",
          "Samoa",
          "Early-demographic dividend",
          "Costa Rica",
          "Lithuania",
          "Egypt, Arab Rep.",
          "Cambodia",
          "Malaysia",
          "Ireland",
          "Morocco",
          "Timor-Leste",
          "Sierra Leone",
          "Lesotho",
          "Belarus",
          "French Polynesia",
          "Tunisia",
          "IDA blend",
          "IBRD only",
          "Middle income",
          "Ethiopia",
          "Brunei Darussalam",
          "Montenegro",
          "Swaziland",
          "Benin",
          "Uzbekistan",
          "Low & middle income",
          "IDA & IBRD total",
          "Palau",
          "Mexico",
          "Honduras",
          "Latvia",
          "Eritrea",
          "Late-demographic dividend",
          "Iraq",
          "World",
          "Kenya",
          "Fiji",
          "Senegal",
          "Guinea-Bissau",
          "Jordan",
          "Ecuador",
          "Qatar",
          "Estonia",
          "Cote d'Ivoire",
          "Tajikistan",
          "Upper middle income",
          "Faroe Islands",
          "Burkina Faso",
          "IDA total",
          "Nicaragua",
          "Panama",
          "OECD members",
          "Post-demographic dividend",
          "Europe & Central Asia",
          "Iran, Islamic Rep.",
          "Colombia",
          "High income",
          "South Africa",
          "Tanzania",
          "United States",
          "IDA only",
          "Guinea",
          "Pacific island small states",
          "Least developed countries: UN classification",
          "Cameroon",
          "Bahamas, The",
          "Middle East & North Africa (excluding high income)",
          "Middle East & North Africa (IDA & IBRD countries)",
          "Low income",
          "Afghanistan",
          "Zimbabwe",
          "Liberia",
          "Yemen, Rep.",
          "United Arab Emirates",
          "Sweden",
          "Kyrgyz Republic",
          "Venezuela, RB",
          "Latin America & Caribbean",
          "Latin America & Caribbean (excluding high income)",
          "Sub-Saharan Africa (IDA & IBRD countries)",
          "Sub-Saharan Africa",
          "Sub-Saharan Africa (excluding high income)",
          "Middle East & North Africa",
          "Latin America & the Caribbean (IDA & IBRD countries)",
          "Pre-demographic dividend",
          "Djibouti",
          "Madagascar",
          "Mozambique",
          "Uruguay",
          "Europe & Central Asia (IDA & IBRD countries)",
          "Heavily indebted poor countries (HIPC)",
          "Lao PDR",
          "Chile",
          "Fragile and conflict affected situations",
          "Brazil",
          "Finland",
          "Europe & Central Asia (excluding high income)",
          "Peru",
          "Congo, Dem. Rep.",
          "North America",
          "Arab World",
          "Caribbean small states",
          "Equatorial Guinea",
          "Turks and Caicos Islands",
          "New Zealand",
          "Norway",
          "Argentina",
          "Vanuatu",
          "Bhutan",
          "Solomon Islands",
          "Sudan",
          "Zambia",
          "Paraguay",
          "Algeria",
          "Small states",
          "Somalia",
          "New Caledonia",
          "Papua New Guinea",
          "Russian Federation",
          "Angola",
          "Belize",
          "Other small states",
          "Turkmenistan",
          "Mali",
          "Congo, Rep.",
          "Saudi Arabia",
          "Niger",
          "Bolivia",
          "Kazakhstan",
          "Oman",
          "Chad",
          "Central African Republic",
          "Guyana",
          "Gabon",
          "Canada",
          "Suriname",
          "Iceland",
          "Libya",
          "Botswana",
          "Australia",
          "Mauritania",
          "Namibia",
          "Mongolia",
          "Greenland",
          "South Sudan"
         ],
         "yaxis": "y"
        }
       ],
       "layout": {
        "barmode": "relative",
        "legend": {
         "tracegroupgap": 0
        },
        "template": {
         "data": {
          "bar": [
           {
            "error_x": {
             "color": "#2a3f5f"
            },
            "error_y": {
             "color": "#2a3f5f"
            },
            "marker": {
             "line": {
              "color": "#E5ECF6",
              "width": 0.5
             },
             "pattern": {
              "fillmode": "overlay",
              "size": 10,
              "solidity": 0.2
             }
            },
            "type": "bar"
           }
          ],
          "barpolar": [
           {
            "marker": {
             "line": {
              "color": "#E5ECF6",
              "width": 0.5
             },
             "pattern": {
              "fillmode": "overlay",
              "size": 10,
              "solidity": 0.2
             }
            },
            "type": "barpolar"
           }
          ],
          "carpet": [
           {
            "aaxis": {
             "endlinecolor": "#2a3f5f",
             "gridcolor": "white",
             "linecolor": "white",
             "minorgridcolor": "white",
             "startlinecolor": "#2a3f5f"
            },
            "baxis": {
             "endlinecolor": "#2a3f5f",
             "gridcolor": "white",
             "linecolor": "white",
             "minorgridcolor": "white",
             "startlinecolor": "#2a3f5f"
            },
            "type": "carpet"
           }
          ],
          "choropleth": [
           {
            "colorbar": {
             "outlinewidth": 0,
             "ticks": ""
            },
            "type": "choropleth"
           }
          ],
          "contour": [
           {
            "colorbar": {
             "outlinewidth": 0,
             "ticks": ""
            },
            "colorscale": [
             [
              0,
              "#0d0887"
             ],
             [
              0.1111111111111111,
              "#46039f"
             ],
             [
              0.2222222222222222,
              "#7201a8"
             ],
             [
              0.3333333333333333,
              "#9c179e"
             ],
             [
              0.4444444444444444,
              "#bd3786"
             ],
             [
              0.5555555555555556,
              "#d8576b"
             ],
             [
              0.6666666666666666,
              "#ed7953"
             ],
             [
              0.7777777777777778,
              "#fb9f3a"
             ],
             [
              0.8888888888888888,
              "#fdca26"
             ],
             [
              1,
              "#f0f921"
             ]
            ],
            "type": "contour"
           }
          ],
          "contourcarpet": [
           {
            "colorbar": {
             "outlinewidth": 0,
             "ticks": ""
            },
            "type": "contourcarpet"
           }
          ],
          "heatmap": [
           {
            "colorbar": {
             "outlinewidth": 0,
             "ticks": ""
            },
            "colorscale": [
             [
              0,
              "#0d0887"
             ],
             [
              0.1111111111111111,
              "#46039f"
             ],
             [
              0.2222222222222222,
              "#7201a8"
             ],
             [
              0.3333333333333333,
              "#9c179e"
             ],
             [
              0.4444444444444444,
              "#bd3786"
             ],
             [
              0.5555555555555556,
              "#d8576b"
             ],
             [
              0.6666666666666666,
              "#ed7953"
             ],
             [
              0.7777777777777778,
              "#fb9f3a"
             ],
             [
              0.8888888888888888,
              "#fdca26"
             ],
             [
              1,
              "#f0f921"
             ]
            ],
            "type": "heatmap"
           }
          ],
          "heatmapgl": [
           {
            "colorbar": {
             "outlinewidth": 0,
             "ticks": ""
            },
            "colorscale": [
             [
              0,
              "#0d0887"
             ],
             [
              0.1111111111111111,
              "#46039f"
             ],
             [
              0.2222222222222222,
              "#7201a8"
             ],
             [
              0.3333333333333333,
              "#9c179e"
             ],
             [
              0.4444444444444444,
              "#bd3786"
             ],
             [
              0.5555555555555556,
              "#d8576b"
             ],
             [
              0.6666666666666666,
              "#ed7953"
             ],
             [
              0.7777777777777778,
              "#fb9f3a"
             ],
             [
              0.8888888888888888,
              "#fdca26"
             ],
             [
              1,
              "#f0f921"
             ]
            ],
            "type": "heatmapgl"
           }
          ],
          "histogram": [
           {
            "marker": {
             "pattern": {
              "fillmode": "overlay",
              "size": 10,
              "solidity": 0.2
             }
            },
            "type": "histogram"
           }
          ],
          "histogram2d": [
           {
            "colorbar": {
             "outlinewidth": 0,
             "ticks": ""
            },
            "colorscale": [
             [
              0,
              "#0d0887"
             ],
             [
              0.1111111111111111,
              "#46039f"
             ],
             [
              0.2222222222222222,
              "#7201a8"
             ],
             [
              0.3333333333333333,
              "#9c179e"
             ],
             [
              0.4444444444444444,
              "#bd3786"
             ],
             [
              0.5555555555555556,
              "#d8576b"
             ],
             [
              0.6666666666666666,
              "#ed7953"
             ],
             [
              0.7777777777777778,
              "#fb9f3a"
             ],
             [
              0.8888888888888888,
              "#fdca26"
             ],
             [
              1,
              "#f0f921"
             ]
            ],
            "type": "histogram2d"
           }
          ],
          "histogram2dcontour": [
           {
            "colorbar": {
             "outlinewidth": 0,
             "ticks": ""
            },
            "colorscale": [
             [
              0,
              "#0d0887"
             ],
             [
              0.1111111111111111,
              "#46039f"
             ],
             [
              0.2222222222222222,
              "#7201a8"
             ],
             [
              0.3333333333333333,
              "#9c179e"
             ],
             [
              0.4444444444444444,
              "#bd3786"
             ],
             [
              0.5555555555555556,
              "#d8576b"
             ],
             [
              0.6666666666666666,
              "#ed7953"
             ],
             [
              0.7777777777777778,
              "#fb9f3a"
             ],
             [
              0.8888888888888888,
              "#fdca26"
             ],
             [
              1,
              "#f0f921"
             ]
            ],
            "type": "histogram2dcontour"
           }
          ],
          "mesh3d": [
           {
            "colorbar": {
             "outlinewidth": 0,
             "ticks": ""
            },
            "type": "mesh3d"
           }
          ],
          "parcoords": [
           {
            "line": {
             "colorbar": {
              "outlinewidth": 0,
              "ticks": ""
             }
            },
            "type": "parcoords"
           }
          ],
          "pie": [
           {
            "automargin": true,
            "type": "pie"
           }
          ],
          "scatter": [
           {
            "fillpattern": {
             "fillmode": "overlay",
             "size": 10,
             "solidity": 0.2
            },
            "type": "scatter"
           }
          ],
          "scatter3d": [
           {
            "line": {
             "colorbar": {
              "outlinewidth": 0,
              "ticks": ""
             }
            },
            "marker": {
             "colorbar": {
              "outlinewidth": 0,
              "ticks": ""
             }
            },
            "type": "scatter3d"
           }
          ],
          "scattercarpet": [
           {
            "marker": {
             "colorbar": {
              "outlinewidth": 0,
              "ticks": ""
             }
            },
            "type": "scattercarpet"
           }
          ],
          "scattergeo": [
           {
            "marker": {
             "colorbar": {
              "outlinewidth": 0,
              "ticks": ""
             }
            },
            "type": "scattergeo"
           }
          ],
          "scattergl": [
           {
            "marker": {
             "colorbar": {
              "outlinewidth": 0,
              "ticks": ""
             }
            },
            "type": "scattergl"
           }
          ],
          "scattermapbox": [
           {
            "marker": {
             "colorbar": {
              "outlinewidth": 0,
              "ticks": ""
             }
            },
            "type": "scattermapbox"
           }
          ],
          "scatterpolar": [
           {
            "marker": {
             "colorbar": {
              "outlinewidth": 0,
              "ticks": ""
             }
            },
            "type": "scatterpolar"
           }
          ],
          "scatterpolargl": [
           {
            "marker": {
             "colorbar": {
              "outlinewidth": 0,
              "ticks": ""
             }
            },
            "type": "scatterpolargl"
           }
          ],
          "scatterternary": [
           {
            "marker": {
             "colorbar": {
              "outlinewidth": 0,
              "ticks": ""
             }
            },
            "type": "scatterternary"
           }
          ],
          "surface": [
           {
            "colorbar": {
             "outlinewidth": 0,
             "ticks": ""
            },
            "colorscale": [
             [
              0,
              "#0d0887"
             ],
             [
              0.1111111111111111,
              "#46039f"
             ],
             [
              0.2222222222222222,
              "#7201a8"
             ],
             [
              0.3333333333333333,
              "#9c179e"
             ],
             [
              0.4444444444444444,
              "#bd3786"
             ],
             [
              0.5555555555555556,
              "#d8576b"
             ],
             [
              0.6666666666666666,
              "#ed7953"
             ],
             [
              0.7777777777777778,
              "#fb9f3a"
             ],
             [
              0.8888888888888888,
              "#fdca26"
             ],
             [
              1,
              "#f0f921"
             ]
            ],
            "type": "surface"
           }
          ],
          "table": [
           {
            "cells": {
             "fill": {
              "color": "#EBF0F8"
             },
             "line": {
              "color": "white"
             }
            },
            "header": {
             "fill": {
              "color": "#C8D4E3"
             },
             "line": {
              "color": "white"
             }
            },
            "type": "table"
           }
          ]
         },
         "layout": {
          "annotationdefaults": {
           "arrowcolor": "#2a3f5f",
           "arrowhead": 0,
           "arrowwidth": 1
          },
          "autotypenumbers": "strict",
          "coloraxis": {
           "colorbar": {
            "outlinewidth": 0,
            "ticks": ""
           }
          },
          "colorscale": {
           "diverging": [
            [
             0,
             "#8e0152"
            ],
            [
             0.1,
             "#c51b7d"
            ],
            [
             0.2,
             "#de77ae"
            ],
            [
             0.3,
             "#f1b6da"
            ],
            [
             0.4,
             "#fde0ef"
            ],
            [
             0.5,
             "#f7f7f7"
            ],
            [
             0.6,
             "#e6f5d0"
            ],
            [
             0.7,
             "#b8e186"
            ],
            [
             0.8,
             "#7fbc41"
            ],
            [
             0.9,
             "#4d9221"
            ],
            [
             1,
             "#276419"
            ]
           ],
           "sequential": [
            [
             0,
             "#0d0887"
            ],
            [
             0.1111111111111111,
             "#46039f"
            ],
            [
             0.2222222222222222,
             "#7201a8"
            ],
            [
             0.3333333333333333,
             "#9c179e"
            ],
            [
             0.4444444444444444,
             "#bd3786"
            ],
            [
             0.5555555555555556,
             "#d8576b"
            ],
            [
             0.6666666666666666,
             "#ed7953"
            ],
            [
             0.7777777777777778,
             "#fb9f3a"
            ],
            [
             0.8888888888888888,
             "#fdca26"
            ],
            [
             1,
             "#f0f921"
            ]
           ],
           "sequentialminus": [
            [
             0,
             "#0d0887"
            ],
            [
             0.1111111111111111,
             "#46039f"
            ],
            [
             0.2222222222222222,
             "#7201a8"
            ],
            [
             0.3333333333333333,
             "#9c179e"
            ],
            [
             0.4444444444444444,
             "#bd3786"
            ],
            [
             0.5555555555555556,
             "#d8576b"
            ],
            [
             0.6666666666666666,
             "#ed7953"
            ],
            [
             0.7777777777777778,
             "#fb9f3a"
            ],
            [
             0.8888888888888888,
             "#fdca26"
            ],
            [
             1,
             "#f0f921"
            ]
           ]
          },
          "colorway": [
           "#636efa",
           "#EF553B",
           "#00cc96",
           "#ab63fa",
           "#FFA15A",
           "#19d3f3",
           "#FF6692",
           "#B6E880",
           "#FF97FF",
           "#FECB52"
          ],
          "font": {
           "color": "#2a3f5f"
          },
          "geo": {
           "bgcolor": "white",
           "lakecolor": "white",
           "landcolor": "#E5ECF6",
           "showlakes": true,
           "showland": true,
           "subunitcolor": "white"
          },
          "hoverlabel": {
           "align": "left"
          },
          "hovermode": "closest",
          "mapbox": {
           "style": "light"
          },
          "paper_bgcolor": "white",
          "plot_bgcolor": "#E5ECF6",
          "polar": {
           "angularaxis": {
            "gridcolor": "white",
            "linecolor": "white",
            "ticks": ""
           },
           "bgcolor": "#E5ECF6",
           "radialaxis": {
            "gridcolor": "white",
            "linecolor": "white",
            "ticks": ""
           }
          },
          "scene": {
           "xaxis": {
            "backgroundcolor": "#E5ECF6",
            "gridcolor": "white",
            "gridwidth": 2,
            "linecolor": "white",
            "showbackground": true,
            "ticks": "",
            "zerolinecolor": "white"
           },
           "yaxis": {
            "backgroundcolor": "#E5ECF6",
            "gridcolor": "white",
            "gridwidth": 2,
            "linecolor": "white",
            "showbackground": true,
            "ticks": "",
            "zerolinecolor": "white"
           },
           "zaxis": {
            "backgroundcolor": "#E5ECF6",
            "gridcolor": "white",
            "gridwidth": 2,
            "linecolor": "white",
            "showbackground": true,
            "ticks": "",
            "zerolinecolor": "white"
           }
          },
          "shapedefaults": {
           "line": {
            "color": "#2a3f5f"
           }
          },
          "ternary": {
           "aaxis": {
            "gridcolor": "white",
            "linecolor": "white",
            "ticks": ""
           },
           "baxis": {
            "gridcolor": "white",
            "linecolor": "white",
            "ticks": ""
           },
           "bgcolor": "#E5ECF6",
           "caxis": {
            "gridcolor": "white",
            "linecolor": "white",
            "ticks": ""
           }
          },
          "title": {
           "x": 0.05
          },
          "xaxis": {
           "automargin": true,
           "gridcolor": "white",
           "linecolor": "white",
           "ticks": "",
           "title": {
            "standoff": 15
           },
           "zerolinecolor": "white",
           "zerolinewidth": 2
          },
          "yaxis": {
           "automargin": true,
           "gridcolor": "white",
           "linecolor": "white",
           "ticks": "",
           "title": {
            "standoff": 15
           },
           "zerolinecolor": "white",
           "zerolinewidth": 2
          }
         }
        },
        "title": {
         "text": "Mean Population Density by Country"
        },
        "xaxis": {
         "anchor": "y",
         "domain": [
          0,
          1
         ],
         "title": {
          "text": "Mean population density"
         },
         "type": "log"
        },
        "yaxis": {
         "anchor": "x",
         "domain": [
          0,
          1
         ],
         "title": {
          "text": "Country Name"
         }
        }
       }
      },
      "text/html": [
       "<div>                            <div id=\"ff521e6d-d71f-4eb9-8779-183722a4e2c6\" class=\"plotly-graph-div\" style=\"height:525px; width:100%;\"></div>            <script type=\"text/javascript\">                require([\"plotly\"], function(Plotly) {                    window.PLOTLYENV=window.PLOTLYENV || {};                                    if (document.getElementById(\"ff521e6d-d71f-4eb9-8779-183722a4e2c6\")) {                    Plotly.newPlot(                        \"ff521e6d-d71f-4eb9-8779-183722a4e2c6\",                        [{\"alignmentgroup\":\"True\",\"hovertemplate\":\"Mean population density=%{x}<br>Country Name=%{y}<extra></extra>\",\"legendgroup\":\"\",\"marker\":{\"color\":\"#636efa\",\"pattern\":{\"shape\":\"\"}},\"name\":\"\",\"offsetgroup\":\"\",\"orientation\":\"h\",\"showlegend\":false,\"textposition\":\"auto\",\"x\":[14732.03521055,14089.9,5153.05690264,4361.499928215,2622.25,1132.78,1083.8609375,1059.235294116,733.2588530379,706.2242105263,662.4446666662,648.6187033268,592.473488372,490.80182266009996,475.08214285725,426.219893365,407.46175675710003,405.21999999999997,393.09111111109996,380.9133333333,368.34889515220004,346.0780217965,321.9389639638,318.4852895569,317.98161764703,285.24444444425,284.7044117649,278.3433333332,273.2197067447,267.0402397425,257.0130769232,255.3705714286,246.9111784405,237.4084353466,236.58403120450004,235.6793890794,227.5982869898,226.7361973217,218.62674463950003,216.4243560369,216.4243560369,216.01611111100001,210.88032786879998,207.52356746750002,206.30884579879998,204.2903815153,201.887,198.44307242989998,189.1948593198,187.21414798809002,185.2962796561,178.7969111965,167.91875,166.58450679039998,156.4245454547,155.92047252729998,153.42552861046,150.70749999999998,143.80826086959001,143.52635253061,133.78238666938,131.1191333807,130.79239130425,125.43763888893,124.69420558329,121.51875428111,120.52849207,117.29569262397999,116.65395494286,115.73561403509,115.19482438499999,114.75818197769999,110.37434286356999,109.87874999994001,109.83743660575001,105.92779873596001,103.62257380463,103.13617159206999,102.52506146818,99.39875000004,98.3695744681,98.28066666667,97.55121356846,97.51028832112,96.94546625381,94.57015314511,93.95799999999,93.26217974183001,93.18795581588999,93.03799708871,92.16160304357001,91.17494442387999,90.69967920588,89.61089485913001,83.89033980319,83.47361765378,83.11022061947999,82.7260794045,82.49209876548,82.38019480524,81.31570158111,81.00948501078,80.15278735972001,79.38541325643,79.01574385823334,78.85138655211999,78.62989455016,76.9170283701,76.12905430568,76.05916932014,76.01848959541,75.55543869742,73.81125366643,67.8038111638,63.25990839754,62.77919654347001,60.58667119399,59.21648677155,57.0477546227,55.319823321550004,55.258641831160006,54.93205444573,53.445382897260004,50.99924848059,50.90490822569,50.69757632019,50.29307156335,49.85074665171,48.39891728314,47.96882654475,47.215039525680005,47.04875966512,47.02371584699,46.87166709577,46.28759670894,45.098512058189996,44.14703064887,43.50953611279,42.85698292221,42.70333828996,42.66380232559,42.61053831146,42.528558298069996,41.112734275600005,40.94449070879,40.059782608700004,39.44389325859,39.156453659840004,38.71455238278,37.806742574266664,37.74286834287,37.444051946870005,37.4159642515,36.530283410059994,36.27963875204,35.8594935854,35.413531294440006,34.70042044426,34.35743762165,34.340120585706,33.27810568532,33.22330251573,32.55638182338,31.266610472870003,30.91755014328,30.827364035099997,30.7847498208,30.52207079939,30.19284234597,29.692427059030003,29.508414135920003,29.27148908108,28.688439917479997,27.79325624155,27.422344116430004,27.309949704780003,26.397429442319996,26.28218874635,25.7280629448,24.747361631129998,24.286304722559997,23.572764913700002,23.49709377843,23.14533466533,23.10399858457,22.98766072178,22.669051699369998,22.613589896759997,22.582344578,21.7260755814,21.61730988503,21.563159090922,20.49851464638,20.31115745568,20.104730570829002,20.075988223640003,19.99326542762,19.96264687287,19.96264687287,19.96023468272,19.894262068498,19.50300477845,19.358278342478002,19.025970664367,18.724988478846,17.24219868256,17.215263398460003,17.17792162002,16.897412327738998,16.890077123053,16.40243486495,16.276325628111,16.128914794453003,16.05917560595,15.676245017069999,15.172085234365,14.66196969631,14.612504073939999,14.572384320149002,13.96349852909,13.360474153298,12.895263157896,12.588204018093,11.400629166727,11.091878217851,11.034388843317,10.276104821157,10.079113969287999,10.045593392264,9.806754597181,9.556267304309,9.485763097573,9.201067746725,8.999919341981,8.68876914661,8.497158503734,8.48404588392,8.466781743796,7.788623410782,7.784174062923,6.971664716024999,6.879977872297999,6.394165153737999,6.330490489333,6.047828846612,5.852884242591,5.284717376006,4.8556284329579995,4.63582725323,4.349437863173,3.667475514118,3.445423991928,2.8517520297449996,2.57033974359,2.4170154613459998,2.1179953283254003,2.1108635505451003,2.0546307746370003,1.8342923256044,1.5483575653784,1.1927409305091998,0.13939981988689998,null],\"xaxis\":\"x\",\"y\":[\"Macao SAR, China\",\"Monaco\",\"Hong Kong SAR, China\",\"Singapore\",\"Gibraltar\",\"Bermuda\",\"Malta\",\"Sint Maarten (Dutch part)\",\"Bangladesh\",\"Channel Islands\",\"Maldives\",\"Bahrain\",\"Barbados\",\"Mauritius\",\"West Bank and Gaza\",\"Netherlands\",\"Korea, Rep.\",\"Nauru\",\"Aruba\",\"San Marino\",\"Puerto Rico\",\"Belgium\",\"Curacao\",\"Japan\",\"St. Martin (French part)\",\"Marshall Islands\",\"Grenada\",\"Tuvalu\",\"Lebanon\",\"India\",\"St. Vincent and the Grenadines\",\"Virgin Islands\",\"Sri Lanka\",\"Rwanda\",\"Haiti\",\"United Kingdom\",\"El Salvador\",\"Germany\",\"Trinidad and Tobago\",\"South Asia (IDA & IBRD)\",\"South Asia\",\"Guam\",\"St. Lucia\",\"Israel\",\"Jamaica\",\"Comoros\",\"American Samoa\",\"Burundi\",\"Italy\",\"Philippines\",\"Vietnam\",\"Luxembourg\",\"Liechtenstein\",\"Switzerland\",\"Antigua and Barbuda\",\"St. Kitts and Nevis\",\"Korea, Dem. People\\ufffds Rep.\",\"Micronesia, Fed. Sts.\",\"Seychelles\",\"Kosovo\",\"Dominican Republic\",\"Czech Republic\",\"Northern Mariana Islands\",\"Tonga\",\"Pakistan\",\"Nepal\",\"Denmark\",\"Moldova\",\"Poland\",\"Isle of Man\",\"Hungary\",\"Euro area\",\"European Union\",\"Sao Tome and Principe\",\"China\",\"Portugal\",\"Slovak Republic\",\"France\",\"Armenia\",\"Cayman Islands\",\"Andorra\",\"British Virgin Islands\",\"Thailand\",\"Albania\",\"Nigeria\",\"Central Europe and the Baltics\",\"Dominica\",\"Slovenia\",\"Austria\",\"Romania\",\"Cuba\",\"East Asia & Pacific (excluding high income)\",\"East Asia & Pacific (IDA & IBRD countries)\",\"Indonesia\",\"Ukraine\",\"Serbia\",\"Malawi\",\"Cabo Verde\",\"Kiribati\",\"Cyprus\",\"Gambia, The\",\"Uganda\",\"Croatia\",\"Lower middle income\",\"Kuwait\",\"Azerbaijan\",\"Guatemala\",\"Bosnia and Herzegovina\",\"Greece\",\"Georgia\",\"Bulgaria\",\"Spain\",\"Macedonia, FYR\",\"East Asia & Pacific\",\"Turkey\",\"Togo\",\"Syrian Arab Republic\",\"Ghana\",\"Myanmar\",\"Samoa\",\"Early-demographic dividend\",\"Costa Rica\",\"Lithuania\",\"Egypt, Arab Rep.\",\"Cambodia\",\"Malaysia\",\"Ireland\",\"Morocco\",\"Timor-Leste\",\"Sierra Leone\",\"Lesotho\",\"Belarus\",\"French Polynesia\",\"Tunisia\",\"IDA blend\",\"IBRD only\",\"Middle income\",\"Ethiopia\",\"Brunei Darussalam\",\"Montenegro\",\"Swaziland\",\"Benin\",\"Uzbekistan\",\"Low & middle income\",\"IDA & IBRD total\",\"Palau\",\"Mexico\",\"Honduras\",\"Latvia\",\"Eritrea\",\"Late-demographic dividend\",\"Iraq\",\"World\",\"Kenya\",\"Fiji\",\"Senegal\",\"Guinea-Bissau\",\"Jordan\",\"Ecuador\",\"Qatar\",\"Estonia\",\"Cote d'Ivoire\",\"Tajikistan\",\"Upper middle income\",\"Faroe Islands\",\"Burkina Faso\",\"IDA total\",\"Nicaragua\",\"Panama\",\"OECD members\",\"Post-demographic dividend\",\"Europe & Central Asia\",\"Iran, Islamic Rep.\",\"Colombia\",\"High income\",\"South Africa\",\"Tanzania\",\"United States\",\"IDA only\",\"Guinea\",\"Pacific island small states\",\"Least developed countries: UN classification\",\"Cameroon\",\"Bahamas, The\",\"Middle East & North Africa (excluding high income)\",\"Middle East & North Africa (IDA & IBRD countries)\",\"Low income\",\"Afghanistan\",\"Zimbabwe\",\"Liberia\",\"Yemen, Rep.\",\"United Arab Emirates\",\"Sweden\",\"Kyrgyz Republic\",\"Venezuela, RB\",\"Latin America & Caribbean\",\"Latin America & Caribbean (excluding high income)\",\"Sub-Saharan Africa (IDA & IBRD countries)\",\"Sub-Saharan Africa\",\"Sub-Saharan Africa (excluding high income)\",\"Middle East & North Africa\",\"Latin America & the Caribbean (IDA & IBRD countries)\",\"Pre-demographic dividend\",\"Djibouti\",\"Madagascar\",\"Mozambique\",\"Uruguay\",\"Europe & Central Asia (IDA & IBRD countries)\",\"Heavily indebted poor countries (HIPC)\",\"Lao PDR\",\"Chile\",\"Fragile and conflict affected situations\",\"Brazil\",\"Finland\",\"Europe & Central Asia (excluding high income)\",\"Peru\",\"Congo, Dem. Rep.\",\"North America\",\"Arab World\",\"Caribbean small states\",\"Equatorial Guinea\",\"Turks and Caicos Islands\",\"New Zealand\",\"Norway\",\"Argentina\",\"Vanuatu\",\"Bhutan\",\"Solomon Islands\",\"Sudan\",\"Zambia\",\"Paraguay\",\"Algeria\",\"Small states\",\"Somalia\",\"New Caledonia\",\"Papua New Guinea\",\"Russian Federation\",\"Angola\",\"Belize\",\"Other small states\",\"Turkmenistan\",\"Mali\",\"Congo, Rep.\",\"Saudi Arabia\",\"Niger\",\"Bolivia\",\"Kazakhstan\",\"Oman\",\"Chad\",\"Central African Republic\",\"Guyana\",\"Gabon\",\"Canada\",\"Suriname\",\"Iceland\",\"Libya\",\"Botswana\",\"Australia\",\"Mauritania\",\"Namibia\",\"Mongolia\",\"Greenland\",\"South Sudan\"],\"yaxis\":\"y\",\"type\":\"bar\"}],                        {\"template\":{\"data\":{\"histogram2dcontour\":[{\"type\":\"histogram2dcontour\",\"colorbar\":{\"outlinewidth\":0,\"ticks\":\"\"},\"colorscale\":[[0.0,\"#0d0887\"],[0.1111111111111111,\"#46039f\"],[0.2222222222222222,\"#7201a8\"],[0.3333333333333333,\"#9c179e\"],[0.4444444444444444,\"#bd3786\"],[0.5555555555555556,\"#d8576b\"],[0.6666666666666666,\"#ed7953\"],[0.7777777777777778,\"#fb9f3a\"],[0.8888888888888888,\"#fdca26\"],[1.0,\"#f0f921\"]]}],\"choropleth\":[{\"type\":\"choropleth\",\"colorbar\":{\"outlinewidth\":0,\"ticks\":\"\"}}],\"histogram2d\":[{\"type\":\"histogram2d\",\"colorbar\":{\"outlinewidth\":0,\"ticks\":\"\"},\"colorscale\":[[0.0,\"#0d0887\"],[0.1111111111111111,\"#46039f\"],[0.2222222222222222,\"#7201a8\"],[0.3333333333333333,\"#9c179e\"],[0.4444444444444444,\"#bd3786\"],[0.5555555555555556,\"#d8576b\"],[0.6666666666666666,\"#ed7953\"],[0.7777777777777778,\"#fb9f3a\"],[0.8888888888888888,\"#fdca26\"],[1.0,\"#f0f921\"]]}],\"heatmap\":[{\"type\":\"heatmap\",\"colorbar\":{\"outlinewidth\":0,\"ticks\":\"\"},\"colorscale\":[[0.0,\"#0d0887\"],[0.1111111111111111,\"#46039f\"],[0.2222222222222222,\"#7201a8\"],[0.3333333333333333,\"#9c179e\"],[0.4444444444444444,\"#bd3786\"],[0.5555555555555556,\"#d8576b\"],[0.6666666666666666,\"#ed7953\"],[0.7777777777777778,\"#fb9f3a\"],[0.8888888888888888,\"#fdca26\"],[1.0,\"#f0f921\"]]}],\"heatmapgl\":[{\"type\":\"heatmapgl\",\"colorbar\":{\"outlinewidth\":0,\"ticks\":\"\"},\"colorscale\":[[0.0,\"#0d0887\"],[0.1111111111111111,\"#46039f\"],[0.2222222222222222,\"#7201a8\"],[0.3333333333333333,\"#9c179e\"],[0.4444444444444444,\"#bd3786\"],[0.5555555555555556,\"#d8576b\"],[0.6666666666666666,\"#ed7953\"],[0.7777777777777778,\"#fb9f3a\"],[0.8888888888888888,\"#fdca26\"],[1.0,\"#f0f921\"]]}],\"contourcarpet\":[{\"type\":\"contourcarpet\",\"colorbar\":{\"outlinewidth\":0,\"ticks\":\"\"}}],\"contour\":[{\"type\":\"contour\",\"colorbar\":{\"outlinewidth\":0,\"ticks\":\"\"},\"colorscale\":[[0.0,\"#0d0887\"],[0.1111111111111111,\"#46039f\"],[0.2222222222222222,\"#7201a8\"],[0.3333333333333333,\"#9c179e\"],[0.4444444444444444,\"#bd3786\"],[0.5555555555555556,\"#d8576b\"],[0.6666666666666666,\"#ed7953\"],[0.7777777777777778,\"#fb9f3a\"],[0.8888888888888888,\"#fdca26\"],[1.0,\"#f0f921\"]]}],\"surface\":[{\"type\":\"surface\",\"colorbar\":{\"outlinewidth\":0,\"ticks\":\"\"},\"colorscale\":[[0.0,\"#0d0887\"],[0.1111111111111111,\"#46039f\"],[0.2222222222222222,\"#7201a8\"],[0.3333333333333333,\"#9c179e\"],[0.4444444444444444,\"#bd3786\"],[0.5555555555555556,\"#d8576b\"],[0.6666666666666666,\"#ed7953\"],[0.7777777777777778,\"#fb9f3a\"],[0.8888888888888888,\"#fdca26\"],[1.0,\"#f0f921\"]]}],\"mesh3d\":[{\"type\":\"mesh3d\",\"colorbar\":{\"outlinewidth\":0,\"ticks\":\"\"}}],\"scatter\":[{\"fillpattern\":{\"fillmode\":\"overlay\",\"size\":10,\"solidity\":0.2},\"type\":\"scatter\"}],\"parcoords\":[{\"type\":\"parcoords\",\"line\":{\"colorbar\":{\"outlinewidth\":0,\"ticks\":\"\"}}}],\"scatterpolargl\":[{\"type\":\"scatterpolargl\",\"marker\":{\"colorbar\":{\"outlinewidth\":0,\"ticks\":\"\"}}}],\"bar\":[{\"error_x\":{\"color\":\"#2a3f5f\"},\"error_y\":{\"color\":\"#2a3f5f\"},\"marker\":{\"line\":{\"color\":\"#E5ECF6\",\"width\":0.5},\"pattern\":{\"fillmode\":\"overlay\",\"size\":10,\"solidity\":0.2}},\"type\":\"bar\"}],\"scattergeo\":[{\"type\":\"scattergeo\",\"marker\":{\"colorbar\":{\"outlinewidth\":0,\"ticks\":\"\"}}}],\"scatterpolar\":[{\"type\":\"scatterpolar\",\"marker\":{\"colorbar\":{\"outlinewidth\":0,\"ticks\":\"\"}}}],\"histogram\":[{\"marker\":{\"pattern\":{\"fillmode\":\"overlay\",\"size\":10,\"solidity\":0.2}},\"type\":\"histogram\"}],\"scattergl\":[{\"type\":\"scattergl\",\"marker\":{\"colorbar\":{\"outlinewidth\":0,\"ticks\":\"\"}}}],\"scatter3d\":[{\"type\":\"scatter3d\",\"line\":{\"colorbar\":{\"outlinewidth\":0,\"ticks\":\"\"}},\"marker\":{\"colorbar\":{\"outlinewidth\":0,\"ticks\":\"\"}}}],\"scattermapbox\":[{\"type\":\"scattermapbox\",\"marker\":{\"colorbar\":{\"outlinewidth\":0,\"ticks\":\"\"}}}],\"scatterternary\":[{\"type\":\"scatterternary\",\"marker\":{\"colorbar\":{\"outlinewidth\":0,\"ticks\":\"\"}}}],\"scattercarpet\":[{\"type\":\"scattercarpet\",\"marker\":{\"colorbar\":{\"outlinewidth\":0,\"ticks\":\"\"}}}],\"carpet\":[{\"aaxis\":{\"endlinecolor\":\"#2a3f5f\",\"gridcolor\":\"white\",\"linecolor\":\"white\",\"minorgridcolor\":\"white\",\"startlinecolor\":\"#2a3f5f\"},\"baxis\":{\"endlinecolor\":\"#2a3f5f\",\"gridcolor\":\"white\",\"linecolor\":\"white\",\"minorgridcolor\":\"white\",\"startlinecolor\":\"#2a3f5f\"},\"type\":\"carpet\"}],\"table\":[{\"cells\":{\"fill\":{\"color\":\"#EBF0F8\"},\"line\":{\"color\":\"white\"}},\"header\":{\"fill\":{\"color\":\"#C8D4E3\"},\"line\":{\"color\":\"white\"}},\"type\":\"table\"}],\"barpolar\":[{\"marker\":{\"line\":{\"color\":\"#E5ECF6\",\"width\":0.5},\"pattern\":{\"fillmode\":\"overlay\",\"size\":10,\"solidity\":0.2}},\"type\":\"barpolar\"}],\"pie\":[{\"automargin\":true,\"type\":\"pie\"}]},\"layout\":{\"autotypenumbers\":\"strict\",\"colorway\":[\"#636efa\",\"#EF553B\",\"#00cc96\",\"#ab63fa\",\"#FFA15A\",\"#19d3f3\",\"#FF6692\",\"#B6E880\",\"#FF97FF\",\"#FECB52\"],\"font\":{\"color\":\"#2a3f5f\"},\"hovermode\":\"closest\",\"hoverlabel\":{\"align\":\"left\"},\"paper_bgcolor\":\"white\",\"plot_bgcolor\":\"#E5ECF6\",\"polar\":{\"bgcolor\":\"#E5ECF6\",\"angularaxis\":{\"gridcolor\":\"white\",\"linecolor\":\"white\",\"ticks\":\"\"},\"radialaxis\":{\"gridcolor\":\"white\",\"linecolor\":\"white\",\"ticks\":\"\"}},\"ternary\":{\"bgcolor\":\"#E5ECF6\",\"aaxis\":{\"gridcolor\":\"white\",\"linecolor\":\"white\",\"ticks\":\"\"},\"baxis\":{\"gridcolor\":\"white\",\"linecolor\":\"white\",\"ticks\":\"\"},\"caxis\":{\"gridcolor\":\"white\",\"linecolor\":\"white\",\"ticks\":\"\"}},\"coloraxis\":{\"colorbar\":{\"outlinewidth\":0,\"ticks\":\"\"}},\"colorscale\":{\"sequential\":[[0.0,\"#0d0887\"],[0.1111111111111111,\"#46039f\"],[0.2222222222222222,\"#7201a8\"],[0.3333333333333333,\"#9c179e\"],[0.4444444444444444,\"#bd3786\"],[0.5555555555555556,\"#d8576b\"],[0.6666666666666666,\"#ed7953\"],[0.7777777777777778,\"#fb9f3a\"],[0.8888888888888888,\"#fdca26\"],[1.0,\"#f0f921\"]],\"sequentialminus\":[[0.0,\"#0d0887\"],[0.1111111111111111,\"#46039f\"],[0.2222222222222222,\"#7201a8\"],[0.3333333333333333,\"#9c179e\"],[0.4444444444444444,\"#bd3786\"],[0.5555555555555556,\"#d8576b\"],[0.6666666666666666,\"#ed7953\"],[0.7777777777777778,\"#fb9f3a\"],[0.8888888888888888,\"#fdca26\"],[1.0,\"#f0f921\"]],\"diverging\":[[0,\"#8e0152\"],[0.1,\"#c51b7d\"],[0.2,\"#de77ae\"],[0.3,\"#f1b6da\"],[0.4,\"#fde0ef\"],[0.5,\"#f7f7f7\"],[0.6,\"#e6f5d0\"],[0.7,\"#b8e186\"],[0.8,\"#7fbc41\"],[0.9,\"#4d9221\"],[1,\"#276419\"]]},\"xaxis\":{\"gridcolor\":\"white\",\"linecolor\":\"white\",\"ticks\":\"\",\"title\":{\"standoff\":15},\"zerolinecolor\":\"white\",\"automargin\":true,\"zerolinewidth\":2},\"yaxis\":{\"gridcolor\":\"white\",\"linecolor\":\"white\",\"ticks\":\"\",\"title\":{\"standoff\":15},\"zerolinecolor\":\"white\",\"automargin\":true,\"zerolinewidth\":2},\"scene\":{\"xaxis\":{\"backgroundcolor\":\"#E5ECF6\",\"gridcolor\":\"white\",\"linecolor\":\"white\",\"showbackground\":true,\"ticks\":\"\",\"zerolinecolor\":\"white\",\"gridwidth\":2},\"yaxis\":{\"backgroundcolor\":\"#E5ECF6\",\"gridcolor\":\"white\",\"linecolor\":\"white\",\"showbackground\":true,\"ticks\":\"\",\"zerolinecolor\":\"white\",\"gridwidth\":2},\"zaxis\":{\"backgroundcolor\":\"#E5ECF6\",\"gridcolor\":\"white\",\"linecolor\":\"white\",\"showbackground\":true,\"ticks\":\"\",\"zerolinecolor\":\"white\",\"gridwidth\":2}},\"shapedefaults\":{\"line\":{\"color\":\"#2a3f5f\"}},\"annotationdefaults\":{\"arrowcolor\":\"#2a3f5f\",\"arrowhead\":0,\"arrowwidth\":1},\"geo\":{\"bgcolor\":\"white\",\"landcolor\":\"#E5ECF6\",\"subunitcolor\":\"white\",\"showland\":true,\"showlakes\":true,\"lakecolor\":\"white\"},\"title\":{\"x\":0.05},\"mapbox\":{\"style\":\"light\"}}},\"xaxis\":{\"anchor\":\"y\",\"domain\":[0.0,1.0],\"title\":{\"text\":\"Mean population density\"},\"type\":\"log\"},\"yaxis\":{\"anchor\":\"x\",\"domain\":[0.0,1.0],\"title\":{\"text\":\"Country Name\"}},\"legend\":{\"tracegroupgap\":0},\"title\":{\"text\":\"Mean Population Density by Country\"},\"barmode\":\"relative\"},                        {\"responsive\": true}                    ).then(function(){\n",
       "                            \n",
       "var gd = document.getElementById('ff521e6d-d71f-4eb9-8779-183722a4e2c6');\n",
       "var x = new MutationObserver(function (mutations, observer) {{\n",
       "        var display = window.getComputedStyle(gd).display;\n",
       "        if (!display || display === 'none') {{\n",
       "            console.log([gd, 'removed!']);\n",
       "            Plotly.purge(gd);\n",
       "            observer.disconnect();\n",
       "        }}\n",
       "}});\n",
       "\n",
       "// Listen for the removal of the full notebook cells\n",
       "var notebookContainer = gd.closest('#notebook-container');\n",
       "if (notebookContainer) {{\n",
       "    x.observe(notebookContainer, {childList: true});\n",
       "}}\n",
       "\n",
       "// Listen for the clearing of the current output cell\n",
       "var outputEl = gd.closest('.output');\n",
       "if (outputEl) {{\n",
       "    x.observe(outputEl, {childList: true});\n",
       "}}\n",
       "\n",
       "                        })                };                });            </script>        </div>"
      ]
     },
     "metadata": {},
     "output_type": "display_data"
    }
   ],
   "source": [
    "# Calculate the mean population density for each country\n",
    "avg_density = df.groupby(\"Country Name\")[\"Population density (people per sq. km of land area)\"].mean().reset_index()\n",
    "avg_density = avg_density.sort_values(by=\"Population density (people per sq. km of land area)\", ascending=False)\n",
    "\n",
    "# Create a bar chart showing the mean population density for each country\n",
    "fig = px.bar(avg_density, y=\"Country Name\", x=\"Population density (people per sq. km of land area)\",\n",
    "             labels={\"country\": \"Country\", \"Population density (people per sq. km of land area)\": \"Mean population density\"},\n",
    "             title=\"Mean Population Density by Country\", log_x=True)\n",
    "fig.show()\n"
   ]
  },
  {
   "cell_type": "markdown",
   "id": "bff06ee6",
   "metadata": {},
   "source": [
    "##### Explaining the code:\n",
    "We first drop any rows with missing values in the \"Population density\" column. We then add a new column to the DataFrame that shows the population density rank for each year. We then calculate the mean ranking across all years for each country and find the country/countries with the highest mean ranking based on population density. We create a bar chart showing the mean population density for each country through the years to get a better sense of the ranking. The x-axis is log-scaled for easier visualization."
   ]
  },
  {
   "cell_type": "markdown",
   "id": "2b552571",
   "metadata": {},
   "source": [
    "### Question 4\n",
    "#### What is the country (or countries) that has the highest 'Population density (people per sq. km of land area)' across all years? (i.e., which country has the highest average ranking in this category across each time point in the dataset?)"
   ]
  },
  {
   "cell_type": "code",
   "execution_count": 76,
   "id": "1604da98",
   "metadata": {},
   "outputs": [
    {
     "name": "stdout",
     "output_type": "stream",
     "text": [
      "The country (or countries) with the greatest increase in life expectancy is/are ['Maldives'], with an increase in expectancy of 36.916 years.\n"
     ]
    }
   ],
   "source": [
    "# Get the dataframe for the years between 1962 and 2007\n",
    "df_year = df[df['Year'] <= 2007]\n",
    "df_year = df_year[df_year['Year'] >= 1962]\n",
    "\n",
    "# Pivot the dataframe to have separate columns for each year\n",
    "df_pivot = df_year.pivot(index='Country Name', columns='Year', values='Life expectancy at birth, total (years)')\n",
    "\n",
    "# Calculate the difference in life expectancy\n",
    "df_pivot['diff'] = df_pivot[2007] - df_pivot[1962]\n",
    "\n",
    "# Find the country (or countries) with the max increase in life expectancy\n",
    "max_increase = np.max(df_pivot['diff'])\n",
    "\n",
    "# Find the country (or countries) that correspond to the max increase in life expectancy\n",
    "highest_increase_countries = df_pivot[df_pivot['diff'] == max_increase].index.tolist()\n",
    "\n",
    "print(f'The country (or countries) with the greatest increase in life expectancy is/are {highest_increase_countries}, with an increase in expectancy of {max_increase:.3f} years.')"
   ]
  },
  {
   "cell_type": "code",
   "execution_count": 77,
   "id": "54959cba",
   "metadata": {},
   "outputs": [
    {
     "data": {
      "application/vnd.plotly.v1+json": {
       "config": {
        "plotlyServerURL": "https://plot.ly"
       },
       "data": [
        {
         "alignmentgroup": "True",
         "hovertemplate": "diff=%{text}<br>Country Name=%{y}<extra></extra>",
         "legendgroup": "",
         "marker": {
          "color": "#636efa",
          "pattern": {
           "shape": ""
          }
         },
         "name": "",
         "offsetgroup": "",
         "orientation": "h",
         "showlegend": false,
         "text": [
          36.916146341499996,
          33.19895121950001,
          31.085146341499993,
          30.860756097599996,
          30.823097560999983,
          30.5996341464,
          29.942097560999997,
          27.215243902399997,
          26.650560975599987,
          26.608390244,
          26.340365853599998,
          26.140864032799996,
          26.017740384299998,
          25.9083414634,
          25.867439024299998,
          25.853365853699998,
          25.7134634147,
          24.8654146341,
          24.6139268293,
          24.2757804878,
          24.244170731700002,
          24.225780487799994,
          24.161698983100003,
          23.4224878049,
          23.338170731700004,
          23.034902439,
          23.031226136199997,
          23.022387012099998,
          23.021217616199998,
          22.883024390299994,
          22.78285365859999,
          22.304956571699996,
          22.304956571699996,
          22.300966809099997,
          22.260536585299995,
          22.1216112849,
          21.990048780400002,
          21.937073170700003,
          21.837073170800004,
          21.8178292682,
          21.7841707317,
          21.775999999999996,
          21.594024390199998,
          21.1984053268,
          21.115195121999996,
          20.8894878049,
          20.7981463415,
          20.768728024899993,
          20.67578048779999,
          20.5912682927,
          20.3782682927,
          20.290744968400006,
          20.1074878048,
          20.0187804878,
          19.9423170731,
          19.9152178534,
          19.789560975600004,
          19.7829268292,
          19.677975609800008,
          19.558731707300005,
          19.541780487800004,
          19.426140362099993,
          19.228998882800006,
          19.018609756100005,
          18.832073170799994,
          18.739097561,
          18.709853658499995,
          18.7093414634,
          18.474585365799996,
          18.434845975200005,
          18.313580842000007,
          17.809934495700006,
          17.780658536500006,
          17.721317073199998,
          17.681926829299996,
          17.4076829269,
          17.27174285880001,
          17.2217560975,
          17.183902439100002,
          17.179170731699998,
          17.129219512199988,
          16.923596187500003,
          16.713585365899995,
          16.658012623699996,
          16.5508780488,
          16.525586640499988,
          16.507317073200007,
          16.378939963800008,
          16.346536585399996,
          16.3145121951,
          16.236963813899997,
          16.157162581,
          15.908121951200009,
          15.8850975609,
          15.709829268299998,
          15.695900832700005,
          15.648146341399993,
          15.2574390244,
          15.108292682900014,
          15.088219512099997,
          14.966292682899997,
          14.948512195100001,
          14.744958255500002,
          14.7355853659,
          14.70646341470001,
          14.627804877999992,
          14.5568292683,
          14.418097560900001,
          14.3882439024,
          14.3618292683,
          14.196731707300003,
          14.073317073100007,
          14.00921951219999,
          13.954902439000001,
          13.915536585399998,
          13.912195121899998,
          13.905312479900005,
          13.878341463400005,
          13.803512195099998,
          13.735487804899996,
          13.682536585300006,
          13.612902438999996,
          13.590707317100005,
          13.440463414600003,
          13.310975609799996,
          13.298317073199996,
          13.201585365900009,
          13.1291145541,
          13.1291145541,
          13.127105735500002,
          13.09965853660001,
          12.95858536579999,
          12.953317073099996,
          12.660243902400005,
          12.4624878049,
          12.308476757200005,
          12.307439024399997,
          12.284390243899992,
          12.204682926800004,
          12.025951219500001,
          11.9615121951,
          11.9438292683,
          11.860195121899991,
          11.7290731708,
          11.6734146342,
          11.595682926800002,
          11.587902439000004,
          11.354146341499998,
          11.174658536599992,
          11.0214569754,
          10.9766562115,
          10.892463414599995,
          10.870975609799999,
          10.797560975700009,
          10.685609756100007,
          10.679707317000009,
          10.651439024399998,
          10.546756097499994,
          10.545365853600003,
          10.545000000000002,
          10.496936269599999,
          10.391097357600003,
          10.384804878099999,
          10.350243902399995,
          10.2973658537,
          10.232804878099998,
          10.073195122000001,
          10.030365853700005,
          9.881827049500004,
          9.841634146399983,
          9.836902439000006,
          9.639707317099997,
          9.635960698200009,
          9.582926829299993,
          9.576439024400003,
          9.5634146342,
          9.5534878048,
          9.453641894300006,
          9.3516341463,
          9.280926829199998,
          9.267317073200005,
          9.186682926800003,
          9.070634146299987,
          9.050170731700007,
          8.978731707300028,
          8.919512195099998,
          8.617268292700004,
          8.612658536599994,
          8.580707317000005,
          8.521951219499996,
          8.507097561000002,
          8.392682926799992,
          8.377658536599995,
          8.3686097561,
          8.264086659999997,
          8.161219512200006,
          8.111926829200002,
          8.047048780499999,
          8.015739247300004,
          7.868292682900005,
          7.8195365853999945,
          7.818195121999992,
          7.817073170699999,
          7.731707317100003,
          7.6543902438999964,
          7.549512195100007,
          7.467926829299998,
          7.432086828400003,
          7.305804878099998,
          7.054804878099986,
          6.947073170699994,
          6.937560975600007,
          6.77365853660001,
          6.623487804900002,
          6.244590015699998,
          5.957365853700004,
          5.8753658535999875,
          5.665707316999992,
          5.5367804878000015,
          5.499463414600001,
          5.372748366599993,
          5.2853658537,
          5.1327560976000015,
          5.120779302600013,
          4.072585365799995,
          3.7129756097999973,
          3.171463414599998,
          2.1832195122000044,
          1.9544390244000027,
          1.8046341463000033,
          1.5890243902000094,
          1.5675853657999994,
          0.4761463415000122,
          -0.9239024390000026,
          -2.5200243901999997,
          -8.100146341399999,
          null,
          null,
          null,
          null,
          null,
          null,
          null,
          null,
          null,
          null,
          null,
          null,
          null,
          null,
          null,
          null,
          null,
          null,
          null,
          null,
          null,
          null,
          null,
          null,
          null,
          null,
          null
         ],
         "textposition": "auto",
         "type": "bar",
         "x": [
          36.916146341499996,
          33.19895121950001,
          31.085146341499993,
          30.860756097599996,
          30.823097560999983,
          30.5996341464,
          29.942097560999997,
          27.215243902399997,
          26.650560975599987,
          26.608390244,
          26.340365853599998,
          26.140864032799996,
          26.017740384299998,
          25.9083414634,
          25.867439024299998,
          25.853365853699998,
          25.7134634147,
          24.8654146341,
          24.6139268293,
          24.2757804878,
          24.244170731700002,
          24.225780487799994,
          24.161698983100003,
          23.4224878049,
          23.338170731700004,
          23.034902439,
          23.031226136199997,
          23.022387012099998,
          23.021217616199998,
          22.883024390299994,
          22.78285365859999,
          22.304956571699996,
          22.304956571699996,
          22.300966809099997,
          22.260536585299995,
          22.1216112849,
          21.990048780400002,
          21.937073170700003,
          21.837073170800004,
          21.8178292682,
          21.7841707317,
          21.775999999999996,
          21.594024390199998,
          21.1984053268,
          21.115195121999996,
          20.8894878049,
          20.7981463415,
          20.768728024899993,
          20.67578048779999,
          20.5912682927,
          20.3782682927,
          20.290744968400006,
          20.1074878048,
          20.0187804878,
          19.9423170731,
          19.9152178534,
          19.789560975600004,
          19.7829268292,
          19.677975609800008,
          19.558731707300005,
          19.541780487800004,
          19.426140362099993,
          19.228998882800006,
          19.018609756100005,
          18.832073170799994,
          18.739097561,
          18.709853658499995,
          18.7093414634,
          18.474585365799996,
          18.434845975200005,
          18.313580842000007,
          17.809934495700006,
          17.780658536500006,
          17.721317073199998,
          17.681926829299996,
          17.4076829269,
          17.27174285880001,
          17.2217560975,
          17.183902439100002,
          17.179170731699998,
          17.129219512199988,
          16.923596187500003,
          16.713585365899995,
          16.658012623699996,
          16.5508780488,
          16.525586640499988,
          16.507317073200007,
          16.378939963800008,
          16.346536585399996,
          16.3145121951,
          16.236963813899997,
          16.157162581,
          15.908121951200009,
          15.8850975609,
          15.709829268299998,
          15.695900832700005,
          15.648146341399993,
          15.2574390244,
          15.108292682900014,
          15.088219512099997,
          14.966292682899997,
          14.948512195100001,
          14.744958255500002,
          14.7355853659,
          14.70646341470001,
          14.627804877999992,
          14.5568292683,
          14.418097560900001,
          14.3882439024,
          14.3618292683,
          14.196731707300003,
          14.073317073100007,
          14.00921951219999,
          13.954902439000001,
          13.915536585399998,
          13.912195121899998,
          13.905312479900005,
          13.878341463400005,
          13.803512195099998,
          13.735487804899996,
          13.682536585300006,
          13.612902438999996,
          13.590707317100005,
          13.440463414600003,
          13.310975609799996,
          13.298317073199996,
          13.201585365900009,
          13.1291145541,
          13.1291145541,
          13.127105735500002,
          13.09965853660001,
          12.95858536579999,
          12.953317073099996,
          12.660243902400005,
          12.4624878049,
          12.308476757200005,
          12.307439024399997,
          12.284390243899992,
          12.204682926800004,
          12.025951219500001,
          11.9615121951,
          11.9438292683,
          11.860195121899991,
          11.7290731708,
          11.6734146342,
          11.595682926800002,
          11.587902439000004,
          11.354146341499998,
          11.174658536599992,
          11.0214569754,
          10.9766562115,
          10.892463414599995,
          10.870975609799999,
          10.797560975700009,
          10.685609756100007,
          10.679707317000009,
          10.651439024399998,
          10.546756097499994,
          10.545365853600003,
          10.545000000000002,
          10.496936269599999,
          10.391097357600003,
          10.384804878099999,
          10.350243902399995,
          10.2973658537,
          10.232804878099998,
          10.073195122000001,
          10.030365853700005,
          9.881827049500004,
          9.841634146399983,
          9.836902439000006,
          9.639707317099997,
          9.635960698200009,
          9.582926829299993,
          9.576439024400003,
          9.5634146342,
          9.5534878048,
          9.453641894300006,
          9.3516341463,
          9.280926829199998,
          9.267317073200005,
          9.186682926800003,
          9.070634146299987,
          9.050170731700007,
          8.978731707300028,
          8.919512195099998,
          8.617268292700004,
          8.612658536599994,
          8.580707317000005,
          8.521951219499996,
          8.507097561000002,
          8.392682926799992,
          8.377658536599995,
          8.3686097561,
          8.264086659999997,
          8.161219512200006,
          8.111926829200002,
          8.047048780499999,
          8.015739247300004,
          7.868292682900005,
          7.8195365853999945,
          7.818195121999992,
          7.817073170699999,
          7.731707317100003,
          7.6543902438999964,
          7.549512195100007,
          7.467926829299998,
          7.432086828400003,
          7.305804878099998,
          7.054804878099986,
          6.947073170699994,
          6.937560975600007,
          6.77365853660001,
          6.623487804900002,
          6.244590015699998,
          5.957365853700004,
          5.8753658535999875,
          5.665707316999992,
          5.5367804878000015,
          5.499463414600001,
          5.372748366599993,
          5.2853658537,
          5.1327560976000015,
          5.120779302600013,
          4.072585365799995,
          3.7129756097999973,
          3.171463414599998,
          2.1832195122000044,
          1.9544390244000027,
          1.8046341463000033,
          1.5890243902000094,
          1.5675853657999994,
          0.4761463415000122,
          -0.9239024390000026,
          -2.5200243901999997,
          -8.100146341399999,
          null,
          null,
          null,
          null,
          null,
          null,
          null,
          null,
          null,
          null,
          null,
          null,
          null,
          null,
          null,
          null,
          null,
          null,
          null,
          null,
          null,
          null,
          null,
          null,
          null,
          null,
          null
         ],
         "xaxis": "x",
         "y": [
          "Maldives",
          "Bhutan",
          "Timor-Leste",
          "Tunisia",
          "Oman",
          "Nepal",
          "China",
          "Yemen, Rep.",
          "Saudi Arabia",
          "Iran, Islamic Rep.",
          "Turkey",
          "East Asia & Pacific (IDA & IBRD countries)",
          "East Asia & Pacific (excluding high income)",
          "Gambia, The",
          "Libya",
          "Algeria",
          "Mali",
          "Korea, Rep.",
          "Afghanistan",
          "Nicaragua",
          "Peru",
          "Honduras",
          "East Asia & Pacific",
          "Guatemala",
          "Senegal",
          "Cambodia",
          "Middle East & North Africa (excluding high income)",
          "Middle East & North Africa",
          "Middle East & North Africa (IDA & IBRD countries)",
          "India",
          "Cabo Verde",
          "South Asia",
          "South Asia (IDA & IBRD)",
          "Late-demographic dividend",
          "Vanuatu",
          "Upper middle income",
          "Morocco",
          "Bolivia",
          "Liberia",
          "Eritrea",
          "United Arab Emirates",
          "Bangladesh",
          "Papua New Guinea",
          "Arab World",
          "Madagascar",
          "Bahrain",
          "Chile",
          "IBRD only",
          "Egypt, Arab Rep.",
          "Samoa",
          "Syrian Arab Republic",
          "Early-demographic dividend",
          "Ecuador",
          "Gabon",
          "Myanmar",
          "Middle income",
          "Niger",
          "Burkina Faso",
          "Benin",
          "South Sudan",
          "El Salvador",
          "Low & middle income",
          "IDA & IBRD total",
          "Lao PDR",
          "Dominican Republic",
          "Guinea",
          "Jordan",
          "Ethiopia",
          "Comoros",
          "Least developed countries: UN classification",
          "Lower middle income",
          "IDA only",
          "Iraq",
          "French Polynesia",
          "Indonesia",
          "Mexico",
          "Fragile and conflict affected situations",
          "Pakistan",
          "Equatorial Guinea",
          "Brazil",
          "Thailand",
          "Low income",
          "Haiti",
          "Latin America & the Caribbean (IDA & IBRD countries)",
          "Korea, Dem. People�s Rep.",
          "Latin America & Caribbean (excluding high income)",
          "New Caledonia",
          "Latin America & Caribbean",
          "Costa Rica",
          "Mauritania",
          "World",
          "Heavily indebted poor countries (HIPC)",
          "Mongolia",
          "Solomon Islands",
          "Mozambique",
          "IDA total",
          "Angola",
          "Somalia",
          "Rwanda",
          "Guam",
          "Colombia",
          "St. Lucia",
          "Pre-demographic dividend",
          "Sierra Leone",
          "Kiribati",
          "Portugal",
          "Qatar",
          "Panama",
          "Guinea-Bissau",
          "Virgin Islands",
          "Hong Kong SAR, China",
          "Vietnam",
          "Singapore",
          "Djibouti",
          "Tanzania",
          "Japan",
          "Pacific island small states",
          "Togo",
          "Bosnia and Herzegovina",
          "Lebanon",
          "Sri Lanka",
          "Congo, Dem. Rep.",
          "Sao Tome and Principe",
          "Macao SAR, China",
          "Cuba",
          "Malawi",
          "Malaysia",
          "Sub-Saharan Africa",
          "Sub-Saharan Africa (IDA & IBRD countries)",
          "Sub-Saharan Africa (excluding high income)",
          "Brunei Darussalam",
          "Venezuela, RB",
          "Ghana",
          "Barbados",
          "Macedonia, FYR",
          "IDA blend",
          "Albania",
          "Italy",
          "Antigua and Barbuda",
          "Fiji",
          "Kuwait",
          "Mauritius",
          "St. Vincent and the Grenadines",
          "Nigeria",
          "Sudan",
          "Burundi",
          "Malta",
          "Spain",
          "Grenada",
          "OECD members",
          "Other small states",
          "Kyrgyz Republic",
          "Austria",
          "France",
          "Finland",
          "Namibia",
          "Bahamas, The",
          "Greece",
          "Switzerland",
          "Cote d'Ivoire",
          "Euro area",
          "High income",
          "Luxembourg",
          "Australia",
          "Croatia",
          "Tajikistan",
          "Cameroon",
          "Chad",
          "Post-demographic dividend",
          "Germany",
          "Micronesia, Fed. Sts.",
          "Tonga",
          "Small states",
          "Slovenia",
          "Argentina",
          "Belgium",
          "Ireland",
          "European Union",
          "Turkmenistan",
          "Puerto Rico",
          "Canada",
          "Georgia",
          "Suriname",
          "Philippines",
          "Montenegro",
          "New Zealand",
          "Cyprus",
          "Jamaica",
          "Channel Islands",
          "United Kingdom",
          "Uganda",
          "Israel",
          "Belize",
          "Central African Republic",
          "Caribbean small states",
          "Aruba",
          "Azerbaijan",
          "Kenya",
          "North America",
          "United States",
          "Botswana",
          "Uzbekistan",
          "Poland",
          "Iceland",
          "Uruguay",
          "Sweden",
          "Paraguay",
          "Europe & Central Asia",
          "Kazakhstan",
          "Armenia",
          "Norway",
          "Czech Republic",
          "Netherlands",
          "Zambia",
          "Central Europe and the Baltics",
          "Congo, Rep.",
          "Denmark",
          "Moldova",
          "Romania",
          "Trinidad and Tobago",
          "Europe & Central Asia (IDA & IBRD countries)",
          "Hungary",
          "Guyana",
          "Europe & Central Asia (excluding high income)",
          "Estonia",
          "Slovak Republic",
          "Bulgaria",
          "South Africa",
          "Swaziland",
          "Lithuania",
          "Latvia",
          "Belarus",
          "Russian Federation",
          "Ukraine",
          "Lesotho",
          "Zimbabwe",
          "American Samoa",
          "Andorra",
          "Bermuda",
          "British Virgin Islands",
          "Cayman Islands",
          "Curacao",
          "Dominica",
          "Faroe Islands",
          "Gibraltar",
          "Greenland",
          "Isle of Man",
          "Kosovo",
          "Liechtenstein",
          "Marshall Islands",
          "Monaco",
          "Nauru",
          "Northern Mariana Islands",
          "Palau",
          "San Marino",
          "Serbia",
          "Seychelles",
          "Sint Maarten (Dutch part)",
          "St. Kitts and Nevis",
          "St. Martin (French part)",
          "Turks and Caicos Islands",
          "Tuvalu",
          "West Bank and Gaza"
         ],
         "yaxis": "y"
        }
       ],
       "layout": {
        "barmode": "relative",
        "legend": {
         "tracegroupgap": 0
        },
        "margin": {
         "t": 60
        },
        "template": {
         "data": {
          "bar": [
           {
            "error_x": {
             "color": "#2a3f5f"
            },
            "error_y": {
             "color": "#2a3f5f"
            },
            "marker": {
             "line": {
              "color": "#E5ECF6",
              "width": 0.5
             },
             "pattern": {
              "fillmode": "overlay",
              "size": 10,
              "solidity": 0.2
             }
            },
            "type": "bar"
           }
          ],
          "barpolar": [
           {
            "marker": {
             "line": {
              "color": "#E5ECF6",
              "width": 0.5
             },
             "pattern": {
              "fillmode": "overlay",
              "size": 10,
              "solidity": 0.2
             }
            },
            "type": "barpolar"
           }
          ],
          "carpet": [
           {
            "aaxis": {
             "endlinecolor": "#2a3f5f",
             "gridcolor": "white",
             "linecolor": "white",
             "minorgridcolor": "white",
             "startlinecolor": "#2a3f5f"
            },
            "baxis": {
             "endlinecolor": "#2a3f5f",
             "gridcolor": "white",
             "linecolor": "white",
             "minorgridcolor": "white",
             "startlinecolor": "#2a3f5f"
            },
            "type": "carpet"
           }
          ],
          "choropleth": [
           {
            "colorbar": {
             "outlinewidth": 0,
             "ticks": ""
            },
            "type": "choropleth"
           }
          ],
          "contour": [
           {
            "colorbar": {
             "outlinewidth": 0,
             "ticks": ""
            },
            "colorscale": [
             [
              0,
              "#0d0887"
             ],
             [
              0.1111111111111111,
              "#46039f"
             ],
             [
              0.2222222222222222,
              "#7201a8"
             ],
             [
              0.3333333333333333,
              "#9c179e"
             ],
             [
              0.4444444444444444,
              "#bd3786"
             ],
             [
              0.5555555555555556,
              "#d8576b"
             ],
             [
              0.6666666666666666,
              "#ed7953"
             ],
             [
              0.7777777777777778,
              "#fb9f3a"
             ],
             [
              0.8888888888888888,
              "#fdca26"
             ],
             [
              1,
              "#f0f921"
             ]
            ],
            "type": "contour"
           }
          ],
          "contourcarpet": [
           {
            "colorbar": {
             "outlinewidth": 0,
             "ticks": ""
            },
            "type": "contourcarpet"
           }
          ],
          "heatmap": [
           {
            "colorbar": {
             "outlinewidth": 0,
             "ticks": ""
            },
            "colorscale": [
             [
              0,
              "#0d0887"
             ],
             [
              0.1111111111111111,
              "#46039f"
             ],
             [
              0.2222222222222222,
              "#7201a8"
             ],
             [
              0.3333333333333333,
              "#9c179e"
             ],
             [
              0.4444444444444444,
              "#bd3786"
             ],
             [
              0.5555555555555556,
              "#d8576b"
             ],
             [
              0.6666666666666666,
              "#ed7953"
             ],
             [
              0.7777777777777778,
              "#fb9f3a"
             ],
             [
              0.8888888888888888,
              "#fdca26"
             ],
             [
              1,
              "#f0f921"
             ]
            ],
            "type": "heatmap"
           }
          ],
          "heatmapgl": [
           {
            "colorbar": {
             "outlinewidth": 0,
             "ticks": ""
            },
            "colorscale": [
             [
              0,
              "#0d0887"
             ],
             [
              0.1111111111111111,
              "#46039f"
             ],
             [
              0.2222222222222222,
              "#7201a8"
             ],
             [
              0.3333333333333333,
              "#9c179e"
             ],
             [
              0.4444444444444444,
              "#bd3786"
             ],
             [
              0.5555555555555556,
              "#d8576b"
             ],
             [
              0.6666666666666666,
              "#ed7953"
             ],
             [
              0.7777777777777778,
              "#fb9f3a"
             ],
             [
              0.8888888888888888,
              "#fdca26"
             ],
             [
              1,
              "#f0f921"
             ]
            ],
            "type": "heatmapgl"
           }
          ],
          "histogram": [
           {
            "marker": {
             "pattern": {
              "fillmode": "overlay",
              "size": 10,
              "solidity": 0.2
             }
            },
            "type": "histogram"
           }
          ],
          "histogram2d": [
           {
            "colorbar": {
             "outlinewidth": 0,
             "ticks": ""
            },
            "colorscale": [
             [
              0,
              "#0d0887"
             ],
             [
              0.1111111111111111,
              "#46039f"
             ],
             [
              0.2222222222222222,
              "#7201a8"
             ],
             [
              0.3333333333333333,
              "#9c179e"
             ],
             [
              0.4444444444444444,
              "#bd3786"
             ],
             [
              0.5555555555555556,
              "#d8576b"
             ],
             [
              0.6666666666666666,
              "#ed7953"
             ],
             [
              0.7777777777777778,
              "#fb9f3a"
             ],
             [
              0.8888888888888888,
              "#fdca26"
             ],
             [
              1,
              "#f0f921"
             ]
            ],
            "type": "histogram2d"
           }
          ],
          "histogram2dcontour": [
           {
            "colorbar": {
             "outlinewidth": 0,
             "ticks": ""
            },
            "colorscale": [
             [
              0,
              "#0d0887"
             ],
             [
              0.1111111111111111,
              "#46039f"
             ],
             [
              0.2222222222222222,
              "#7201a8"
             ],
             [
              0.3333333333333333,
              "#9c179e"
             ],
             [
              0.4444444444444444,
              "#bd3786"
             ],
             [
              0.5555555555555556,
              "#d8576b"
             ],
             [
              0.6666666666666666,
              "#ed7953"
             ],
             [
              0.7777777777777778,
              "#fb9f3a"
             ],
             [
              0.8888888888888888,
              "#fdca26"
             ],
             [
              1,
              "#f0f921"
             ]
            ],
            "type": "histogram2dcontour"
           }
          ],
          "mesh3d": [
           {
            "colorbar": {
             "outlinewidth": 0,
             "ticks": ""
            },
            "type": "mesh3d"
           }
          ],
          "parcoords": [
           {
            "line": {
             "colorbar": {
              "outlinewidth": 0,
              "ticks": ""
             }
            },
            "type": "parcoords"
           }
          ],
          "pie": [
           {
            "automargin": true,
            "type": "pie"
           }
          ],
          "scatter": [
           {
            "fillpattern": {
             "fillmode": "overlay",
             "size": 10,
             "solidity": 0.2
            },
            "type": "scatter"
           }
          ],
          "scatter3d": [
           {
            "line": {
             "colorbar": {
              "outlinewidth": 0,
              "ticks": ""
             }
            },
            "marker": {
             "colorbar": {
              "outlinewidth": 0,
              "ticks": ""
             }
            },
            "type": "scatter3d"
           }
          ],
          "scattercarpet": [
           {
            "marker": {
             "colorbar": {
              "outlinewidth": 0,
              "ticks": ""
             }
            },
            "type": "scattercarpet"
           }
          ],
          "scattergeo": [
           {
            "marker": {
             "colorbar": {
              "outlinewidth": 0,
              "ticks": ""
             }
            },
            "type": "scattergeo"
           }
          ],
          "scattergl": [
           {
            "marker": {
             "colorbar": {
              "outlinewidth": 0,
              "ticks": ""
             }
            },
            "type": "scattergl"
           }
          ],
          "scattermapbox": [
           {
            "marker": {
             "colorbar": {
              "outlinewidth": 0,
              "ticks": ""
             }
            },
            "type": "scattermapbox"
           }
          ],
          "scatterpolar": [
           {
            "marker": {
             "colorbar": {
              "outlinewidth": 0,
              "ticks": ""
             }
            },
            "type": "scatterpolar"
           }
          ],
          "scatterpolargl": [
           {
            "marker": {
             "colorbar": {
              "outlinewidth": 0,
              "ticks": ""
             }
            },
            "type": "scatterpolargl"
           }
          ],
          "scatterternary": [
           {
            "marker": {
             "colorbar": {
              "outlinewidth": 0,
              "ticks": ""
             }
            },
            "type": "scatterternary"
           }
          ],
          "surface": [
           {
            "colorbar": {
             "outlinewidth": 0,
             "ticks": ""
            },
            "colorscale": [
             [
              0,
              "#0d0887"
             ],
             [
              0.1111111111111111,
              "#46039f"
             ],
             [
              0.2222222222222222,
              "#7201a8"
             ],
             [
              0.3333333333333333,
              "#9c179e"
             ],
             [
              0.4444444444444444,
              "#bd3786"
             ],
             [
              0.5555555555555556,
              "#d8576b"
             ],
             [
              0.6666666666666666,
              "#ed7953"
             ],
             [
              0.7777777777777778,
              "#fb9f3a"
             ],
             [
              0.8888888888888888,
              "#fdca26"
             ],
             [
              1,
              "#f0f921"
             ]
            ],
            "type": "surface"
           }
          ],
          "table": [
           {
            "cells": {
             "fill": {
              "color": "#EBF0F8"
             },
             "line": {
              "color": "white"
             }
            },
            "header": {
             "fill": {
              "color": "#C8D4E3"
             },
             "line": {
              "color": "white"
             }
            },
            "type": "table"
           }
          ]
         },
         "layout": {
          "annotationdefaults": {
           "arrowcolor": "#2a3f5f",
           "arrowhead": 0,
           "arrowwidth": 1
          },
          "autotypenumbers": "strict",
          "coloraxis": {
           "colorbar": {
            "outlinewidth": 0,
            "ticks": ""
           }
          },
          "colorscale": {
           "diverging": [
            [
             0,
             "#8e0152"
            ],
            [
             0.1,
             "#c51b7d"
            ],
            [
             0.2,
             "#de77ae"
            ],
            [
             0.3,
             "#f1b6da"
            ],
            [
             0.4,
             "#fde0ef"
            ],
            [
             0.5,
             "#f7f7f7"
            ],
            [
             0.6,
             "#e6f5d0"
            ],
            [
             0.7,
             "#b8e186"
            ],
            [
             0.8,
             "#7fbc41"
            ],
            [
             0.9,
             "#4d9221"
            ],
            [
             1,
             "#276419"
            ]
           ],
           "sequential": [
            [
             0,
             "#0d0887"
            ],
            [
             0.1111111111111111,
             "#46039f"
            ],
            [
             0.2222222222222222,
             "#7201a8"
            ],
            [
             0.3333333333333333,
             "#9c179e"
            ],
            [
             0.4444444444444444,
             "#bd3786"
            ],
            [
             0.5555555555555556,
             "#d8576b"
            ],
            [
             0.6666666666666666,
             "#ed7953"
            ],
            [
             0.7777777777777778,
             "#fb9f3a"
            ],
            [
             0.8888888888888888,
             "#fdca26"
            ],
            [
             1,
             "#f0f921"
            ]
           ],
           "sequentialminus": [
            [
             0,
             "#0d0887"
            ],
            [
             0.1111111111111111,
             "#46039f"
            ],
            [
             0.2222222222222222,
             "#7201a8"
            ],
            [
             0.3333333333333333,
             "#9c179e"
            ],
            [
             0.4444444444444444,
             "#bd3786"
            ],
            [
             0.5555555555555556,
             "#d8576b"
            ],
            [
             0.6666666666666666,
             "#ed7953"
            ],
            [
             0.7777777777777778,
             "#fb9f3a"
            ],
            [
             0.8888888888888888,
             "#fdca26"
            ],
            [
             1,
             "#f0f921"
            ]
           ]
          },
          "colorway": [
           "#636efa",
           "#EF553B",
           "#00cc96",
           "#ab63fa",
           "#FFA15A",
           "#19d3f3",
           "#FF6692",
           "#B6E880",
           "#FF97FF",
           "#FECB52"
          ],
          "font": {
           "color": "#2a3f5f"
          },
          "geo": {
           "bgcolor": "white",
           "lakecolor": "white",
           "landcolor": "#E5ECF6",
           "showlakes": true,
           "showland": true,
           "subunitcolor": "white"
          },
          "hoverlabel": {
           "align": "left"
          },
          "hovermode": "closest",
          "mapbox": {
           "style": "light"
          },
          "paper_bgcolor": "white",
          "plot_bgcolor": "#E5ECF6",
          "polar": {
           "angularaxis": {
            "gridcolor": "white",
            "linecolor": "white",
            "ticks": ""
           },
           "bgcolor": "#E5ECF6",
           "radialaxis": {
            "gridcolor": "white",
            "linecolor": "white",
            "ticks": ""
           }
          },
          "scene": {
           "xaxis": {
            "backgroundcolor": "#E5ECF6",
            "gridcolor": "white",
            "gridwidth": 2,
            "linecolor": "white",
            "showbackground": true,
            "ticks": "",
            "zerolinecolor": "white"
           },
           "yaxis": {
            "backgroundcolor": "#E5ECF6",
            "gridcolor": "white",
            "gridwidth": 2,
            "linecolor": "white",
            "showbackground": true,
            "ticks": "",
            "zerolinecolor": "white"
           },
           "zaxis": {
            "backgroundcolor": "#E5ECF6",
            "gridcolor": "white",
            "gridwidth": 2,
            "linecolor": "white",
            "showbackground": true,
            "ticks": "",
            "zerolinecolor": "white"
           }
          },
          "shapedefaults": {
           "line": {
            "color": "#2a3f5f"
           }
          },
          "ternary": {
           "aaxis": {
            "gridcolor": "white",
            "linecolor": "white",
            "ticks": ""
           },
           "baxis": {
            "gridcolor": "white",
            "linecolor": "white",
            "ticks": ""
           },
           "bgcolor": "#E5ECF6",
           "caxis": {
            "gridcolor": "white",
            "linecolor": "white",
            "ticks": ""
           }
          },
          "title": {
           "x": 0.05
          },
          "xaxis": {
           "automargin": true,
           "gridcolor": "white",
           "linecolor": "white",
           "ticks": "",
           "title": {
            "standoff": 15
           },
           "zerolinecolor": "white",
           "zerolinewidth": 2
          },
          "yaxis": {
           "automargin": true,
           "gridcolor": "white",
           "linecolor": "white",
           "ticks": "",
           "title": {
            "standoff": 15
           },
           "zerolinecolor": "white",
           "zerolinewidth": 2
          }
         }
        },
        "title": {
         "text": "Difference in Life Expectancy between 1962 and 2007 by Country"
        },
        "xaxis": {
         "anchor": "y",
         "domain": [
          0,
          1
         ],
         "title": {
          "text": "Increase in Life Expectancy (years)"
         }
        },
        "yaxis": {
         "anchor": "x",
         "domain": [
          0,
          1
         ],
         "title": {
          "text": "Country"
         }
        }
       }
      },
      "text/html": [
       "<div>                            <div id=\"3c7bd976-6734-4f04-b646-7f7adeec07db\" class=\"plotly-graph-div\" style=\"height:525px; width:100%;\"></div>            <script type=\"text/javascript\">                require([\"plotly\"], function(Plotly) {                    window.PLOTLYENV=window.PLOTLYENV || {};                                    if (document.getElementById(\"3c7bd976-6734-4f04-b646-7f7adeec07db\")) {                    Plotly.newPlot(                        \"3c7bd976-6734-4f04-b646-7f7adeec07db\",                        [{\"alignmentgroup\":\"True\",\"hovertemplate\":\"diff=%{text}<br>Country Name=%{y}<extra></extra>\",\"legendgroup\":\"\",\"marker\":{\"color\":\"#636efa\",\"pattern\":{\"shape\":\"\"}},\"name\":\"\",\"offsetgroup\":\"\",\"orientation\":\"h\",\"showlegend\":false,\"text\":[36.916146341499996,33.19895121950001,31.085146341499993,30.860756097599996,30.823097560999983,30.5996341464,29.942097560999997,27.215243902399997,26.650560975599987,26.608390244,26.340365853599998,26.140864032799996,26.017740384299998,25.9083414634,25.867439024299998,25.853365853699998,25.7134634147,24.8654146341,24.6139268293,24.2757804878,24.244170731700002,24.225780487799994,24.161698983100003,23.4224878049,23.338170731700004,23.034902439,23.031226136199997,23.022387012099998,23.021217616199998,22.883024390299994,22.78285365859999,22.304956571699996,22.304956571699996,22.300966809099997,22.260536585299995,22.1216112849,21.990048780400002,21.937073170700003,21.837073170800004,21.8178292682,21.7841707317,21.775999999999996,21.594024390199998,21.1984053268,21.115195121999996,20.8894878049,20.7981463415,20.768728024899993,20.67578048779999,20.5912682927,20.3782682927,20.290744968400006,20.1074878048,20.0187804878,19.9423170731,19.9152178534,19.789560975600004,19.7829268292,19.677975609800008,19.558731707300005,19.541780487800004,19.426140362099993,19.228998882800006,19.018609756100005,18.832073170799994,18.739097561,18.709853658499995,18.7093414634,18.474585365799996,18.434845975200005,18.313580842000007,17.809934495700006,17.780658536500006,17.721317073199998,17.681926829299996,17.4076829269,17.27174285880001,17.2217560975,17.183902439100002,17.179170731699998,17.129219512199988,16.923596187500003,16.713585365899995,16.658012623699996,16.5508780488,16.525586640499988,16.507317073200007,16.378939963800008,16.346536585399996,16.3145121951,16.236963813899997,16.157162581,15.908121951200009,15.8850975609,15.709829268299998,15.695900832700005,15.648146341399993,15.2574390244,15.108292682900014,15.088219512099997,14.966292682899997,14.948512195100001,14.744958255500002,14.7355853659,14.70646341470001,14.627804877999992,14.5568292683,14.418097560900001,14.3882439024,14.3618292683,14.196731707300003,14.073317073100007,14.00921951219999,13.954902439000001,13.915536585399998,13.912195121899998,13.905312479900005,13.878341463400005,13.803512195099998,13.735487804899996,13.682536585300006,13.612902438999996,13.590707317100005,13.440463414600003,13.310975609799996,13.298317073199996,13.201585365900009,13.1291145541,13.1291145541,13.127105735500002,13.09965853660001,12.95858536579999,12.953317073099996,12.660243902400005,12.4624878049,12.308476757200005,12.307439024399997,12.284390243899992,12.204682926800004,12.025951219500001,11.9615121951,11.9438292683,11.860195121899991,11.7290731708,11.6734146342,11.595682926800002,11.587902439000004,11.354146341499998,11.174658536599992,11.0214569754,10.9766562115,10.892463414599995,10.870975609799999,10.797560975700009,10.685609756100007,10.679707317000009,10.651439024399998,10.546756097499994,10.545365853600003,10.545000000000002,10.496936269599999,10.391097357600003,10.384804878099999,10.350243902399995,10.2973658537,10.232804878099998,10.073195122000001,10.030365853700005,9.881827049500004,9.841634146399983,9.836902439000006,9.639707317099997,9.635960698200009,9.582926829299993,9.576439024400003,9.5634146342,9.5534878048,9.453641894300006,9.3516341463,9.280926829199998,9.267317073200005,9.186682926800003,9.070634146299987,9.050170731700007,8.978731707300028,8.919512195099998,8.617268292700004,8.612658536599994,8.580707317000005,8.521951219499996,8.507097561000002,8.392682926799992,8.377658536599995,8.3686097561,8.264086659999997,8.161219512200006,8.111926829200002,8.047048780499999,8.015739247300004,7.868292682900005,7.8195365853999945,7.818195121999992,7.817073170699999,7.731707317100003,7.6543902438999964,7.549512195100007,7.467926829299998,7.432086828400003,7.305804878099998,7.054804878099986,6.947073170699994,6.937560975600007,6.77365853660001,6.623487804900002,6.244590015699998,5.957365853700004,5.8753658535999875,5.665707316999992,5.5367804878000015,5.499463414600001,5.372748366599993,5.2853658537,5.1327560976000015,5.120779302600013,4.072585365799995,3.7129756097999973,3.171463414599998,2.1832195122000044,1.9544390244000027,1.8046341463000033,1.5890243902000094,1.5675853657999994,0.4761463415000122,-0.9239024390000026,-2.5200243901999997,-8.100146341399999,null,null,null,null,null,null,null,null,null,null,null,null,null,null,null,null,null,null,null,null,null,null,null,null,null,null,null],\"textposition\":\"auto\",\"x\":[36.916146341499996,33.19895121950001,31.085146341499993,30.860756097599996,30.823097560999983,30.5996341464,29.942097560999997,27.215243902399997,26.650560975599987,26.608390244,26.340365853599998,26.140864032799996,26.017740384299998,25.9083414634,25.867439024299998,25.853365853699998,25.7134634147,24.8654146341,24.6139268293,24.2757804878,24.244170731700002,24.225780487799994,24.161698983100003,23.4224878049,23.338170731700004,23.034902439,23.031226136199997,23.022387012099998,23.021217616199998,22.883024390299994,22.78285365859999,22.304956571699996,22.304956571699996,22.300966809099997,22.260536585299995,22.1216112849,21.990048780400002,21.937073170700003,21.837073170800004,21.8178292682,21.7841707317,21.775999999999996,21.594024390199998,21.1984053268,21.115195121999996,20.8894878049,20.7981463415,20.768728024899993,20.67578048779999,20.5912682927,20.3782682927,20.290744968400006,20.1074878048,20.0187804878,19.9423170731,19.9152178534,19.789560975600004,19.7829268292,19.677975609800008,19.558731707300005,19.541780487800004,19.426140362099993,19.228998882800006,19.018609756100005,18.832073170799994,18.739097561,18.709853658499995,18.7093414634,18.474585365799996,18.434845975200005,18.313580842000007,17.809934495700006,17.780658536500006,17.721317073199998,17.681926829299996,17.4076829269,17.27174285880001,17.2217560975,17.183902439100002,17.179170731699998,17.129219512199988,16.923596187500003,16.713585365899995,16.658012623699996,16.5508780488,16.525586640499988,16.507317073200007,16.378939963800008,16.346536585399996,16.3145121951,16.236963813899997,16.157162581,15.908121951200009,15.8850975609,15.709829268299998,15.695900832700005,15.648146341399993,15.2574390244,15.108292682900014,15.088219512099997,14.966292682899997,14.948512195100001,14.744958255500002,14.7355853659,14.70646341470001,14.627804877999992,14.5568292683,14.418097560900001,14.3882439024,14.3618292683,14.196731707300003,14.073317073100007,14.00921951219999,13.954902439000001,13.915536585399998,13.912195121899998,13.905312479900005,13.878341463400005,13.803512195099998,13.735487804899996,13.682536585300006,13.612902438999996,13.590707317100005,13.440463414600003,13.310975609799996,13.298317073199996,13.201585365900009,13.1291145541,13.1291145541,13.127105735500002,13.09965853660001,12.95858536579999,12.953317073099996,12.660243902400005,12.4624878049,12.308476757200005,12.307439024399997,12.284390243899992,12.204682926800004,12.025951219500001,11.9615121951,11.9438292683,11.860195121899991,11.7290731708,11.6734146342,11.595682926800002,11.587902439000004,11.354146341499998,11.174658536599992,11.0214569754,10.9766562115,10.892463414599995,10.870975609799999,10.797560975700009,10.685609756100007,10.679707317000009,10.651439024399998,10.546756097499994,10.545365853600003,10.545000000000002,10.496936269599999,10.391097357600003,10.384804878099999,10.350243902399995,10.2973658537,10.232804878099998,10.073195122000001,10.030365853700005,9.881827049500004,9.841634146399983,9.836902439000006,9.639707317099997,9.635960698200009,9.582926829299993,9.576439024400003,9.5634146342,9.5534878048,9.453641894300006,9.3516341463,9.280926829199998,9.267317073200005,9.186682926800003,9.070634146299987,9.050170731700007,8.978731707300028,8.919512195099998,8.617268292700004,8.612658536599994,8.580707317000005,8.521951219499996,8.507097561000002,8.392682926799992,8.377658536599995,8.3686097561,8.264086659999997,8.161219512200006,8.111926829200002,8.047048780499999,8.015739247300004,7.868292682900005,7.8195365853999945,7.818195121999992,7.817073170699999,7.731707317100003,7.6543902438999964,7.549512195100007,7.467926829299998,7.432086828400003,7.305804878099998,7.054804878099986,6.947073170699994,6.937560975600007,6.77365853660001,6.623487804900002,6.244590015699998,5.957365853700004,5.8753658535999875,5.665707316999992,5.5367804878000015,5.499463414600001,5.372748366599993,5.2853658537,5.1327560976000015,5.120779302600013,4.072585365799995,3.7129756097999973,3.171463414599998,2.1832195122000044,1.9544390244000027,1.8046341463000033,1.5890243902000094,1.5675853657999994,0.4761463415000122,-0.9239024390000026,-2.5200243901999997,-8.100146341399999,null,null,null,null,null,null,null,null,null,null,null,null,null,null,null,null,null,null,null,null,null,null,null,null,null,null,null],\"xaxis\":\"x\",\"y\":[\"Maldives\",\"Bhutan\",\"Timor-Leste\",\"Tunisia\",\"Oman\",\"Nepal\",\"China\",\"Yemen, Rep.\",\"Saudi Arabia\",\"Iran, Islamic Rep.\",\"Turkey\",\"East Asia & Pacific (IDA & IBRD countries)\",\"East Asia & Pacific (excluding high income)\",\"Gambia, The\",\"Libya\",\"Algeria\",\"Mali\",\"Korea, Rep.\",\"Afghanistan\",\"Nicaragua\",\"Peru\",\"Honduras\",\"East Asia & Pacific\",\"Guatemala\",\"Senegal\",\"Cambodia\",\"Middle East & North Africa (excluding high income)\",\"Middle East & North Africa\",\"Middle East & North Africa (IDA & IBRD countries)\",\"India\",\"Cabo Verde\",\"South Asia\",\"South Asia (IDA & IBRD)\",\"Late-demographic dividend\",\"Vanuatu\",\"Upper middle income\",\"Morocco\",\"Bolivia\",\"Liberia\",\"Eritrea\",\"United Arab Emirates\",\"Bangladesh\",\"Papua New Guinea\",\"Arab World\",\"Madagascar\",\"Bahrain\",\"Chile\",\"IBRD only\",\"Egypt, Arab Rep.\",\"Samoa\",\"Syrian Arab Republic\",\"Early-demographic dividend\",\"Ecuador\",\"Gabon\",\"Myanmar\",\"Middle income\",\"Niger\",\"Burkina Faso\",\"Benin\",\"South Sudan\",\"El Salvador\",\"Low & middle income\",\"IDA & IBRD total\",\"Lao PDR\",\"Dominican Republic\",\"Guinea\",\"Jordan\",\"Ethiopia\",\"Comoros\",\"Least developed countries: UN classification\",\"Lower middle income\",\"IDA only\",\"Iraq\",\"French Polynesia\",\"Indonesia\",\"Mexico\",\"Fragile and conflict affected situations\",\"Pakistan\",\"Equatorial Guinea\",\"Brazil\",\"Thailand\",\"Low income\",\"Haiti\",\"Latin America & the Caribbean (IDA & IBRD countries)\",\"Korea, Dem. People\\ufffds Rep.\",\"Latin America & Caribbean (excluding high income)\",\"New Caledonia\",\"Latin America & Caribbean\",\"Costa Rica\",\"Mauritania\",\"World\",\"Heavily indebted poor countries (HIPC)\",\"Mongolia\",\"Solomon Islands\",\"Mozambique\",\"IDA total\",\"Angola\",\"Somalia\",\"Rwanda\",\"Guam\",\"Colombia\",\"St. Lucia\",\"Pre-demographic dividend\",\"Sierra Leone\",\"Kiribati\",\"Portugal\",\"Qatar\",\"Panama\",\"Guinea-Bissau\",\"Virgin Islands\",\"Hong Kong SAR, China\",\"Vietnam\",\"Singapore\",\"Djibouti\",\"Tanzania\",\"Japan\",\"Pacific island small states\",\"Togo\",\"Bosnia and Herzegovina\",\"Lebanon\",\"Sri Lanka\",\"Congo, Dem. Rep.\",\"Sao Tome and Principe\",\"Macao SAR, China\",\"Cuba\",\"Malawi\",\"Malaysia\",\"Sub-Saharan Africa\",\"Sub-Saharan Africa (IDA & IBRD countries)\",\"Sub-Saharan Africa (excluding high income)\",\"Brunei Darussalam\",\"Venezuela, RB\",\"Ghana\",\"Barbados\",\"Macedonia, FYR\",\"IDA blend\",\"Albania\",\"Italy\",\"Antigua and Barbuda\",\"Fiji\",\"Kuwait\",\"Mauritius\",\"St. Vincent and the Grenadines\",\"Nigeria\",\"Sudan\",\"Burundi\",\"Malta\",\"Spain\",\"Grenada\",\"OECD members\",\"Other small states\",\"Kyrgyz Republic\",\"Austria\",\"France\",\"Finland\",\"Namibia\",\"Bahamas, The\",\"Greece\",\"Switzerland\",\"Cote d'Ivoire\",\"Euro area\",\"High income\",\"Luxembourg\",\"Australia\",\"Croatia\",\"Tajikistan\",\"Cameroon\",\"Chad\",\"Post-demographic dividend\",\"Germany\",\"Micronesia, Fed. Sts.\",\"Tonga\",\"Small states\",\"Slovenia\",\"Argentina\",\"Belgium\",\"Ireland\",\"European Union\",\"Turkmenistan\",\"Puerto Rico\",\"Canada\",\"Georgia\",\"Suriname\",\"Philippines\",\"Montenegro\",\"New Zealand\",\"Cyprus\",\"Jamaica\",\"Channel Islands\",\"United Kingdom\",\"Uganda\",\"Israel\",\"Belize\",\"Central African Republic\",\"Caribbean small states\",\"Aruba\",\"Azerbaijan\",\"Kenya\",\"North America\",\"United States\",\"Botswana\",\"Uzbekistan\",\"Poland\",\"Iceland\",\"Uruguay\",\"Sweden\",\"Paraguay\",\"Europe & Central Asia\",\"Kazakhstan\",\"Armenia\",\"Norway\",\"Czech Republic\",\"Netherlands\",\"Zambia\",\"Central Europe and the Baltics\",\"Congo, Rep.\",\"Denmark\",\"Moldova\",\"Romania\",\"Trinidad and Tobago\",\"Europe & Central Asia (IDA & IBRD countries)\",\"Hungary\",\"Guyana\",\"Europe & Central Asia (excluding high income)\",\"Estonia\",\"Slovak Republic\",\"Bulgaria\",\"South Africa\",\"Swaziland\",\"Lithuania\",\"Latvia\",\"Belarus\",\"Russian Federation\",\"Ukraine\",\"Lesotho\",\"Zimbabwe\",\"American Samoa\",\"Andorra\",\"Bermuda\",\"British Virgin Islands\",\"Cayman Islands\",\"Curacao\",\"Dominica\",\"Faroe Islands\",\"Gibraltar\",\"Greenland\",\"Isle of Man\",\"Kosovo\",\"Liechtenstein\",\"Marshall Islands\",\"Monaco\",\"Nauru\",\"Northern Mariana Islands\",\"Palau\",\"San Marino\",\"Serbia\",\"Seychelles\",\"Sint Maarten (Dutch part)\",\"St. Kitts and Nevis\",\"St. Martin (French part)\",\"Turks and Caicos Islands\",\"Tuvalu\",\"West Bank and Gaza\"],\"yaxis\":\"y\",\"type\":\"bar\"}],                        {\"template\":{\"data\":{\"histogram2dcontour\":[{\"type\":\"histogram2dcontour\",\"colorbar\":{\"outlinewidth\":0,\"ticks\":\"\"},\"colorscale\":[[0.0,\"#0d0887\"],[0.1111111111111111,\"#46039f\"],[0.2222222222222222,\"#7201a8\"],[0.3333333333333333,\"#9c179e\"],[0.4444444444444444,\"#bd3786\"],[0.5555555555555556,\"#d8576b\"],[0.6666666666666666,\"#ed7953\"],[0.7777777777777778,\"#fb9f3a\"],[0.8888888888888888,\"#fdca26\"],[1.0,\"#f0f921\"]]}],\"choropleth\":[{\"type\":\"choropleth\",\"colorbar\":{\"outlinewidth\":0,\"ticks\":\"\"}}],\"histogram2d\":[{\"type\":\"histogram2d\",\"colorbar\":{\"outlinewidth\":0,\"ticks\":\"\"},\"colorscale\":[[0.0,\"#0d0887\"],[0.1111111111111111,\"#46039f\"],[0.2222222222222222,\"#7201a8\"],[0.3333333333333333,\"#9c179e\"],[0.4444444444444444,\"#bd3786\"],[0.5555555555555556,\"#d8576b\"],[0.6666666666666666,\"#ed7953\"],[0.7777777777777778,\"#fb9f3a\"],[0.8888888888888888,\"#fdca26\"],[1.0,\"#f0f921\"]]}],\"heatmap\":[{\"type\":\"heatmap\",\"colorbar\":{\"outlinewidth\":0,\"ticks\":\"\"},\"colorscale\":[[0.0,\"#0d0887\"],[0.1111111111111111,\"#46039f\"],[0.2222222222222222,\"#7201a8\"],[0.3333333333333333,\"#9c179e\"],[0.4444444444444444,\"#bd3786\"],[0.5555555555555556,\"#d8576b\"],[0.6666666666666666,\"#ed7953\"],[0.7777777777777778,\"#fb9f3a\"],[0.8888888888888888,\"#fdca26\"],[1.0,\"#f0f921\"]]}],\"heatmapgl\":[{\"type\":\"heatmapgl\",\"colorbar\":{\"outlinewidth\":0,\"ticks\":\"\"},\"colorscale\":[[0.0,\"#0d0887\"],[0.1111111111111111,\"#46039f\"],[0.2222222222222222,\"#7201a8\"],[0.3333333333333333,\"#9c179e\"],[0.4444444444444444,\"#bd3786\"],[0.5555555555555556,\"#d8576b\"],[0.6666666666666666,\"#ed7953\"],[0.7777777777777778,\"#fb9f3a\"],[0.8888888888888888,\"#fdca26\"],[1.0,\"#f0f921\"]]}],\"contourcarpet\":[{\"type\":\"contourcarpet\",\"colorbar\":{\"outlinewidth\":0,\"ticks\":\"\"}}],\"contour\":[{\"type\":\"contour\",\"colorbar\":{\"outlinewidth\":0,\"ticks\":\"\"},\"colorscale\":[[0.0,\"#0d0887\"],[0.1111111111111111,\"#46039f\"],[0.2222222222222222,\"#7201a8\"],[0.3333333333333333,\"#9c179e\"],[0.4444444444444444,\"#bd3786\"],[0.5555555555555556,\"#d8576b\"],[0.6666666666666666,\"#ed7953\"],[0.7777777777777778,\"#fb9f3a\"],[0.8888888888888888,\"#fdca26\"],[1.0,\"#f0f921\"]]}],\"surface\":[{\"type\":\"surface\",\"colorbar\":{\"outlinewidth\":0,\"ticks\":\"\"},\"colorscale\":[[0.0,\"#0d0887\"],[0.1111111111111111,\"#46039f\"],[0.2222222222222222,\"#7201a8\"],[0.3333333333333333,\"#9c179e\"],[0.4444444444444444,\"#bd3786\"],[0.5555555555555556,\"#d8576b\"],[0.6666666666666666,\"#ed7953\"],[0.7777777777777778,\"#fb9f3a\"],[0.8888888888888888,\"#fdca26\"],[1.0,\"#f0f921\"]]}],\"mesh3d\":[{\"type\":\"mesh3d\",\"colorbar\":{\"outlinewidth\":0,\"ticks\":\"\"}}],\"scatter\":[{\"fillpattern\":{\"fillmode\":\"overlay\",\"size\":10,\"solidity\":0.2},\"type\":\"scatter\"}],\"parcoords\":[{\"type\":\"parcoords\",\"line\":{\"colorbar\":{\"outlinewidth\":0,\"ticks\":\"\"}}}],\"scatterpolargl\":[{\"type\":\"scatterpolargl\",\"marker\":{\"colorbar\":{\"outlinewidth\":0,\"ticks\":\"\"}}}],\"bar\":[{\"error_x\":{\"color\":\"#2a3f5f\"},\"error_y\":{\"color\":\"#2a3f5f\"},\"marker\":{\"line\":{\"color\":\"#E5ECF6\",\"width\":0.5},\"pattern\":{\"fillmode\":\"overlay\",\"size\":10,\"solidity\":0.2}},\"type\":\"bar\"}],\"scattergeo\":[{\"type\":\"scattergeo\",\"marker\":{\"colorbar\":{\"outlinewidth\":0,\"ticks\":\"\"}}}],\"scatterpolar\":[{\"type\":\"scatterpolar\",\"marker\":{\"colorbar\":{\"outlinewidth\":0,\"ticks\":\"\"}}}],\"histogram\":[{\"marker\":{\"pattern\":{\"fillmode\":\"overlay\",\"size\":10,\"solidity\":0.2}},\"type\":\"histogram\"}],\"scattergl\":[{\"type\":\"scattergl\",\"marker\":{\"colorbar\":{\"outlinewidth\":0,\"ticks\":\"\"}}}],\"scatter3d\":[{\"type\":\"scatter3d\",\"line\":{\"colorbar\":{\"outlinewidth\":0,\"ticks\":\"\"}},\"marker\":{\"colorbar\":{\"outlinewidth\":0,\"ticks\":\"\"}}}],\"scattermapbox\":[{\"type\":\"scattermapbox\",\"marker\":{\"colorbar\":{\"outlinewidth\":0,\"ticks\":\"\"}}}],\"scatterternary\":[{\"type\":\"scatterternary\",\"marker\":{\"colorbar\":{\"outlinewidth\":0,\"ticks\":\"\"}}}],\"scattercarpet\":[{\"type\":\"scattercarpet\",\"marker\":{\"colorbar\":{\"outlinewidth\":0,\"ticks\":\"\"}}}],\"carpet\":[{\"aaxis\":{\"endlinecolor\":\"#2a3f5f\",\"gridcolor\":\"white\",\"linecolor\":\"white\",\"minorgridcolor\":\"white\",\"startlinecolor\":\"#2a3f5f\"},\"baxis\":{\"endlinecolor\":\"#2a3f5f\",\"gridcolor\":\"white\",\"linecolor\":\"white\",\"minorgridcolor\":\"white\",\"startlinecolor\":\"#2a3f5f\"},\"type\":\"carpet\"}],\"table\":[{\"cells\":{\"fill\":{\"color\":\"#EBF0F8\"},\"line\":{\"color\":\"white\"}},\"header\":{\"fill\":{\"color\":\"#C8D4E3\"},\"line\":{\"color\":\"white\"}},\"type\":\"table\"}],\"barpolar\":[{\"marker\":{\"line\":{\"color\":\"#E5ECF6\",\"width\":0.5},\"pattern\":{\"fillmode\":\"overlay\",\"size\":10,\"solidity\":0.2}},\"type\":\"barpolar\"}],\"pie\":[{\"automargin\":true,\"type\":\"pie\"}]},\"layout\":{\"autotypenumbers\":\"strict\",\"colorway\":[\"#636efa\",\"#EF553B\",\"#00cc96\",\"#ab63fa\",\"#FFA15A\",\"#19d3f3\",\"#FF6692\",\"#B6E880\",\"#FF97FF\",\"#FECB52\"],\"font\":{\"color\":\"#2a3f5f\"},\"hovermode\":\"closest\",\"hoverlabel\":{\"align\":\"left\"},\"paper_bgcolor\":\"white\",\"plot_bgcolor\":\"#E5ECF6\",\"polar\":{\"bgcolor\":\"#E5ECF6\",\"angularaxis\":{\"gridcolor\":\"white\",\"linecolor\":\"white\",\"ticks\":\"\"},\"radialaxis\":{\"gridcolor\":\"white\",\"linecolor\":\"white\",\"ticks\":\"\"}},\"ternary\":{\"bgcolor\":\"#E5ECF6\",\"aaxis\":{\"gridcolor\":\"white\",\"linecolor\":\"white\",\"ticks\":\"\"},\"baxis\":{\"gridcolor\":\"white\",\"linecolor\":\"white\",\"ticks\":\"\"},\"caxis\":{\"gridcolor\":\"white\",\"linecolor\":\"white\",\"ticks\":\"\"}},\"coloraxis\":{\"colorbar\":{\"outlinewidth\":0,\"ticks\":\"\"}},\"colorscale\":{\"sequential\":[[0.0,\"#0d0887\"],[0.1111111111111111,\"#46039f\"],[0.2222222222222222,\"#7201a8\"],[0.3333333333333333,\"#9c179e\"],[0.4444444444444444,\"#bd3786\"],[0.5555555555555556,\"#d8576b\"],[0.6666666666666666,\"#ed7953\"],[0.7777777777777778,\"#fb9f3a\"],[0.8888888888888888,\"#fdca26\"],[1.0,\"#f0f921\"]],\"sequentialminus\":[[0.0,\"#0d0887\"],[0.1111111111111111,\"#46039f\"],[0.2222222222222222,\"#7201a8\"],[0.3333333333333333,\"#9c179e\"],[0.4444444444444444,\"#bd3786\"],[0.5555555555555556,\"#d8576b\"],[0.6666666666666666,\"#ed7953\"],[0.7777777777777778,\"#fb9f3a\"],[0.8888888888888888,\"#fdca26\"],[1.0,\"#f0f921\"]],\"diverging\":[[0,\"#8e0152\"],[0.1,\"#c51b7d\"],[0.2,\"#de77ae\"],[0.3,\"#f1b6da\"],[0.4,\"#fde0ef\"],[0.5,\"#f7f7f7\"],[0.6,\"#e6f5d0\"],[0.7,\"#b8e186\"],[0.8,\"#7fbc41\"],[0.9,\"#4d9221\"],[1,\"#276419\"]]},\"xaxis\":{\"gridcolor\":\"white\",\"linecolor\":\"white\",\"ticks\":\"\",\"title\":{\"standoff\":15},\"zerolinecolor\":\"white\",\"automargin\":true,\"zerolinewidth\":2},\"yaxis\":{\"gridcolor\":\"white\",\"linecolor\":\"white\",\"ticks\":\"\",\"title\":{\"standoff\":15},\"zerolinecolor\":\"white\",\"automargin\":true,\"zerolinewidth\":2},\"scene\":{\"xaxis\":{\"backgroundcolor\":\"#E5ECF6\",\"gridcolor\":\"white\",\"linecolor\":\"white\",\"showbackground\":true,\"ticks\":\"\",\"zerolinecolor\":\"white\",\"gridwidth\":2},\"yaxis\":{\"backgroundcolor\":\"#E5ECF6\",\"gridcolor\":\"white\",\"linecolor\":\"white\",\"showbackground\":true,\"ticks\":\"\",\"zerolinecolor\":\"white\",\"gridwidth\":2},\"zaxis\":{\"backgroundcolor\":\"#E5ECF6\",\"gridcolor\":\"white\",\"linecolor\":\"white\",\"showbackground\":true,\"ticks\":\"\",\"zerolinecolor\":\"white\",\"gridwidth\":2}},\"shapedefaults\":{\"line\":{\"color\":\"#2a3f5f\"}},\"annotationdefaults\":{\"arrowcolor\":\"#2a3f5f\",\"arrowhead\":0,\"arrowwidth\":1},\"geo\":{\"bgcolor\":\"white\",\"landcolor\":\"#E5ECF6\",\"subunitcolor\":\"white\",\"showland\":true,\"showlakes\":true,\"lakecolor\":\"white\"},\"title\":{\"x\":0.05},\"mapbox\":{\"style\":\"light\"}}},\"xaxis\":{\"anchor\":\"y\",\"domain\":[0.0,1.0],\"title\":{\"text\":\"Increase in Life Expectancy (years)\"}},\"yaxis\":{\"anchor\":\"x\",\"domain\":[0.0,1.0],\"title\":{\"text\":\"Country\"}},\"legend\":{\"tracegroupgap\":0},\"margin\":{\"t\":60},\"barmode\":\"relative\",\"title\":{\"text\":\"Difference in Life Expectancy between 1962 and 2007 by Country\"}},                        {\"responsive\": true}                    ).then(function(){\n",
       "                            \n",
       "var gd = document.getElementById('3c7bd976-6734-4f04-b646-7f7adeec07db');\n",
       "var x = new MutationObserver(function (mutations, observer) {{\n",
       "        var display = window.getComputedStyle(gd).display;\n",
       "        if (!display || display === 'none') {{\n",
       "            console.log([gd, 'removed!']);\n",
       "            Plotly.purge(gd);\n",
       "            observer.disconnect();\n",
       "        }}\n",
       "}});\n",
       "\n",
       "// Listen for the removal of the full notebook cells\n",
       "var notebookContainer = gd.closest('#notebook-container');\n",
       "if (notebookContainer) {{\n",
       "    x.observe(notebookContainer, {childList: true});\n",
       "}}\n",
       "\n",
       "// Listen for the clearing of the current output cell\n",
       "var outputEl = gd.closest('.output');\n",
       "if (outputEl) {{\n",
       "    x.observe(outputEl, {childList: true});\n",
       "}}\n",
       "\n",
       "                        })                };                });            </script>        </div>"
      ]
     },
     "metadata": {},
     "output_type": "display_data"
    }
   ],
   "source": [
    "# Sort the countries by increase in life expectancy in descending order\n",
    "df_pivot_sorted = df_pivot.sort_values(by='diff', ascending=False)\n",
    "\n",
    "# Create a bar chart of the difference in life expectancy between 1962 and 2007 for each country\n",
    "fig = px.bar(df_pivot_sorted, x='diff', y=df_pivot_sorted.index, orientation='h', text='diff')\n",
    "\n",
    "# Title and axis\n",
    "fig.update_layout(title='Difference in Life Expectancy between 1962 and 2007 by Country',\n",
    "                  xaxis_title='Increase in Life Expectancy (years)', yaxis_title='Country')\n",
    "\n",
    "# Show the plot\n",
    "fig.show()"
   ]
  },
  {
   "cell_type": "markdown",
   "id": "6f65aca6",
   "metadata": {},
   "source": [
    "##### Explaining the code:\n",
    "First, we create a new DataFrame containing only data from the years 1962 to 2007. We then pivot the DataFrame to have separate columns for each year, and calculate the differences in life expectancy between 1962 and 2007 for each country. We then find the country or countries with the greatest increase in life expectancy, and print out the result. We sort the countries by the increase in life expectancy in descending order, and create an interactive bar chart for easy visualization. "
   ]
  }
 ],
 "metadata": {
  "kernelspec": {
   "display_name": "Python 3 (ipykernel)",
   "language": "python",
   "name": "python3"
  },
  "language_info": {
   "codemirror_mode": {
    "name": "ipython",
    "version": 3
   },
   "file_extension": ".py",
   "mimetype": "text/x-python",
   "name": "python",
   "nbconvert_exporter": "python",
   "pygments_lexer": "ipython3",
   "version": "3.9.13"
  }
 },
 "nbformat": 4,
 "nbformat_minor": 5
}
